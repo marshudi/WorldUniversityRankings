{
 "cells": [
  {
   "cell_type": "markdown",
   "metadata": {},
   "source": [
    "##### Names: \n",
    "#####      Mohammed Amour Al-Marshudi ~ 16S194\n",
    "#####   \t\t   Israa Dawood Al-Rashdi     ~ 1618134\n",
    "        \n",
    "        \n",
    "  ##  _____________________________________________________      \n",
    "        \n",
    "        \n",
    "##### Data From: https://www.kaggle.com/datasets/mylesoneill/world-university-rankings?select=cwurData.csv\n",
    "  \n",
    "  \n",
    "##    Topic: World University Rankings"
   ]
  },
  {
   "cell_type": "markdown",
   "metadata": {},
   "source": [
    "# First we need to import pandas to create a DataFrame and use some function \n",
    "# Second we need to import numpy to use some functions"
   ]
  },
  {
   "cell_type": "code",
   "execution_count": 196,
   "metadata": {},
   "outputs": [],
   "source": [
    "import pandas as pd\n",
    "import numpy as np\n",
    "from sklearn.metrics import r2_score,mean_squared_error,mean_absolute_error\n",
    "from mlxtend.feature_selection import ExhaustiveFeatureSelector"
   ]
  },
  {
   "cell_type": "code",
   "execution_count": 197,
   "metadata": {},
   "outputs": [
    {
     "data": {
      "text/html": [
       "<div>\n",
       "<style scoped>\n",
       "    .dataframe tbody tr th:only-of-type {\n",
       "        vertical-align: middle;\n",
       "    }\n",
       "\n",
       "    .dataframe tbody tr th {\n",
       "        vertical-align: top;\n",
       "    }\n",
       "\n",
       "    .dataframe thead th {\n",
       "        text-align: right;\n",
       "    }\n",
       "</style>\n",
       "<table border=\"1\" class=\"dataframe\">\n",
       "  <thead>\n",
       "    <tr style=\"text-align: right;\">\n",
       "      <th></th>\n",
       "      <th>world_rank</th>\n",
       "      <th>institution</th>\n",
       "      <th>country</th>\n",
       "      <th>national_rank</th>\n",
       "      <th>quality_of_education</th>\n",
       "      <th>alumni_employment</th>\n",
       "      <th>quality_of_faculty</th>\n",
       "      <th>publications</th>\n",
       "      <th>influence</th>\n",
       "      <th>citations</th>\n",
       "      <th>broad_impact</th>\n",
       "      <th>patents</th>\n",
       "      <th>score</th>\n",
       "      <th>year</th>\n",
       "    </tr>\n",
       "  </thead>\n",
       "  <tbody>\n",
       "    <tr>\n",
       "      <th>0</th>\n",
       "      <td>1.0</td>\n",
       "      <td>Harvard University</td>\n",
       "      <td>USA</td>\n",
       "      <td>1</td>\n",
       "      <td>7</td>\n",
       "      <td>9</td>\n",
       "      <td>1</td>\n",
       "      <td>1</td>\n",
       "      <td>1</td>\n",
       "      <td>1</td>\n",
       "      <td>NaN</td>\n",
       "      <td>5</td>\n",
       "      <td>100.00</td>\n",
       "      <td>2012</td>\n",
       "    </tr>\n",
       "    <tr>\n",
       "      <th>1</th>\n",
       "      <td>2.0</td>\n",
       "      <td>Massachusetts Institute of Technology</td>\n",
       "      <td>USA</td>\n",
       "      <td>2</td>\n",
       "      <td>9</td>\n",
       "      <td>17</td>\n",
       "      <td>3</td>\n",
       "      <td>12</td>\n",
       "      <td>4</td>\n",
       "      <td>4</td>\n",
       "      <td>NaN</td>\n",
       "      <td>1</td>\n",
       "      <td>91.67</td>\n",
       "      <td>2012</td>\n",
       "    </tr>\n",
       "    <tr>\n",
       "      <th>2</th>\n",
       "      <td>3.0</td>\n",
       "      <td>Stanford University</td>\n",
       "      <td>USA</td>\n",
       "      <td>3</td>\n",
       "      <td>17</td>\n",
       "      <td>11</td>\n",
       "      <td>5</td>\n",
       "      <td>4</td>\n",
       "      <td>2</td>\n",
       "      <td>2</td>\n",
       "      <td>NaN</td>\n",
       "      <td>15</td>\n",
       "      <td>89.50</td>\n",
       "      <td>2012</td>\n",
       "    </tr>\n",
       "    <tr>\n",
       "      <th>3</th>\n",
       "      <td>3.0</td>\n",
       "      <td>Stanford University</td>\n",
       "      <td>USA</td>\n",
       "      <td>3</td>\n",
       "      <td>17</td>\n",
       "      <td>11</td>\n",
       "      <td>5</td>\n",
       "      <td>4</td>\n",
       "      <td>2</td>\n",
       "      <td>2</td>\n",
       "      <td>NaN</td>\n",
       "      <td>15</td>\n",
       "      <td>89.50</td>\n",
       "      <td>2012</td>\n",
       "    </tr>\n",
       "    <tr>\n",
       "      <th>4</th>\n",
       "      <td>4.0</td>\n",
       "      <td>University of Cambridge</td>\n",
       "      <td>United Kingdom</td>\n",
       "      <td>1</td>\n",
       "      <td>10</td>\n",
       "      <td>24</td>\n",
       "      <td>4</td>\n",
       "      <td>16</td>\n",
       "      <td>16</td>\n",
       "      <td>11</td>\n",
       "      <td>NaN</td>\n",
       "      <td>50</td>\n",
       "      <td>86.17</td>\n",
       "      <td>2012</td>\n",
       "    </tr>\n",
       "    <tr>\n",
       "      <th>...</th>\n",
       "      <td>...</td>\n",
       "      <td>...</td>\n",
       "      <td>...</td>\n",
       "      <td>...</td>\n",
       "      <td>...</td>\n",
       "      <td>...</td>\n",
       "      <td>...</td>\n",
       "      <td>...</td>\n",
       "      <td>...</td>\n",
       "      <td>...</td>\n",
       "      <td>...</td>\n",
       "      <td>...</td>\n",
       "      <td>...</td>\n",
       "      <td>...</td>\n",
       "    </tr>\n",
       "    <tr>\n",
       "      <th>2197</th>\n",
       "      <td>996.0</td>\n",
       "      <td>University of the Algarve</td>\n",
       "      <td>Portugal</td>\n",
       "      <td>7</td>\n",
       "      <td>367</td>\n",
       "      <td>567</td>\n",
       "      <td>218</td>\n",
       "      <td>926</td>\n",
       "      <td>845</td>\n",
       "      <td>812</td>\n",
       "      <td>969.0</td>\n",
       "      <td>816</td>\n",
       "      <td>44.03</td>\n",
       "      <td>2015</td>\n",
       "    </tr>\n",
       "    <tr>\n",
       "      <th>2198</th>\n",
       "      <td>997.0</td>\n",
       "      <td>Alexandria University</td>\n",
       "      <td>Egypt</td>\n",
       "      <td>4</td>\n",
       "      <td>236</td>\n",
       "      <td>566</td>\n",
       "      <td>218</td>\n",
       "      <td>997</td>\n",
       "      <td>908</td>\n",
       "      <td>645</td>\n",
       "      <td>981.0</td>\n",
       "      <td>871</td>\n",
       "      <td>44.03</td>\n",
       "      <td>2015</td>\n",
       "    </tr>\n",
       "    <tr>\n",
       "      <th>2199</th>\n",
       "      <td>998.0</td>\n",
       "      <td>Federal University of Ceará</td>\n",
       "      <td>Brazil</td>\n",
       "      <td>18</td>\n",
       "      <td>367</td>\n",
       "      <td>549</td>\n",
       "      <td>218</td>\n",
       "      <td>830</td>\n",
       "      <td>823</td>\n",
       "      <td>812</td>\n",
       "      <td>975.0</td>\n",
       "      <td>824</td>\n",
       "      <td>44.03</td>\n",
       "      <td>2015</td>\n",
       "    </tr>\n",
       "    <tr>\n",
       "      <th>2200</th>\n",
       "      <td>999.0</td>\n",
       "      <td>University of A Coruña</td>\n",
       "      <td>Spain</td>\n",
       "      <td>40</td>\n",
       "      <td>367</td>\n",
       "      <td>567</td>\n",
       "      <td>218</td>\n",
       "      <td>886</td>\n",
       "      <td>974</td>\n",
       "      <td>812</td>\n",
       "      <td>975.0</td>\n",
       "      <td>651</td>\n",
       "      <td>44.02</td>\n",
       "      <td>2015</td>\n",
       "    </tr>\n",
       "    <tr>\n",
       "      <th>2201</th>\n",
       "      <td>1000.0</td>\n",
       "      <td>China Pharmaceutical University</td>\n",
       "      <td>China</td>\n",
       "      <td>83</td>\n",
       "      <td>367</td>\n",
       "      <td>567</td>\n",
       "      <td>218</td>\n",
       "      <td>861</td>\n",
       "      <td>991</td>\n",
       "      <td>812</td>\n",
       "      <td>981.0</td>\n",
       "      <td>547</td>\n",
       "      <td>44.02</td>\n",
       "      <td>2015</td>\n",
       "    </tr>\n",
       "  </tbody>\n",
       "</table>\n",
       "<p>2202 rows × 14 columns</p>\n",
       "</div>"
      ],
      "text/plain": [
       "      world_rank                            institution         country  \\\n",
       "0            1.0                     Harvard University             USA   \n",
       "1            2.0  Massachusetts Institute of Technology             USA   \n",
       "2            3.0                    Stanford University             USA   \n",
       "3            3.0                    Stanford University             USA   \n",
       "4            4.0                University of Cambridge  United Kingdom   \n",
       "...          ...                                    ...             ...   \n",
       "2197       996.0              University of the Algarve        Portugal   \n",
       "2198       997.0                  Alexandria University           Egypt   \n",
       "2199       998.0            Federal University of Ceará          Brazil   \n",
       "2200       999.0                 University of A Coruña           Spain   \n",
       "2201      1000.0        China Pharmaceutical University           China   \n",
       "\n",
       "      national_rank  quality_of_education  alumni_employment  \\\n",
       "0                 1                     7                  9   \n",
       "1                 2                     9                 17   \n",
       "2                 3                    17                 11   \n",
       "3                 3                    17                 11   \n",
       "4                 1                    10                 24   \n",
       "...             ...                   ...                ...   \n",
       "2197              7                   367                567   \n",
       "2198              4                   236                566   \n",
       "2199             18                   367                549   \n",
       "2200             40                   367                567   \n",
       "2201             83                   367                567   \n",
       "\n",
       "      quality_of_faculty  publications  influence  citations  broad_impact  \\\n",
       "0                      1             1          1          1           NaN   \n",
       "1                      3            12          4          4           NaN   \n",
       "2                      5             4          2          2           NaN   \n",
       "3                      5             4          2          2           NaN   \n",
       "4                      4            16         16         11           NaN   \n",
       "...                  ...           ...        ...        ...           ...   \n",
       "2197                 218           926        845        812         969.0   \n",
       "2198                 218           997        908        645         981.0   \n",
       "2199                 218           830        823        812         975.0   \n",
       "2200                 218           886        974        812         975.0   \n",
       "2201                 218           861        991        812         981.0   \n",
       "\n",
       "      patents   score  year  \n",
       "0           5  100.00  2012  \n",
       "1           1   91.67  2012  \n",
       "2          15   89.50  2012  \n",
       "3          15   89.50  2012  \n",
       "4          50   86.17  2012  \n",
       "...       ...     ...   ...  \n",
       "2197      816   44.03  2015  \n",
       "2198      871   44.03  2015  \n",
       "2199      824   44.03  2015  \n",
       "2200      651   44.02  2015  \n",
       "2201      547   44.02  2015  \n",
       "\n",
       "[2202 rows x 14 columns]"
      ]
     },
     "execution_count": 197,
     "metadata": {},
     "output_type": "execute_result"
    }
   ],
   "source": [
    "wur=pd.read_csv(\"WorldUniversityRankings.csv\")\n",
    "wur"
   ]
  },
  {
   "cell_type": "markdown",
   "metadata": {},
   "source": [
    "# Data Cleaning"
   ]
  },
  {
   "cell_type": "markdown",
   "metadata": {},
   "source": [
    "# 1. we need to **drop(clean)** some useless columns in table\n",
    "\n"
   ]
  },
  {
   "cell_type": "markdown",
   "metadata": {},
   "source": [
    "# - no need for these columns:\n",
    "\t \n",
    "    \n",
    "    \"alumni_employment\"\n",
    "    \"publications\"\n",
    "    \"influence\"\n",
    "    \"broad_impact\"\n",
    "    \"patents\""
   ]
  },
  {
   "cell_type": "code",
   "execution_count": 198,
   "metadata": {},
   "outputs": [],
   "source": [
    "wur=wur.drop(columns={\"alumni_employment\",\"publications\",\"influence\",\"broad_impact\",\"patents\"})"
   ]
  },
  {
   "cell_type": "code",
   "execution_count": 199,
   "metadata": {},
   "outputs": [
    {
     "data": {
      "text/html": [
       "<div>\n",
       "<style scoped>\n",
       "    .dataframe tbody tr th:only-of-type {\n",
       "        vertical-align: middle;\n",
       "    }\n",
       "\n",
       "    .dataframe tbody tr th {\n",
       "        vertical-align: top;\n",
       "    }\n",
       "\n",
       "    .dataframe thead th {\n",
       "        text-align: right;\n",
       "    }\n",
       "</style>\n",
       "<table border=\"1\" class=\"dataframe\">\n",
       "  <thead>\n",
       "    <tr style=\"text-align: right;\">\n",
       "      <th></th>\n",
       "      <th>world_rank</th>\n",
       "      <th>institution</th>\n",
       "      <th>country</th>\n",
       "      <th>national_rank</th>\n",
       "      <th>quality_of_education</th>\n",
       "      <th>quality_of_faculty</th>\n",
       "      <th>citations</th>\n",
       "      <th>score</th>\n",
       "      <th>year</th>\n",
       "    </tr>\n",
       "  </thead>\n",
       "  <tbody>\n",
       "    <tr>\n",
       "      <th>0</th>\n",
       "      <td>1.0</td>\n",
       "      <td>Harvard University</td>\n",
       "      <td>USA</td>\n",
       "      <td>1</td>\n",
       "      <td>7</td>\n",
       "      <td>1</td>\n",
       "      <td>1</td>\n",
       "      <td>100.00</td>\n",
       "      <td>2012</td>\n",
       "    </tr>\n",
       "    <tr>\n",
       "      <th>1</th>\n",
       "      <td>2.0</td>\n",
       "      <td>Massachusetts Institute of Technology</td>\n",
       "      <td>USA</td>\n",
       "      <td>2</td>\n",
       "      <td>9</td>\n",
       "      <td>3</td>\n",
       "      <td>4</td>\n",
       "      <td>91.67</td>\n",
       "      <td>2012</td>\n",
       "    </tr>\n",
       "    <tr>\n",
       "      <th>2</th>\n",
       "      <td>3.0</td>\n",
       "      <td>Stanford University</td>\n",
       "      <td>USA</td>\n",
       "      <td>3</td>\n",
       "      <td>17</td>\n",
       "      <td>5</td>\n",
       "      <td>2</td>\n",
       "      <td>89.50</td>\n",
       "      <td>2012</td>\n",
       "    </tr>\n",
       "    <tr>\n",
       "      <th>3</th>\n",
       "      <td>3.0</td>\n",
       "      <td>Stanford University</td>\n",
       "      <td>USA</td>\n",
       "      <td>3</td>\n",
       "      <td>17</td>\n",
       "      <td>5</td>\n",
       "      <td>2</td>\n",
       "      <td>89.50</td>\n",
       "      <td>2012</td>\n",
       "    </tr>\n",
       "    <tr>\n",
       "      <th>4</th>\n",
       "      <td>4.0</td>\n",
       "      <td>University of Cambridge</td>\n",
       "      <td>United Kingdom</td>\n",
       "      <td>1</td>\n",
       "      <td>10</td>\n",
       "      <td>4</td>\n",
       "      <td>11</td>\n",
       "      <td>86.17</td>\n",
       "      <td>2012</td>\n",
       "    </tr>\n",
       "    <tr>\n",
       "      <th>...</th>\n",
       "      <td>...</td>\n",
       "      <td>...</td>\n",
       "      <td>...</td>\n",
       "      <td>...</td>\n",
       "      <td>...</td>\n",
       "      <td>...</td>\n",
       "      <td>...</td>\n",
       "      <td>...</td>\n",
       "      <td>...</td>\n",
       "    </tr>\n",
       "    <tr>\n",
       "      <th>2197</th>\n",
       "      <td>996.0</td>\n",
       "      <td>University of the Algarve</td>\n",
       "      <td>Portugal</td>\n",
       "      <td>7</td>\n",
       "      <td>367</td>\n",
       "      <td>218</td>\n",
       "      <td>812</td>\n",
       "      <td>44.03</td>\n",
       "      <td>2015</td>\n",
       "    </tr>\n",
       "    <tr>\n",
       "      <th>2198</th>\n",
       "      <td>997.0</td>\n",
       "      <td>Alexandria University</td>\n",
       "      <td>Egypt</td>\n",
       "      <td>4</td>\n",
       "      <td>236</td>\n",
       "      <td>218</td>\n",
       "      <td>645</td>\n",
       "      <td>44.03</td>\n",
       "      <td>2015</td>\n",
       "    </tr>\n",
       "    <tr>\n",
       "      <th>2199</th>\n",
       "      <td>998.0</td>\n",
       "      <td>Federal University of Ceará</td>\n",
       "      <td>Brazil</td>\n",
       "      <td>18</td>\n",
       "      <td>367</td>\n",
       "      <td>218</td>\n",
       "      <td>812</td>\n",
       "      <td>44.03</td>\n",
       "      <td>2015</td>\n",
       "    </tr>\n",
       "    <tr>\n",
       "      <th>2200</th>\n",
       "      <td>999.0</td>\n",
       "      <td>University of A Coruña</td>\n",
       "      <td>Spain</td>\n",
       "      <td>40</td>\n",
       "      <td>367</td>\n",
       "      <td>218</td>\n",
       "      <td>812</td>\n",
       "      <td>44.02</td>\n",
       "      <td>2015</td>\n",
       "    </tr>\n",
       "    <tr>\n",
       "      <th>2201</th>\n",
       "      <td>1000.0</td>\n",
       "      <td>China Pharmaceutical University</td>\n",
       "      <td>China</td>\n",
       "      <td>83</td>\n",
       "      <td>367</td>\n",
       "      <td>218</td>\n",
       "      <td>812</td>\n",
       "      <td>44.02</td>\n",
       "      <td>2015</td>\n",
       "    </tr>\n",
       "  </tbody>\n",
       "</table>\n",
       "<p>2202 rows × 9 columns</p>\n",
       "</div>"
      ],
      "text/plain": [
       "      world_rank                            institution         country  \\\n",
       "0            1.0                     Harvard University             USA   \n",
       "1            2.0  Massachusetts Institute of Technology             USA   \n",
       "2            3.0                    Stanford University             USA   \n",
       "3            3.0                    Stanford University             USA   \n",
       "4            4.0                University of Cambridge  United Kingdom   \n",
       "...          ...                                    ...             ...   \n",
       "2197       996.0              University of the Algarve        Portugal   \n",
       "2198       997.0                  Alexandria University           Egypt   \n",
       "2199       998.0            Federal University of Ceará          Brazil   \n",
       "2200       999.0                 University of A Coruña           Spain   \n",
       "2201      1000.0        China Pharmaceutical University           China   \n",
       "\n",
       "      national_rank  quality_of_education  quality_of_faculty  citations  \\\n",
       "0                 1                     7                   1          1   \n",
       "1                 2                     9                   3          4   \n",
       "2                 3                    17                   5          2   \n",
       "3                 3                    17                   5          2   \n",
       "4                 1                    10                   4         11   \n",
       "...             ...                   ...                 ...        ...   \n",
       "2197              7                   367                 218        812   \n",
       "2198              4                   236                 218        645   \n",
       "2199             18                   367                 218        812   \n",
       "2200             40                   367                 218        812   \n",
       "2201             83                   367                 218        812   \n",
       "\n",
       "       score  year  \n",
       "0     100.00  2012  \n",
       "1      91.67  2012  \n",
       "2      89.50  2012  \n",
       "3      89.50  2012  \n",
       "4      86.17  2012  \n",
       "...      ...   ...  \n",
       "2197   44.03  2015  \n",
       "2198   44.03  2015  \n",
       "2199   44.03  2015  \n",
       "2200   44.02  2015  \n",
       "2201   44.02  2015  \n",
       "\n",
       "[2202 rows x 9 columns]"
      ]
     },
     "execution_count": 199,
     "metadata": {},
     "output_type": "execute_result"
    }
   ],
   "source": [
    "wur"
   ]
  },
  {
   "cell_type": "markdown",
   "metadata": {},
   "source": [
    "#  ###############################################################"
   ]
  },
  {
   "cell_type": "code",
   "execution_count": 200,
   "metadata": {},
   "outputs": [
    {
     "data": {
      "text/html": [
       "<div>\n",
       "<style scoped>\n",
       "    .dataframe tbody tr th:only-of-type {\n",
       "        vertical-align: middle;\n",
       "    }\n",
       "\n",
       "    .dataframe tbody tr th {\n",
       "        vertical-align: top;\n",
       "    }\n",
       "\n",
       "    .dataframe thead th {\n",
       "        text-align: right;\n",
       "    }\n",
       "</style>\n",
       "<table border=\"1\" class=\"dataframe\">\n",
       "  <thead>\n",
       "    <tr style=\"text-align: right;\">\n",
       "      <th></th>\n",
       "      <th>world_rank</th>\n",
       "      <th>institution</th>\n",
       "      <th>country</th>\n",
       "      <th>national_rank</th>\n",
       "      <th>quality_of_education</th>\n",
       "      <th>quality_of_faculty</th>\n",
       "      <th>citations</th>\n",
       "      <th>score</th>\n",
       "      <th>year</th>\n",
       "    </tr>\n",
       "  </thead>\n",
       "  <tbody>\n",
       "    <tr>\n",
       "      <th>101</th>\n",
       "      <td>1.0</td>\n",
       "      <td>Harvard University</td>\n",
       "      <td>USA</td>\n",
       "      <td>1</td>\n",
       "      <td>1</td>\n",
       "      <td>1</td>\n",
       "      <td>1</td>\n",
       "      <td>100.00</td>\n",
       "      <td>2013</td>\n",
       "    </tr>\n",
       "    <tr>\n",
       "      <th>102</th>\n",
       "      <td>2.0</td>\n",
       "      <td>Stanford University</td>\n",
       "      <td>USA</td>\n",
       "      <td>2</td>\n",
       "      <td>11</td>\n",
       "      <td>4</td>\n",
       "      <td>2</td>\n",
       "      <td>93.94</td>\n",
       "      <td>2013</td>\n",
       "    </tr>\n",
       "    <tr>\n",
       "      <th>103</th>\n",
       "      <td>3.0</td>\n",
       "      <td>University of Oxford</td>\n",
       "      <td>United Kingdom</td>\n",
       "      <td>1</td>\n",
       "      <td>7</td>\n",
       "      <td>10</td>\n",
       "      <td>13</td>\n",
       "      <td>92.54</td>\n",
       "      <td>2013</td>\n",
       "    </tr>\n",
       "    <tr>\n",
       "      <th>104</th>\n",
       "      <td>4.0</td>\n",
       "      <td>Massachusetts Institute of Technology</td>\n",
       "      <td>USA</td>\n",
       "      <td>3</td>\n",
       "      <td>2</td>\n",
       "      <td>2</td>\n",
       "      <td>3</td>\n",
       "      <td>91.45</td>\n",
       "      <td>2013</td>\n",
       "    </tr>\n",
       "    <tr>\n",
       "      <th>105</th>\n",
       "      <td>5.0</td>\n",
       "      <td>University of Cambridge</td>\n",
       "      <td>United Kingdom</td>\n",
       "      <td>2</td>\n",
       "      <td>3</td>\n",
       "      <td>5</td>\n",
       "      <td>10</td>\n",
       "      <td>90.24</td>\n",
       "      <td>2013</td>\n",
       "    </tr>\n",
       "    <tr>\n",
       "      <th>...</th>\n",
       "      <td>...</td>\n",
       "      <td>...</td>\n",
       "      <td>...</td>\n",
       "      <td>...</td>\n",
       "      <td>...</td>\n",
       "      <td>...</td>\n",
       "      <td>...</td>\n",
       "      <td>...</td>\n",
       "      <td>...</td>\n",
       "    </tr>\n",
       "    <tr>\n",
       "      <th>197</th>\n",
       "      <td>96.0</td>\n",
       "      <td>Australian National University</td>\n",
       "      <td>Australia</td>\n",
       "      <td>2</td>\n",
       "      <td>101</td>\n",
       "      <td>43</td>\n",
       "      <td>101</td>\n",
       "      <td>44.50</td>\n",
       "      <td>2013</td>\n",
       "    </tr>\n",
       "    <tr>\n",
       "      <th>198</th>\n",
       "      <td>97.0</td>\n",
       "      <td>University of Alberta</td>\n",
       "      <td>Canada</td>\n",
       "      <td>4</td>\n",
       "      <td>101</td>\n",
       "      <td>101</td>\n",
       "      <td>92</td>\n",
       "      <td>44.50</td>\n",
       "      <td>2013</td>\n",
       "    </tr>\n",
       "    <tr>\n",
       "      <th>199</th>\n",
       "      <td>98.0</td>\n",
       "      <td>University of Helsinki</td>\n",
       "      <td>Finland</td>\n",
       "      <td>1</td>\n",
       "      <td>69</td>\n",
       "      <td>81</td>\n",
       "      <td>71</td>\n",
       "      <td>44.39</td>\n",
       "      <td>2013</td>\n",
       "    </tr>\n",
       "    <tr>\n",
       "      <th>200</th>\n",
       "      <td>99.0</td>\n",
       "      <td>Paris Diderot University - Paris 7</td>\n",
       "      <td>France</td>\n",
       "      <td>5</td>\n",
       "      <td>28</td>\n",
       "      <td>72</td>\n",
       "      <td>101</td>\n",
       "      <td>44.36</td>\n",
       "      <td>2013</td>\n",
       "    </tr>\n",
       "    <tr>\n",
       "      <th>201</th>\n",
       "      <td>100.0</td>\n",
       "      <td>Georgia Institute of Technology</td>\n",
       "      <td>USA</td>\n",
       "      <td>57</td>\n",
       "      <td>101</td>\n",
       "      <td>101</td>\n",
       "      <td>43</td>\n",
       "      <td>44.26</td>\n",
       "      <td>2013</td>\n",
       "    </tr>\n",
       "  </tbody>\n",
       "</table>\n",
       "<p>99 rows × 9 columns</p>\n",
       "</div>"
      ],
      "text/plain": [
       "     world_rank                            institution         country  \\\n",
       "101         1.0                     Harvard University             USA   \n",
       "102         2.0                    Stanford University             USA   \n",
       "103         3.0                   University of Oxford  United Kingdom   \n",
       "104         4.0  Massachusetts Institute of Technology             USA   \n",
       "105         5.0                University of Cambridge  United Kingdom   \n",
       "..          ...                                    ...             ...   \n",
       "197        96.0         Australian National University       Australia   \n",
       "198        97.0                  University of Alberta          Canada   \n",
       "199        98.0                 University of Helsinki         Finland   \n",
       "200        99.0     Paris Diderot University - Paris 7          France   \n",
       "201       100.0        Georgia Institute of Technology             USA   \n",
       "\n",
       "     national_rank  quality_of_education  quality_of_faculty  citations  \\\n",
       "101              1                     1                   1          1   \n",
       "102              2                    11                   4          2   \n",
       "103              1                     7                  10         13   \n",
       "104              3                     2                   2          3   \n",
       "105              2                     3                   5         10   \n",
       "..             ...                   ...                 ...        ...   \n",
       "197              2                   101                  43        101   \n",
       "198              4                   101                 101         92   \n",
       "199              1                    69                  81         71   \n",
       "200              5                    28                  72        101   \n",
       "201             57                   101                 101         43   \n",
       "\n",
       "      score  year  \n",
       "101  100.00  2013  \n",
       "102   93.94  2013  \n",
       "103   92.54  2013  \n",
       "104   91.45  2013  \n",
       "105   90.24  2013  \n",
       "..      ...   ...  \n",
       "197   44.50  2013  \n",
       "198   44.50  2013  \n",
       "199   44.39  2013  \n",
       "200   44.36  2013  \n",
       "201   44.26  2013  \n",
       "\n",
       "[99 rows x 9 columns]"
      ]
     },
     "execution_count": 200,
     "metadata": {},
     "output_type": "execute_result"
    }
   ],
   "source": [
    "#divide the table acording to the year \n",
    "wur[(wur[\"year\"]==\"2013\")]\n"
   ]
  },
  {
   "cell_type": "code",
   "execution_count": null,
   "metadata": {},
   "outputs": [],
   "source": []
  },
  {
   "cell_type": "code",
   "execution_count": 201,
   "metadata": {},
   "outputs": [],
   "source": [
    "# check if there are any duplicated rows in the datasets and drop it "
   ]
  },
  {
   "cell_type": "code",
   "execution_count": 202,
   "metadata": {},
   "outputs": [
    {
     "data": {
      "text/html": [
       "<div>\n",
       "<style scoped>\n",
       "    .dataframe tbody tr th:only-of-type {\n",
       "        vertical-align: middle;\n",
       "    }\n",
       "\n",
       "    .dataframe tbody tr th {\n",
       "        vertical-align: top;\n",
       "    }\n",
       "\n",
       "    .dataframe thead th {\n",
       "        text-align: right;\n",
       "    }\n",
       "</style>\n",
       "<table border=\"1\" class=\"dataframe\">\n",
       "  <thead>\n",
       "    <tr style=\"text-align: right;\">\n",
       "      <th></th>\n",
       "      <th>world_rank</th>\n",
       "      <th>institution</th>\n",
       "      <th>country</th>\n",
       "      <th>national_rank</th>\n",
       "      <th>quality_of_education</th>\n",
       "      <th>quality_of_faculty</th>\n",
       "      <th>citations</th>\n",
       "      <th>score</th>\n",
       "      <th>year</th>\n",
       "    </tr>\n",
       "  </thead>\n",
       "  <tbody>\n",
       "  </tbody>\n",
       "</table>\n",
       "</div>"
      ],
      "text/plain": [
       "Empty DataFrame\n",
       "Columns: [world_rank, institution, country, national_rank, quality_of_education, quality_of_faculty, citations, score, year]\n",
       "Index: []"
      ]
     },
     "execution_count": 202,
     "metadata": {},
     "output_type": "execute_result"
    }
   ],
   "source": [
    "# check if there are any duplicated rows in the datasets\n",
    "\n",
    "wur[(wur[\"world_rank\"].duplicated()) & (wur[\"year\"]==2012)]"
   ]
  },
  {
   "cell_type": "code",
   "execution_count": 203,
   "metadata": {},
   "outputs": [
    {
     "data": {
      "text/html": [
       "<div>\n",
       "<style scoped>\n",
       "    .dataframe tbody tr th:only-of-type {\n",
       "        vertical-align: middle;\n",
       "    }\n",
       "\n",
       "    .dataframe tbody tr th {\n",
       "        vertical-align: top;\n",
       "    }\n",
       "\n",
       "    .dataframe thead th {\n",
       "        text-align: right;\n",
       "    }\n",
       "</style>\n",
       "<table border=\"1\" class=\"dataframe\">\n",
       "  <thead>\n",
       "    <tr style=\"text-align: right;\">\n",
       "      <th></th>\n",
       "      <th>world_rank</th>\n",
       "      <th>institution</th>\n",
       "      <th>country</th>\n",
       "      <th>national_rank</th>\n",
       "      <th>quality_of_education</th>\n",
       "      <th>quality_of_faculty</th>\n",
       "      <th>citations</th>\n",
       "      <th>score</th>\n",
       "      <th>year</th>\n",
       "    </tr>\n",
       "  </thead>\n",
       "  <tbody>\n",
       "  </tbody>\n",
       "</table>\n",
       "</div>"
      ],
      "text/plain": [
       "Empty DataFrame\n",
       "Columns: [world_rank, institution, country, national_rank, quality_of_education, quality_of_faculty, citations, score, year]\n",
       "Index: []"
      ]
     },
     "execution_count": 203,
     "metadata": {},
     "output_type": "execute_result"
    }
   ],
   "source": [
    "wur[(wur[\"year\"]==2013) & (wur[\"world_rank\"].duplicated())]"
   ]
  },
  {
   "cell_type": "code",
   "execution_count": null,
   "metadata": {},
   "outputs": [],
   "source": []
  },
  {
   "cell_type": "markdown",
   "metadata": {},
   "source": [
    "### as we can see we cannot manipulate the data because the year is is having\n",
    "### \"null values\" and \"wrong data type\""
   ]
  },
  {
   "cell_type": "markdown",
   "metadata": {},
   "source": [
    "#  #########################################################"
   ]
  },
  {
   "cell_type": "code",
   "execution_count": null,
   "metadata": {},
   "outputs": [],
   "source": []
  },
  {
   "cell_type": "markdown",
   "metadata": {},
   "source": [
    "# 2. we need to find and check any **null or wrong** values in the dataset"
   ]
  },
  {
   "cell_type": "code",
   "execution_count": 204,
   "metadata": {},
   "outputs": [
    {
     "data": {
      "text/html": [
       "<div>\n",
       "<style scoped>\n",
       "    .dataframe tbody tr th:only-of-type {\n",
       "        vertical-align: middle;\n",
       "    }\n",
       "\n",
       "    .dataframe tbody tr th {\n",
       "        vertical-align: top;\n",
       "    }\n",
       "\n",
       "    .dataframe thead th {\n",
       "        text-align: right;\n",
       "    }\n",
       "</style>\n",
       "<table border=\"1\" class=\"dataframe\">\n",
       "  <thead>\n",
       "    <tr style=\"text-align: right;\">\n",
       "      <th></th>\n",
       "      <th>world_rank</th>\n",
       "      <th>institution</th>\n",
       "      <th>country</th>\n",
       "      <th>national_rank</th>\n",
       "      <th>quality_of_education</th>\n",
       "      <th>quality_of_faculty</th>\n",
       "      <th>citations</th>\n",
       "      <th>score</th>\n",
       "      <th>year</th>\n",
       "    </tr>\n",
       "  </thead>\n",
       "  <tbody>\n",
       "    <tr>\n",
       "      <th>0</th>\n",
       "      <td>1.0</td>\n",
       "      <td>Harvard University</td>\n",
       "      <td>USA</td>\n",
       "      <td>1</td>\n",
       "      <td>7</td>\n",
       "      <td>1</td>\n",
       "      <td>1</td>\n",
       "      <td>100.00</td>\n",
       "      <td>2012</td>\n",
       "    </tr>\n",
       "    <tr>\n",
       "      <th>1</th>\n",
       "      <td>2.0</td>\n",
       "      <td>Massachusetts Institute of Technology</td>\n",
       "      <td>USA</td>\n",
       "      <td>2</td>\n",
       "      <td>9</td>\n",
       "      <td>3</td>\n",
       "      <td>4</td>\n",
       "      <td>91.67</td>\n",
       "      <td>2012</td>\n",
       "    </tr>\n",
       "    <tr>\n",
       "      <th>2</th>\n",
       "      <td>3.0</td>\n",
       "      <td>Stanford University</td>\n",
       "      <td>USA</td>\n",
       "      <td>3</td>\n",
       "      <td>17</td>\n",
       "      <td>5</td>\n",
       "      <td>2</td>\n",
       "      <td>89.50</td>\n",
       "      <td>2012</td>\n",
       "    </tr>\n",
       "    <tr>\n",
       "      <th>3</th>\n",
       "      <td>3.0</td>\n",
       "      <td>Stanford University</td>\n",
       "      <td>USA</td>\n",
       "      <td>3</td>\n",
       "      <td>17</td>\n",
       "      <td>5</td>\n",
       "      <td>2</td>\n",
       "      <td>89.50</td>\n",
       "      <td>2012</td>\n",
       "    </tr>\n",
       "    <tr>\n",
       "      <th>4</th>\n",
       "      <td>4.0</td>\n",
       "      <td>University of Cambridge</td>\n",
       "      <td>United Kingdom</td>\n",
       "      <td>1</td>\n",
       "      <td>10</td>\n",
       "      <td>4</td>\n",
       "      <td>11</td>\n",
       "      <td>86.17</td>\n",
       "      <td>2012</td>\n",
       "    </tr>\n",
       "    <tr>\n",
       "      <th>...</th>\n",
       "      <td>...</td>\n",
       "      <td>...</td>\n",
       "      <td>...</td>\n",
       "      <td>...</td>\n",
       "      <td>...</td>\n",
       "      <td>...</td>\n",
       "      <td>...</td>\n",
       "      <td>...</td>\n",
       "      <td>...</td>\n",
       "    </tr>\n",
       "    <tr>\n",
       "      <th>2197</th>\n",
       "      <td>996.0</td>\n",
       "      <td>University of the Algarve</td>\n",
       "      <td>Portugal</td>\n",
       "      <td>7</td>\n",
       "      <td>367</td>\n",
       "      <td>218</td>\n",
       "      <td>812</td>\n",
       "      <td>44.03</td>\n",
       "      <td>2015</td>\n",
       "    </tr>\n",
       "    <tr>\n",
       "      <th>2198</th>\n",
       "      <td>997.0</td>\n",
       "      <td>Alexandria University</td>\n",
       "      <td>Egypt</td>\n",
       "      <td>4</td>\n",
       "      <td>236</td>\n",
       "      <td>218</td>\n",
       "      <td>645</td>\n",
       "      <td>44.03</td>\n",
       "      <td>2015</td>\n",
       "    </tr>\n",
       "    <tr>\n",
       "      <th>2199</th>\n",
       "      <td>998.0</td>\n",
       "      <td>Federal University of Ceará</td>\n",
       "      <td>Brazil</td>\n",
       "      <td>18</td>\n",
       "      <td>367</td>\n",
       "      <td>218</td>\n",
       "      <td>812</td>\n",
       "      <td>44.03</td>\n",
       "      <td>2015</td>\n",
       "    </tr>\n",
       "    <tr>\n",
       "      <th>2200</th>\n",
       "      <td>999.0</td>\n",
       "      <td>University of A Coruña</td>\n",
       "      <td>Spain</td>\n",
       "      <td>40</td>\n",
       "      <td>367</td>\n",
       "      <td>218</td>\n",
       "      <td>812</td>\n",
       "      <td>44.02</td>\n",
       "      <td>2015</td>\n",
       "    </tr>\n",
       "    <tr>\n",
       "      <th>2201</th>\n",
       "      <td>1000.0</td>\n",
       "      <td>China Pharmaceutical University</td>\n",
       "      <td>China</td>\n",
       "      <td>83</td>\n",
       "      <td>367</td>\n",
       "      <td>218</td>\n",
       "      <td>812</td>\n",
       "      <td>44.02</td>\n",
       "      <td>2015</td>\n",
       "    </tr>\n",
       "  </tbody>\n",
       "</table>\n",
       "<p>2202 rows × 9 columns</p>\n",
       "</div>"
      ],
      "text/plain": [
       "      world_rank                            institution         country  \\\n",
       "0            1.0                     Harvard University             USA   \n",
       "1            2.0  Massachusetts Institute of Technology             USA   \n",
       "2            3.0                    Stanford University             USA   \n",
       "3            3.0                    Stanford University             USA   \n",
       "4            4.0                University of Cambridge  United Kingdom   \n",
       "...          ...                                    ...             ...   \n",
       "2197       996.0              University of the Algarve        Portugal   \n",
       "2198       997.0                  Alexandria University           Egypt   \n",
       "2199       998.0            Federal University of Ceará          Brazil   \n",
       "2200       999.0                 University of A Coruña           Spain   \n",
       "2201      1000.0        China Pharmaceutical University           China   \n",
       "\n",
       "      national_rank  quality_of_education  quality_of_faculty  citations  \\\n",
       "0                 1                     7                   1          1   \n",
       "1                 2                     9                   3          4   \n",
       "2                 3                    17                   5          2   \n",
       "3                 3                    17                   5          2   \n",
       "4                 1                    10                   4         11   \n",
       "...             ...                   ...                 ...        ...   \n",
       "2197              7                   367                 218        812   \n",
       "2198              4                   236                 218        645   \n",
       "2199             18                   367                 218        812   \n",
       "2200             40                   367                 218        812   \n",
       "2201             83                   367                 218        812   \n",
       "\n",
       "       score  year  \n",
       "0     100.00  2012  \n",
       "1      91.67  2012  \n",
       "2      89.50  2012  \n",
       "3      89.50  2012  \n",
       "4      86.17  2012  \n",
       "...      ...   ...  \n",
       "2197   44.03  2015  \n",
       "2198   44.03  2015  \n",
       "2199   44.03  2015  \n",
       "2200   44.02  2015  \n",
       "2201   44.02  2015  \n",
       "\n",
       "[2202 rows x 9 columns]"
      ]
     },
     "execution_count": 204,
     "metadata": {},
     "output_type": "execute_result"
    }
   ],
   "source": [
    "wur"
   ]
  },
  {
   "cell_type": "code",
   "execution_count": 205,
   "metadata": {},
   "outputs": [
    {
     "data": {
      "text/plain": [
       "world_rank               9\n",
       "institution              0\n",
       "country                  1\n",
       "national_rank            0\n",
       "quality_of_education     0\n",
       "quality_of_faculty       0\n",
       "citations                0\n",
       "score                    6\n",
       "year                    16\n",
       "dtype: int64"
      ]
     },
     "execution_count": 205,
     "metadata": {},
     "output_type": "execute_result"
    }
   ],
   "source": [
    "wur.isnull().sum()"
   ]
  },
  {
   "cell_type": "code",
   "execution_count": null,
   "metadata": {},
   "outputs": [],
   "source": []
  },
  {
   "cell_type": "code",
   "execution_count": 206,
   "metadata": {},
   "outputs": [
    {
     "data": {
      "text/plain": [
       "array(['USA', 'United Kingdom', 'Japan', 'Switzerland', 'Israel',\n",
       "       'Canada', 'France', 'Sweden', 'South Korea', 'Italy', 'Germany',\n",
       "       'Netherlands', 'Finland', 'Norway', 'Australia', 'Denmark',\n",
       "       'Singapore', 'Russia', '?', 'China', 'Taiwan', nan, 'Belgium',\n",
       "       'South Africa', 'Spain', 'Brazil', 'Hong Kong', 'Ireland',\n",
       "       'Austria', 'New Zealand', 'Portugal', 'Thailand', 'Czech Republic',\n",
       "       'Malaysia', 'India', 'Greece', 'Mexico', 'Hungary', 'Argentina',\n",
       "       'Turkey', 'Poland', 'Saudi Arabia', 'Chile', 'Iceland', 'Slovenia',\n",
       "       'Estonia', 'Lebanon', 'Croatia', 'Colombia', 'Slovak Republic',\n",
       "       'Iran', 'Egypt', 'Serbia', 'Bulgaria', 'Lithuania', 'Uganda',\n",
       "       'United Arab Emirates', 'Uruguay', 'Cyprus', 'Romania',\n",
       "       'Puerto Rico'], dtype=object)"
      ]
     },
     "execution_count": 206,
     "metadata": {},
     "output_type": "execute_result"
    }
   ],
   "source": [
    "wur[\"country\"].unique()"
   ]
  },
  {
   "cell_type": "code",
   "execution_count": 207,
   "metadata": {},
   "outputs": [],
   "source": [
    "#replace country \"?\" with null values\n",
    "wur[\"country\"].replace(\"?\",np.nan,inplace=True)"
   ]
  },
  {
   "cell_type": "code",
   "execution_count": 208,
   "metadata": {},
   "outputs": [],
   "source": [
    "#replace year \"?\" with null values\n",
    "wur[\"year\"].replace(\"?\",np.nan,inplace=True)"
   ]
  },
  {
   "cell_type": "code",
   "execution_count": 209,
   "metadata": {},
   "outputs": [
    {
     "data": {
      "text/plain": [
       "array(['2012', nan, '2013', '2014', '2015'], dtype=object)"
      ]
     },
     "execution_count": 209,
     "metadata": {},
     "output_type": "execute_result"
    }
   ],
   "source": [
    "wur[\"year\"].unique()"
   ]
  },
  {
   "cell_type": "code",
   "execution_count": 210,
   "metadata": {},
   "outputs": [
    {
     "data": {
      "text/plain": [
       "array(['USA', 'United Kingdom', 'Japan', 'Switzerland', 'Israel',\n",
       "       'Canada', 'France', 'Sweden', 'South Korea', 'Italy', 'Germany',\n",
       "       'Netherlands', 'Finland', 'Norway', 'Australia', 'Denmark',\n",
       "       'Singapore', 'Russia', nan, 'China', 'Taiwan', 'Belgium',\n",
       "       'South Africa', 'Spain', 'Brazil', 'Hong Kong', 'Ireland',\n",
       "       'Austria', 'New Zealand', 'Portugal', 'Thailand', 'Czech Republic',\n",
       "       'Malaysia', 'India', 'Greece', 'Mexico', 'Hungary', 'Argentina',\n",
       "       'Turkey', 'Poland', 'Saudi Arabia', 'Chile', 'Iceland', 'Slovenia',\n",
       "       'Estonia', 'Lebanon', 'Croatia', 'Colombia', 'Slovak Republic',\n",
       "       'Iran', 'Egypt', 'Serbia', 'Bulgaria', 'Lithuania', 'Uganda',\n",
       "       'United Arab Emirates', 'Uruguay', 'Cyprus', 'Romania',\n",
       "       'Puerto Rico'], dtype=object)"
      ]
     },
     "execution_count": 210,
     "metadata": {},
     "output_type": "execute_result"
    }
   ],
   "source": [
    "wur[\"country\"].unique()"
   ]
  },
  {
   "cell_type": "markdown",
   "metadata": {},
   "source": [
    "# 3. we need to fill the table **with appropriate** values in the dataset"
   ]
  },
  {
   "cell_type": "code",
   "execution_count": 211,
   "metadata": {},
   "outputs": [],
   "source": [
    "#the right method to fill for \"year\" is forward filling \n",
    "\n",
    "wur[\"year\"].fillna(method=\"ffill\",inplace=True)"
   ]
  },
  {
   "cell_type": "code",
   "execution_count": 212,
   "metadata": {},
   "outputs": [],
   "source": [
    "wur=wur.astype({\"year\":int})"
   ]
  },
  {
   "cell_type": "code",
   "execution_count": 213,
   "metadata": {},
   "outputs": [
    {
     "data": {
      "text/plain": [
       "world_rank              float64\n",
       "institution              object\n",
       "country                  object\n",
       "national_rank             int64\n",
       "quality_of_education      int64\n",
       "quality_of_faculty        int64\n",
       "citations                 int64\n",
       "score                   float64\n",
       "year                      int32\n",
       "dtype: object"
      ]
     },
     "execution_count": 213,
     "metadata": {},
     "output_type": "execute_result"
    }
   ],
   "source": [
    "wur.dtypes"
   ]
  },
  {
   "cell_type": "code",
   "execution_count": 214,
   "metadata": {},
   "outputs": [
    {
     "data": {
      "text/plain": [
       "world_rank              9\n",
       "institution             0\n",
       "country                 2\n",
       "national_rank           0\n",
       "quality_of_education    0\n",
       "quality_of_faculty      0\n",
       "citations               0\n",
       "score                   6\n",
       "year                    0\n",
       "dtype: int64"
      ]
     },
     "execution_count": 214,
     "metadata": {},
     "output_type": "execute_result"
    }
   ],
   "source": [
    "wur.isnull().sum()"
   ]
  },
  {
   "cell_type": "code",
   "execution_count": 215,
   "metadata": {},
   "outputs": [
    {
     "data": {
      "text/html": [
       "<div>\n",
       "<style scoped>\n",
       "    .dataframe tbody tr th:only-of-type {\n",
       "        vertical-align: middle;\n",
       "    }\n",
       "\n",
       "    .dataframe tbody tr th {\n",
       "        vertical-align: top;\n",
       "    }\n",
       "\n",
       "    .dataframe thead th {\n",
       "        text-align: right;\n",
       "    }\n",
       "</style>\n",
       "<table border=\"1\" class=\"dataframe\">\n",
       "  <thead>\n",
       "    <tr style=\"text-align: right;\">\n",
       "      <th></th>\n",
       "      <th>world_rank</th>\n",
       "      <th>institution</th>\n",
       "      <th>country</th>\n",
       "      <th>national_rank</th>\n",
       "      <th>quality_of_education</th>\n",
       "      <th>quality_of_faculty</th>\n",
       "      <th>citations</th>\n",
       "      <th>score</th>\n",
       "      <th>year</th>\n",
       "    </tr>\n",
       "  </thead>\n",
       "  <tbody>\n",
       "    <tr>\n",
       "      <th>24</th>\n",
       "      <td>NaN</td>\n",
       "      <td>University of California, San Francisco</td>\n",
       "      <td>USA</td>\n",
       "      <td>17</td>\n",
       "      <td>101</td>\n",
       "      <td>21</td>\n",
       "      <td>13</td>\n",
       "      <td>59.70</td>\n",
       "      <td>2012</td>\n",
       "    </tr>\n",
       "    <tr>\n",
       "      <th>212</th>\n",
       "      <td>NaN</td>\n",
       "      <td>Cornell University</td>\n",
       "      <td>USA</td>\n",
       "      <td>9</td>\n",
       "      <td>12</td>\n",
       "      <td>19</td>\n",
       "      <td>23</td>\n",
       "      <td>85.80</td>\n",
       "      <td>2014</td>\n",
       "    </tr>\n",
       "    <tr>\n",
       "      <th>535</th>\n",
       "      <td>NaN</td>\n",
       "      <td>Gwangju Institute of Science and Technology</td>\n",
       "      <td>South Korea</td>\n",
       "      <td>9</td>\n",
       "      <td>355</td>\n",
       "      <td>210</td>\n",
       "      <td>406</td>\n",
       "      <td>46.02</td>\n",
       "      <td>2014</td>\n",
       "    </tr>\n",
       "    <tr>\n",
       "      <th>584</th>\n",
       "      <td>NaN</td>\n",
       "      <td>Scuola Normale Superiore di Pisa</td>\n",
       "      <td>Italy</td>\n",
       "      <td>16</td>\n",
       "      <td>229</td>\n",
       "      <td>64</td>\n",
       "      <td>363</td>\n",
       "      <td>45.63</td>\n",
       "      <td>2014</td>\n",
       "    </tr>\n",
       "    <tr>\n",
       "      <th>633</th>\n",
       "      <td>NaN</td>\n",
       "      <td>University of Bordeaux I</td>\n",
       "      <td>France</td>\n",
       "      <td>17</td>\n",
       "      <td>355</td>\n",
       "      <td>210</td>\n",
       "      <td>406</td>\n",
       "      <td>45.41</td>\n",
       "      <td>2014</td>\n",
       "    </tr>\n",
       "    <tr>\n",
       "      <th>1244</th>\n",
       "      <td>NaN</td>\n",
       "      <td>Purdue University, West Lafayette</td>\n",
       "      <td>USA</td>\n",
       "      <td>27</td>\n",
       "      <td>55</td>\n",
       "      <td>47</td>\n",
       "      <td>68</td>\n",
       "      <td>56.39</td>\n",
       "      <td>2015</td>\n",
       "    </tr>\n",
       "    <tr>\n",
       "      <th>1254</th>\n",
       "      <td>NaN</td>\n",
       "      <td>University of California, Davis</td>\n",
       "      <td>USA</td>\n",
       "      <td>36</td>\n",
       "      <td>54</td>\n",
       "      <td>59</td>\n",
       "      <td>35</td>\n",
       "      <td>54.85</td>\n",
       "      <td>2015</td>\n",
       "    </tr>\n",
       "    <tr>\n",
       "      <th>1405</th>\n",
       "      <td>NaN</td>\n",
       "      <td>University of Erlangen-Nuremberg</td>\n",
       "      <td>Germany</td>\n",
       "      <td>13</td>\n",
       "      <td>231</td>\n",
       "      <td>218</td>\n",
       "      <td>146</td>\n",
       "      <td>47.36</td>\n",
       "      <td>2015</td>\n",
       "    </tr>\n",
       "    <tr>\n",
       "      <th>1588</th>\n",
       "      <td>NaN</td>\n",
       "      <td>Catholic University of the Sacred Heart</td>\n",
       "      <td>Italy</td>\n",
       "      <td>18</td>\n",
       "      <td>367</td>\n",
       "      <td>218</td>\n",
       "      <td>321</td>\n",
       "      <td>45.22</td>\n",
       "      <td>2015</td>\n",
       "    </tr>\n",
       "  </tbody>\n",
       "</table>\n",
       "</div>"
      ],
      "text/plain": [
       "      world_rank                                  institution      country  \\\n",
       "24           NaN      University of California, San Francisco          USA   \n",
       "212          NaN                           Cornell University          USA   \n",
       "535          NaN  Gwangju Institute of Science and Technology  South Korea   \n",
       "584          NaN             Scuola Normale Superiore di Pisa        Italy   \n",
       "633          NaN                     University of Bordeaux I       France   \n",
       "1244         NaN            Purdue University, West Lafayette          USA   \n",
       "1254         NaN              University of California, Davis          USA   \n",
       "1405         NaN             University of Erlangen-Nuremberg      Germany   \n",
       "1588         NaN      Catholic University of the Sacred Heart        Italy   \n",
       "\n",
       "      national_rank  quality_of_education  quality_of_faculty  citations  \\\n",
       "24               17                   101                  21         13   \n",
       "212               9                    12                  19         23   \n",
       "535               9                   355                 210        406   \n",
       "584              16                   229                  64        363   \n",
       "633              17                   355                 210        406   \n",
       "1244             27                    55                  47         68   \n",
       "1254             36                    54                  59         35   \n",
       "1405             13                   231                 218        146   \n",
       "1588             18                   367                 218        321   \n",
       "\n",
       "      score  year  \n",
       "24    59.70  2012  \n",
       "212   85.80  2014  \n",
       "535   46.02  2014  \n",
       "584   45.63  2014  \n",
       "633   45.41  2014  \n",
       "1244  56.39  2015  \n",
       "1254  54.85  2015  \n",
       "1405  47.36  2015  \n",
       "1588  45.22  2015  "
      ]
     },
     "execution_count": 215,
     "metadata": {},
     "output_type": "execute_result"
    }
   ],
   "source": [
    "# null world_rank\n",
    "wur[wur[\"world_rank\"].isnull()]"
   ]
  },
  {
   "cell_type": "code",
   "execution_count": 216,
   "metadata": {},
   "outputs": [
    {
     "data": {
      "text/html": [
       "<div>\n",
       "<style scoped>\n",
       "    .dataframe tbody tr th:only-of-type {\n",
       "        vertical-align: middle;\n",
       "    }\n",
       "\n",
       "    .dataframe tbody tr th {\n",
       "        vertical-align: top;\n",
       "    }\n",
       "\n",
       "    .dataframe thead th {\n",
       "        text-align: right;\n",
       "    }\n",
       "</style>\n",
       "<table border=\"1\" class=\"dataframe\">\n",
       "  <thead>\n",
       "    <tr style=\"text-align: right;\">\n",
       "      <th></th>\n",
       "      <th>world_rank</th>\n",
       "      <th>institution</th>\n",
       "      <th>country</th>\n",
       "      <th>national_rank</th>\n",
       "      <th>quality_of_education</th>\n",
       "      <th>quality_of_faculty</th>\n",
       "      <th>citations</th>\n",
       "      <th>score</th>\n",
       "      <th>year</th>\n",
       "    </tr>\n",
       "  </thead>\n",
       "  <tbody>\n",
       "    <tr>\n",
       "      <th>8</th>\n",
       "      <td>8.0</td>\n",
       "      <td>Yale University</td>\n",
       "      <td>USA</td>\n",
       "      <td>6</td>\n",
       "      <td>14</td>\n",
       "      <td>12</td>\n",
       "      <td>15</td>\n",
       "      <td>NaN</td>\n",
       "      <td>2012</td>\n",
       "    </tr>\n",
       "    <tr>\n",
       "      <th>33</th>\n",
       "      <td>33.0</td>\n",
       "      <td>Northwestern University</td>\n",
       "      <td>USA</td>\n",
       "      <td>23</td>\n",
       "      <td>101</td>\n",
       "      <td>101</td>\n",
       "      <td>20</td>\n",
       "      <td>NaN</td>\n",
       "      <td>2012</td>\n",
       "    </tr>\n",
       "    <tr>\n",
       "      <th>221</th>\n",
       "      <td>20.0</td>\n",
       "      <td>University of California, San Diego</td>\n",
       "      <td>USA</td>\n",
       "      <td>15</td>\n",
       "      <td>32</td>\n",
       "      <td>20</td>\n",
       "      <td>19</td>\n",
       "      <td>NaN</td>\n",
       "      <td>2014</td>\n",
       "    </tr>\n",
       "    <tr>\n",
       "      <th>330</th>\n",
       "      <td>129.0</td>\n",
       "      <td>Radboud University Nijmegen</td>\n",
       "      <td>Netherlands</td>\n",
       "      <td>6</td>\n",
       "      <td>118</td>\n",
       "      <td>210</td>\n",
       "      <td>114</td>\n",
       "      <td>NaN</td>\n",
       "      <td>2014</td>\n",
       "    </tr>\n",
       "    <tr>\n",
       "      <th>408</th>\n",
       "      <td>207.0</td>\n",
       "      <td>University of Georgia</td>\n",
       "      <td>USA</td>\n",
       "      <td>87</td>\n",
       "      <td>104</td>\n",
       "      <td>169</td>\n",
       "      <td>187</td>\n",
       "      <td>NaN</td>\n",
       "      <td>2014</td>\n",
       "    </tr>\n",
       "    <tr>\n",
       "      <th>484</th>\n",
       "      <td>283.0</td>\n",
       "      <td>Chulalongkorn University</td>\n",
       "      <td>Thailand</td>\n",
       "      <td>1</td>\n",
       "      <td>355</td>\n",
       "      <td>210</td>\n",
       "      <td>406</td>\n",
       "      <td>NaN</td>\n",
       "      <td>2014</td>\n",
       "    </tr>\n",
       "  </tbody>\n",
       "</table>\n",
       "</div>"
      ],
      "text/plain": [
       "     world_rank                          institution      country  \\\n",
       "8           8.0                      Yale University          USA   \n",
       "33         33.0              Northwestern University          USA   \n",
       "221        20.0  University of California, San Diego          USA   \n",
       "330       129.0          Radboud University Nijmegen  Netherlands   \n",
       "408       207.0                University of Georgia          USA   \n",
       "484       283.0             Chulalongkorn University     Thailand   \n",
       "\n",
       "     national_rank  quality_of_education  quality_of_faculty  citations  \\\n",
       "8                6                    14                  12         15   \n",
       "33              23                   101                 101         20   \n",
       "221             15                    32                  20         19   \n",
       "330              6                   118                 210        114   \n",
       "408             87                   104                 169        187   \n",
       "484              1                   355                 210        406   \n",
       "\n",
       "     score  year  \n",
       "8      NaN  2012  \n",
       "33     NaN  2012  \n",
       "221    NaN  2014  \n",
       "330    NaN  2014  \n",
       "408    NaN  2014  \n",
       "484    NaN  2014  "
      ]
     },
     "execution_count": 216,
     "metadata": {},
     "output_type": "execute_result"
    }
   ],
   "source": [
    "# null score\n",
    "wur[wur[\"score\"].isnull()]"
   ]
  },
  {
   "cell_type": "code",
   "execution_count": 217,
   "metadata": {},
   "outputs": [
    {
     "data": {
      "text/html": [
       "<div>\n",
       "<style scoped>\n",
       "    .dataframe tbody tr th:only-of-type {\n",
       "        vertical-align: middle;\n",
       "    }\n",
       "\n",
       "    .dataframe tbody tr th {\n",
       "        vertical-align: top;\n",
       "    }\n",
       "\n",
       "    .dataframe thead th {\n",
       "        text-align: right;\n",
       "    }\n",
       "</style>\n",
       "<table border=\"1\" class=\"dataframe\">\n",
       "  <thead>\n",
       "    <tr style=\"text-align: right;\">\n",
       "      <th></th>\n",
       "      <th>world_rank</th>\n",
       "      <th>institution</th>\n",
       "      <th>country</th>\n",
       "      <th>national_rank</th>\n",
       "      <th>quality_of_education</th>\n",
       "      <th>quality_of_faculty</th>\n",
       "      <th>citations</th>\n",
       "      <th>score</th>\n",
       "      <th>year</th>\n",
       "    </tr>\n",
       "  </thead>\n",
       "  <tbody>\n",
       "    <tr>\n",
       "      <th>250</th>\n",
       "      <td>49.0</td>\n",
       "      <td>University of Minnesota, Twin Cities</td>\n",
       "      <td>NaN</td>\n",
       "      <td>31</td>\n",
       "      <td>61</td>\n",
       "      <td>83</td>\n",
       "      <td>29</td>\n",
       "      <td>56.13</td>\n",
       "      <td>2014</td>\n",
       "    </tr>\n",
       "    <tr>\n",
       "      <th>271</th>\n",
       "      <td>70.0</td>\n",
       "      <td>University of Arizona</td>\n",
       "      <td>NaN</td>\n",
       "      <td>45</td>\n",
       "      <td>99</td>\n",
       "      <td>87</td>\n",
       "      <td>37</td>\n",
       "      <td>53.77</td>\n",
       "      <td>2014</td>\n",
       "    </tr>\n",
       "  </tbody>\n",
       "</table>\n",
       "</div>"
      ],
      "text/plain": [
       "     world_rank                           institution country  national_rank  \\\n",
       "250        49.0  University of Minnesota, Twin Cities     NaN             31   \n",
       "271        70.0                 University of Arizona     NaN             45   \n",
       "\n",
       "     quality_of_education  quality_of_faculty  citations  score  year  \n",
       "250                    61                  83         29  56.13  2014  \n",
       "271                    99                  87         37  53.77  2014  "
      ]
     },
     "execution_count": 217,
     "metadata": {},
     "output_type": "execute_result"
    }
   ],
   "source": [
    "# null country\n",
    "wur[wur[\"country\"].isnull()]"
   ]
  },
  {
   "cell_type": "markdown",
   "metadata": {},
   "source": [
    "# divide the table acording to the year "
   ]
  },
  {
   "cell_type": "code",
   "execution_count": 218,
   "metadata": {},
   "outputs": [],
   "source": [
    "\n",
    "wur12=wur[(wur[\"year\"]==2012)]\n",
    "wur13=wur[(wur[\"year\"]==2013)]\n",
    "wur14=wur[(wur[\"year\"]==2014)]\n",
    "wur15=wur[(wur[\"year\"]==2015)]"
   ]
  },
  {
   "cell_type": "markdown",
   "metadata": {},
   "source": [
    "# check if there are any duplicated rows in the datasets and drop it \n"
   ]
  },
  {
   "cell_type": "code",
   "execution_count": 219,
   "metadata": {},
   "outputs": [
    {
     "data": {
      "text/html": [
       "<div>\n",
       "<style scoped>\n",
       "    .dataframe tbody tr th:only-of-type {\n",
       "        vertical-align: middle;\n",
       "    }\n",
       "\n",
       "    .dataframe tbody tr th {\n",
       "        vertical-align: top;\n",
       "    }\n",
       "\n",
       "    .dataframe thead th {\n",
       "        text-align: right;\n",
       "    }\n",
       "</style>\n",
       "<table border=\"1\" class=\"dataframe\">\n",
       "  <thead>\n",
       "    <tr style=\"text-align: right;\">\n",
       "      <th></th>\n",
       "      <th>world_rank</th>\n",
       "      <th>institution</th>\n",
       "      <th>country</th>\n",
       "      <th>national_rank</th>\n",
       "      <th>quality_of_education</th>\n",
       "      <th>quality_of_faculty</th>\n",
       "      <th>citations</th>\n",
       "      <th>score</th>\n",
       "      <th>year</th>\n",
       "    </tr>\n",
       "  </thead>\n",
       "  <tbody>\n",
       "    <tr>\n",
       "      <th>3</th>\n",
       "      <td>3.0</td>\n",
       "      <td>Stanford University</td>\n",
       "      <td>USA</td>\n",
       "      <td>3</td>\n",
       "      <td>17</td>\n",
       "      <td>5</td>\n",
       "      <td>2</td>\n",
       "      <td>89.5</td>\n",
       "      <td>2012</td>\n",
       "    </tr>\n",
       "  </tbody>\n",
       "</table>\n",
       "</div>"
      ],
      "text/plain": [
       "   world_rank          institution country  national_rank  \\\n",
       "3         3.0  Stanford University     USA              3   \n",
       "\n",
       "   quality_of_education  quality_of_faculty  citations  score  year  \n",
       "3                    17                   5          2   89.5  2012  "
      ]
     },
     "execution_count": 219,
     "metadata": {},
     "output_type": "execute_result"
    }
   ],
   "source": [
    "# check if there are any duplicated rows in the datasets\n",
    "\n",
    "wur12[(wur12[\"world_rank\"].duplicated())]"
   ]
  },
  {
   "cell_type": "code",
   "execution_count": 220,
   "metadata": {},
   "outputs": [],
   "source": [
    "wur12=wur12.drop_duplicates(subset=[\"world_rank\"], keep=False)\n"
   ]
  },
  {
   "cell_type": "code",
   "execution_count": 221,
   "metadata": {
    "scrolled": true
   },
   "outputs": [
    {
     "data": {
      "text/html": [
       "<div>\n",
       "<style scoped>\n",
       "    .dataframe tbody tr th:only-of-type {\n",
       "        vertical-align: middle;\n",
       "    }\n",
       "\n",
       "    .dataframe tbody tr th {\n",
       "        vertical-align: top;\n",
       "    }\n",
       "\n",
       "    .dataframe thead th {\n",
       "        text-align: right;\n",
       "    }\n",
       "</style>\n",
       "<table border=\"1\" class=\"dataframe\">\n",
       "  <thead>\n",
       "    <tr style=\"text-align: right;\">\n",
       "      <th></th>\n",
       "      <th>world_rank</th>\n",
       "      <th>institution</th>\n",
       "      <th>country</th>\n",
       "      <th>national_rank</th>\n",
       "      <th>quality_of_education</th>\n",
       "      <th>quality_of_faculty</th>\n",
       "      <th>citations</th>\n",
       "      <th>score</th>\n",
       "      <th>year</th>\n",
       "    </tr>\n",
       "  </thead>\n",
       "  <tbody>\n",
       "    <tr>\n",
       "      <th>181</th>\n",
       "      <td>80.0</td>\n",
       "      <td>Texas A&amp;M University, College Station</td>\n",
       "      <td>USA</td>\n",
       "      <td>50</td>\n",
       "      <td>101</td>\n",
       "      <td>50</td>\n",
       "      <td>88</td>\n",
       "      <td>46.17</td>\n",
       "      <td>2013</td>\n",
       "    </tr>\n",
       "  </tbody>\n",
       "</table>\n",
       "</div>"
      ],
      "text/plain": [
       "     world_rank                            institution country  national_rank  \\\n",
       "181        80.0  Texas A&M University, College Station     USA             50   \n",
       "\n",
       "     quality_of_education  quality_of_faculty  citations  score  year  \n",
       "181                   101                  50         88  46.17  2013  "
      ]
     },
     "execution_count": 221,
     "metadata": {},
     "output_type": "execute_result"
    }
   ],
   "source": [
    "wur13[(wur13[\"world_rank\"].duplicated())]"
   ]
  },
  {
   "cell_type": "code",
   "execution_count": 222,
   "metadata": {},
   "outputs": [],
   "source": [
    "wur13=wur13.drop_duplicates(subset=[\"world_rank\"], keep=False)"
   ]
  },
  {
   "cell_type": "code",
   "execution_count": 223,
   "metadata": {},
   "outputs": [
    {
     "data": {
      "text/html": [
       "<div>\n",
       "<style scoped>\n",
       "    .dataframe tbody tr th:only-of-type {\n",
       "        vertical-align: middle;\n",
       "    }\n",
       "\n",
       "    .dataframe tbody tr th {\n",
       "        vertical-align: top;\n",
       "    }\n",
       "\n",
       "    .dataframe thead th {\n",
       "        text-align: right;\n",
       "    }\n",
       "</style>\n",
       "<table border=\"1\" class=\"dataframe\">\n",
       "  <thead>\n",
       "    <tr style=\"text-align: right;\">\n",
       "      <th></th>\n",
       "      <th>world_rank</th>\n",
       "      <th>institution</th>\n",
       "      <th>country</th>\n",
       "      <th>national_rank</th>\n",
       "      <th>quality_of_education</th>\n",
       "      <th>quality_of_faculty</th>\n",
       "      <th>citations</th>\n",
       "      <th>score</th>\n",
       "      <th>year</th>\n",
       "    </tr>\n",
       "  </thead>\n",
       "  <tbody>\n",
       "  </tbody>\n",
       "</table>\n",
       "</div>"
      ],
      "text/plain": [
       "Empty DataFrame\n",
       "Columns: [world_rank, institution, country, national_rank, quality_of_education, quality_of_faculty, citations, score, year]\n",
       "Index: []"
      ]
     },
     "execution_count": 223,
     "metadata": {},
     "output_type": "execute_result"
    }
   ],
   "source": [
    "wur13[(wur13[\"world_rank\"].duplicated())]"
   ]
  },
  {
   "cell_type": "code",
   "execution_count": null,
   "metadata": {},
   "outputs": [],
   "source": []
  },
  {
   "cell_type": "code",
   "execution_count": null,
   "metadata": {},
   "outputs": [],
   "source": []
  },
  {
   "cell_type": "markdown",
   "metadata": {},
   "source": [
    "# here there are no dublicated values but there are Null values that need to be handled"
   ]
  },
  {
   "cell_type": "code",
   "execution_count": 224,
   "metadata": {},
   "outputs": [
    {
     "data": {
      "text/html": [
       "<div>\n",
       "<style scoped>\n",
       "    .dataframe tbody tr th:only-of-type {\n",
       "        vertical-align: middle;\n",
       "    }\n",
       "\n",
       "    .dataframe tbody tr th {\n",
       "        vertical-align: top;\n",
       "    }\n",
       "\n",
       "    .dataframe thead th {\n",
       "        text-align: right;\n",
       "    }\n",
       "</style>\n",
       "<table border=\"1\" class=\"dataframe\">\n",
       "  <thead>\n",
       "    <tr style=\"text-align: right;\">\n",
       "      <th></th>\n",
       "      <th>world_rank</th>\n",
       "      <th>institution</th>\n",
       "      <th>country</th>\n",
       "      <th>national_rank</th>\n",
       "      <th>quality_of_education</th>\n",
       "      <th>quality_of_faculty</th>\n",
       "      <th>citations</th>\n",
       "      <th>score</th>\n",
       "      <th>year</th>\n",
       "    </tr>\n",
       "  </thead>\n",
       "  <tbody>\n",
       "    <tr>\n",
       "      <th>535</th>\n",
       "      <td>NaN</td>\n",
       "      <td>Gwangju Institute of Science and Technology</td>\n",
       "      <td>South Korea</td>\n",
       "      <td>9</td>\n",
       "      <td>355</td>\n",
       "      <td>210</td>\n",
       "      <td>406</td>\n",
       "      <td>46.02</td>\n",
       "      <td>2014</td>\n",
       "    </tr>\n",
       "    <tr>\n",
       "      <th>584</th>\n",
       "      <td>NaN</td>\n",
       "      <td>Scuola Normale Superiore di Pisa</td>\n",
       "      <td>Italy</td>\n",
       "      <td>16</td>\n",
       "      <td>229</td>\n",
       "      <td>64</td>\n",
       "      <td>363</td>\n",
       "      <td>45.63</td>\n",
       "      <td>2014</td>\n",
       "    </tr>\n",
       "    <tr>\n",
       "      <th>633</th>\n",
       "      <td>NaN</td>\n",
       "      <td>University of Bordeaux I</td>\n",
       "      <td>France</td>\n",
       "      <td>17</td>\n",
       "      <td>355</td>\n",
       "      <td>210</td>\n",
       "      <td>406</td>\n",
       "      <td>45.41</td>\n",
       "      <td>2014</td>\n",
       "    </tr>\n",
       "  </tbody>\n",
       "</table>\n",
       "</div>"
      ],
      "text/plain": [
       "     world_rank                                  institution      country  \\\n",
       "535         NaN  Gwangju Institute of Science and Technology  South Korea   \n",
       "584         NaN             Scuola Normale Superiore di Pisa        Italy   \n",
       "633         NaN                     University of Bordeaux I       France   \n",
       "\n",
       "     national_rank  quality_of_education  quality_of_faculty  citations  \\\n",
       "535              9                   355                 210        406   \n",
       "584             16                   229                  64        363   \n",
       "633             17                   355                 210        406   \n",
       "\n",
       "     score  year  \n",
       "535  46.02  2014  \n",
       "584  45.63  2014  \n",
       "633  45.41  2014  "
      ]
     },
     "execution_count": 224,
     "metadata": {},
     "output_type": "execute_result"
    }
   ],
   "source": [
    "wur14[(wur14[\"world_rank\"].duplicated())]"
   ]
  },
  {
   "cell_type": "code",
   "execution_count": 225,
   "metadata": {},
   "outputs": [
    {
     "data": {
      "text/html": [
       "<div>\n",
       "<style scoped>\n",
       "    .dataframe tbody tr th:only-of-type {\n",
       "        vertical-align: middle;\n",
       "    }\n",
       "\n",
       "    .dataframe tbody tr th {\n",
       "        vertical-align: top;\n",
       "    }\n",
       "\n",
       "    .dataframe thead th {\n",
       "        text-align: right;\n",
       "    }\n",
       "</style>\n",
       "<table border=\"1\" class=\"dataframe\">\n",
       "  <thead>\n",
       "    <tr style=\"text-align: right;\">\n",
       "      <th></th>\n",
       "      <th>world_rank</th>\n",
       "      <th>institution</th>\n",
       "      <th>country</th>\n",
       "      <th>national_rank</th>\n",
       "      <th>quality_of_education</th>\n",
       "      <th>quality_of_faculty</th>\n",
       "      <th>citations</th>\n",
       "      <th>score</th>\n",
       "      <th>year</th>\n",
       "    </tr>\n",
       "  </thead>\n",
       "  <tbody>\n",
       "    <tr>\n",
       "      <th>1254</th>\n",
       "      <td>NaN</td>\n",
       "      <td>University of California, Davis</td>\n",
       "      <td>USA</td>\n",
       "      <td>36</td>\n",
       "      <td>54</td>\n",
       "      <td>59</td>\n",
       "      <td>35</td>\n",
       "      <td>54.85</td>\n",
       "      <td>2015</td>\n",
       "    </tr>\n",
       "    <tr>\n",
       "      <th>1405</th>\n",
       "      <td>NaN</td>\n",
       "      <td>University of Erlangen-Nuremberg</td>\n",
       "      <td>Germany</td>\n",
       "      <td>13</td>\n",
       "      <td>231</td>\n",
       "      <td>218</td>\n",
       "      <td>146</td>\n",
       "      <td>47.36</td>\n",
       "      <td>2015</td>\n",
       "    </tr>\n",
       "    <tr>\n",
       "      <th>1588</th>\n",
       "      <td>NaN</td>\n",
       "      <td>Catholic University of the Sacred Heart</td>\n",
       "      <td>Italy</td>\n",
       "      <td>18</td>\n",
       "      <td>367</td>\n",
       "      <td>218</td>\n",
       "      <td>321</td>\n",
       "      <td>45.22</td>\n",
       "      <td>2015</td>\n",
       "    </tr>\n",
       "  </tbody>\n",
       "</table>\n",
       "</div>"
      ],
      "text/plain": [
       "      world_rank                              institution  country  \\\n",
       "1254         NaN          University of California, Davis      USA   \n",
       "1405         NaN         University of Erlangen-Nuremberg  Germany   \n",
       "1588         NaN  Catholic University of the Sacred Heart    Italy   \n",
       "\n",
       "      national_rank  quality_of_education  quality_of_faculty  citations  \\\n",
       "1254             36                    54                  59         35   \n",
       "1405             13                   231                 218        146   \n",
       "1588             18                   367                 218        321   \n",
       "\n",
       "      score  year  \n",
       "1254  54.85  2015  \n",
       "1405  47.36  2015  \n",
       "1588  45.22  2015  "
      ]
     },
     "execution_count": 225,
     "metadata": {},
     "output_type": "execute_result"
    }
   ],
   "source": [
    "wur15[(wur15[\"world_rank\"].duplicated())]"
   ]
  },
  {
   "cell_type": "code",
   "execution_count": 226,
   "metadata": {},
   "outputs": [
    {
     "data": {
      "text/plain": [
       "array([  1.,   2.,   4.,   5.,   6.,   7.,   8.,   9.,  10.,  11.,  12.,\n",
       "        13.,  14.,  15.,  16.,  17.,  18.,  19.,  20.,  21.,  22.,  23.,\n",
       "        nan,  25.,  26.,  27.,  28.,  29.,  30.,  31.,  32.,  33.,  34.,\n",
       "        35.,  36.,  37.,  38.,  39.,  40.,  41.,  42.,  43.,  44.,  45.,\n",
       "        46.,  47.,  48.,  49.,  50.,  51.,  52.,  53.,  54.,  55.,  56.,\n",
       "        57.,  58.,  59.,  60.,  61.,  62.,  63.,  64.,  65.,  66.,  67.,\n",
       "        68.,  69.,  70.,  71.,  72.,  73.,  74.,  75.,  76.,  77.,  78.,\n",
       "        79.,  80.,  81.,  82.,  83.,  84.,  85.,  86.,  87.,  88.,  89.,\n",
       "        90.,  91.,  92.,  93.,  94.,  95.,  96.,  97.,  98.,  99., 100.])"
      ]
     },
     "execution_count": 226,
     "metadata": {},
     "output_type": "execute_result"
    }
   ],
   "source": [
    "#check if there is somthing worng or missing in the data\n",
    "wur12[\"world_rank\"].unique()"
   ]
  },
  {
   "cell_type": "code",
   "execution_count": 227,
   "metadata": {},
   "outputs": [
    {
     "data": {
      "text/plain": [
       "array([  1.,   2.,   3.,   4.,   5.,   6.,   7.,   8.,   9.,  10.,  11.,\n",
       "        12.,  13.,  14.,  15.,  16.,  17.,  18.,  19.,  20.,  21.,  22.,\n",
       "        23.,  24.,  25.,  26.,  27.,  28.,  29.,  30.,  31.,  32.,  33.,\n",
       "        34.,  35.,  36.,  37.,  38.,  39.,  40.,  41.,  42.,  43.,  44.,\n",
       "        45.,  46.,  47.,  48.,  49.,  50.,  51.,  52.,  53.,  54.,  55.,\n",
       "        56.,  57.,  58.,  59.,  60.,  61.,  62.,  63.,  64.,  65.,  66.,\n",
       "        67.,  68.,  69.,  70.,  71.,  72.,  73.,  74.,  75.,  76.,  77.,\n",
       "        78.,  79.,  81.,  82.,  83.,  84.,  85.,  86.,  87.,  88.,  89.,\n",
       "        90.,  91.,  92.,  93.,  94.,  95.,  96.,  97.,  98.,  99., 100.])"
      ]
     },
     "execution_count": 227,
     "metadata": {},
     "output_type": "execute_result"
    }
   ],
   "source": [
    "wur13[\"world_rank\"].unique()"
   ]
  },
  {
   "cell_type": "code",
   "execution_count": 228,
   "metadata": {},
   "outputs": [
    {
     "data": {
      "text/plain": [
       "array([   1.,    2.,    3.,    4.,    5.,    6.,    7.,    8.,    9.,\n",
       "         10.,   nan,   12.,   13.,   14.,   15.,   16.,   17.,   18.,\n",
       "         19.,   20.,   21.,   22.,   23.,   24.,   25.,   26.,   27.,\n",
       "         28.,   29.,   30.,   31.,   32.,   33.,   34.,   35.,   36.,\n",
       "         37.,   38.,   39.,   40.,   41.,   42.,   43.,   44.,   45.,\n",
       "         46.,   47.,   48.,   49.,   50.,   51.,   52.,   53.,   54.,\n",
       "         55.,   56.,   57.,   58.,   59.,   60.,   61.,   62.,   63.,\n",
       "         64.,   65.,   66.,   67.,   68.,   69.,   70.,   71.,   72.,\n",
       "         73.,   74.,   75.,   76.,   77.,   78.,   79.,   80.,   81.,\n",
       "         82.,   83.,   84.,   85.,   86.,   87.,   88.,   89.,   90.,\n",
       "         91.,   92.,   93.,   94.,   95.,   96.,   97.,   98.,   99.,\n",
       "        100.,  101.,  102.,  103.,  104.,  105.,  106.,  107.,  108.,\n",
       "        109.,  110.,  111.,  112.,  113.,  114.,  115.,  116.,  117.,\n",
       "        118.,  119.,  120.,  121.,  122.,  123.,  124.,  125.,  126.,\n",
       "        127.,  128.,  129.,  130.,  131.,  132.,  133.,  134.,  135.,\n",
       "        136.,  137.,  138.,  139.,  140.,  141.,  142.,  143.,  144.,\n",
       "        145.,  146.,  147.,  148.,  149.,  150.,  151.,  152.,  153.,\n",
       "        154.,  155.,  156.,  157.,  158.,  159.,  160.,  161.,  162.,\n",
       "        163.,  164.,  165.,  166.,  167.,  168.,  169.,  170.,  171.,\n",
       "        172.,  173.,  174.,  175.,  176.,  177.,  178.,  179.,  180.,\n",
       "        181.,  182.,  183.,  184.,  185.,  186.,  187.,  188.,  189.,\n",
       "        190.,  191.,  192.,  193.,  194.,  195.,  196.,  197.,  198.,\n",
       "        199.,  200.,  201.,  202.,  203.,  204.,  205.,  206.,  207.,\n",
       "        208.,  209.,  210.,  211.,  212.,  213.,  214.,  215.,  216.,\n",
       "        217.,  218.,  219.,  220.,  221.,  222.,  223.,  224.,  225.,\n",
       "        226.,  227.,  228.,  229.,  230.,  231.,  232.,  233.,  234.,\n",
       "        235.,  236.,  237.,  238.,  239.,  240.,  241.,  242.,  243.,\n",
       "        244.,  245.,  246.,  247.,  248.,  249.,  250.,  251.,  252.,\n",
       "        253.,  254.,  255.,  256.,  257.,  258.,  259.,  260.,  261.,\n",
       "        262.,  263.,  264.,  265.,  266.,  267.,  268.,  269.,  270.,\n",
       "        271.,  272.,  273.,  274.,  275.,  276.,  277.,  278.,  279.,\n",
       "        280.,  281.,  282.,  283.,  284.,  285.,  286.,  287.,  288.,\n",
       "        289.,  290.,  291.,  292.,  293.,  294.,  295.,  296.,  297.,\n",
       "        298.,  299.,  300.,  301.,  302.,  303.,  304.,  305.,  306.,\n",
       "        307.,  308.,  309.,  310.,  311.,  312.,  313.,  314.,  315.,\n",
       "        316.,  317.,  318.,  319.,  320.,  321.,  322.,  323.,  324.,\n",
       "        325.,  326.,  327.,  328.,  329.,  330.,  331.,  332.,  333.,\n",
       "        335.,  336.,  337.,  338.,  339.,  340.,  341.,  342.,  343.,\n",
       "        344.,  345.,  346.,  347.,  348.,  349.,  350.,  351.,  352.,\n",
       "        353.,  354.,  355.,  356.,  357.,  358.,  359.,  360.,  361.,\n",
       "        362.,  363.,  364.,  365.,  366.,  367.,  368.,  369.,  370.,\n",
       "        371.,  372.,  373.,  374.,  375.,  376.,  377.,  378.,  379.,\n",
       "        380.,  381.,  382.,  384.,  385.,  386.,  387.,  388.,  389.,\n",
       "        390.,  391.,  392.,  393.,  394.,  395.,  396.,  397.,  398.,\n",
       "        399.,  400.,  401.,  402.,  403.,  404.,  405.,  406.,  407.,\n",
       "        408.,  409.,  410.,  411.,  412.,  413.,  414.,  415.,  416.,\n",
       "        417.,  418.,  419.,  420.,  421.,  422.,  423.,  424.,  425.,\n",
       "        426.,  427.,  428.,  429.,  430.,  431.,  433.,  434.,  435.,\n",
       "        436.,  437.,  438.,  439.,  440.,  441.,  442.,  443.,  444.,\n",
       "        445.,  446.,  447.,  448.,  449.,  450.,  451.,  452.,  453.,\n",
       "        454.,  455.,  456.,  457.,  458.,  459.,  460.,  461.,  462.,\n",
       "        463.,  464.,  465.,  466.,  467.,  468.,  469.,  470.,  471.,\n",
       "        472.,  473.,  474.,  475.,  476.,  477.,  478.,  479.,  480.,\n",
       "        481.,  482.,  483.,  484.,  485.,  486.,  487.,  488.,  489.,\n",
       "        490.,  491.,  492.,  493.,  494.,  495.,  496.,  497.,  498.,\n",
       "        499.,  500.,  501.,  502.,  503.,  504.,  505.,  506.,  507.,\n",
       "        508.,  509.,  510.,  511.,  512.,  513.,  514.,  515.,  516.,\n",
       "        517.,  518.,  519.,  520.,  521.,  522.,  523.,  524.,  525.,\n",
       "        526.,  527.,  528.,  529.,  530.,  531.,  532.,  533.,  534.,\n",
       "        535.,  536.,  537.,  538.,  539.,  540.,  541.,  542.,  543.,\n",
       "        544.,  545.,  546.,  547.,  548.,  549.,  550.,  551.,  552.,\n",
       "        553.,  554.,  555.,  556.,  557.,  558.,  559.,  560.,  561.,\n",
       "        562.,  563.,  564.,  565.,  566.,  567.,  568.,  569.,  570.,\n",
       "        571.,  572.,  573.,  574.,  575.,  576.,  577.,  578.,  579.,\n",
       "        580.,  581.,  582.,  583.,  584.,  585.,  586.,  587.,  588.,\n",
       "        589.,  590.,  591.,  592.,  593.,  594.,  595.,  596.,  597.,\n",
       "        598.,  599.,  600.,  601.,  602.,  603.,  604.,  605.,  606.,\n",
       "        607.,  608.,  609.,  610.,  611.,  612.,  613.,  614.,  615.,\n",
       "        616.,  617.,  618.,  619.,  620.,  621.,  622.,  623.,  624.,\n",
       "        625.,  626.,  627.,  628.,  629.,  630.,  631.,  632.,  633.,\n",
       "        634.,  635.,  636.,  637.,  638.,  639.,  640.,  641.,  642.,\n",
       "        643.,  644.,  645.,  646.,  647.,  648.,  649.,  650.,  651.,\n",
       "        652.,  653.,  654.,  655.,  656.,  657.,  658.,  659.,  660.,\n",
       "        661.,  662.,  663.,  664.,  665.,  666.,  667.,  668.,  669.,\n",
       "        670.,  671.,  672.,  673.,  674.,  675.,  676.,  677.,  678.,\n",
       "        679.,  680.,  681.,  682.,  683.,  684.,  685.,  686.,  687.,\n",
       "        688.,  689.,  690.,  691.,  692.,  693.,  694.,  695.,  696.,\n",
       "        697.,  698.,  699.,  700.,  701.,  702.,  703.,  704.,  705.,\n",
       "        706.,  707.,  708.,  709.,  710.,  711.,  712.,  713.,  714.,\n",
       "        715.,  716.,  717.,  718.,  719.,  720.,  721.,  722.,  723.,\n",
       "        724.,  725.,  726.,  727.,  728.,  729.,  730.,  731.,  732.,\n",
       "        733.,  734.,  735.,  736.,  737.,  738.,  739.,  740.,  741.,\n",
       "        742.,  743.,  744.,  745.,  746.,  747.,  748.,  749.,  750.,\n",
       "        751.,  752.,  753.,  754.,  755.,  756.,  757.,  758.,  759.,\n",
       "        760.,  761.,  762.,  763.,  764.,  765.,  766.,  767.,  768.,\n",
       "        769.,  770.,  771.,  772.,  773.,  774.,  775.,  776.,  777.,\n",
       "        778.,  779.,  780.,  781.,  782.,  783.,  784.,  785.,  786.,\n",
       "        787.,  788.,  789.,  790.,  791.,  792.,  793.,  794.,  795.,\n",
       "        796.,  797.,  798.,  799.,  800.,  801.,  802.,  803.,  804.,\n",
       "        805.,  806.,  807.,  808.,  809.,  810.,  811.,  812.,  813.,\n",
       "        814.,  815.,  816.,  817.,  818.,  819.,  820.,  821.,  822.,\n",
       "        823.,  824.,  825.,  826.,  827.,  828.,  829.,  830.,  831.,\n",
       "        832.,  833.,  834.,  835.,  836.,  837.,  838.,  839.,  840.,\n",
       "        841.,  842.,  843.,  844.,  845.,  846.,  847.,  848.,  849.,\n",
       "        850.,  851.,  852.,  853.,  854.,  855.,  856.,  857.,  858.,\n",
       "        859.,  860.,  861.,  862.,  863.,  864.,  865.,  866.,  867.,\n",
       "        868.,  869.,  870.,  871.,  872.,  873.,  874.,  875.,  876.,\n",
       "        877.,  878.,  879.,  880.,  881.,  882.,  883.,  884.,  885.,\n",
       "        886.,  887.,  888.,  889.,  890.,  891.,  892.,  893.,  894.,\n",
       "        895.,  896.,  897.,  898.,  899.,  900.,  901.,  902.,  903.,\n",
       "        904.,  905.,  906.,  907.,  908.,  909.,  910.,  911.,  912.,\n",
       "        913.,  914.,  915.,  916.,  917.,  918.,  919.,  920.,  921.,\n",
       "        922.,  923.,  924.,  925.,  926.,  927.,  928.,  929.,  930.,\n",
       "        931.,  932.,  933.,  934.,  935.,  936.,  937.,  938.,  939.,\n",
       "        940.,  941.,  942.,  943.,  944.,  945.,  946.,  947.,  948.,\n",
       "        949.,  950.,  951.,  952.,  953.,  954.,  955.,  956.,  957.,\n",
       "        958.,  959.,  960.,  961.,  962.,  963.,  964.,  965.,  966.,\n",
       "        967.,  968.,  969.,  970.,  971.,  972.,  973.,  974.,  975.,\n",
       "        976.,  977.,  978.,  979.,  980.,  981.,  982.,  983.,  984.,\n",
       "        985.,  986.,  987.,  988.,  989.,  990.,  991.,  992.,  993.,\n",
       "        994.,  995.,  996.,  997.,  998.,  999., 1000.])"
      ]
     },
     "execution_count": 228,
     "metadata": {},
     "output_type": "execute_result"
    }
   ],
   "source": [
    "wur14[\"world_rank\"].unique()"
   ]
  },
  {
   "cell_type": "code",
   "execution_count": 229,
   "metadata": {},
   "outputs": [
    {
     "data": {
      "text/plain": [
       "array([   1.,    2.,    3.,    4.,    5.,    6.,    7.,    8.,    9.,\n",
       "         10.,   11.,   12.,   13.,   14.,   15.,   16.,   17.,   18.,\n",
       "         19.,   20.,   21.,   22.,   23.,   24.,   25.,   26.,   27.,\n",
       "         28.,   29.,   30.,   31.,   32.,   33.,   34.,   35.,   36.,\n",
       "         37.,   38.,   39.,   40.,   41.,   42.,   nan,   44.,   45.,\n",
       "         46.,   47.,   48.,   49.,   50.,   51.,   52.,   54.,   55.,\n",
       "         56.,   57.,   58.,   59.,   60.,   61.,   62.,   63.,   64.,\n",
       "         65.,   66.,   67.,   68.,   69.,   70.,   71.,   72.,   73.,\n",
       "         74.,   75.,   76.,   77.,   78.,   79.,   80.,   81.,   82.,\n",
       "         83.,   84.,   85.,   86.,   87.,   88.,   89.,   90.,   91.,\n",
       "         92.,   93.,   94.,   95.,   96.,   97.,   98.,   99.,  100.,\n",
       "        101.,  102.,  103.,  104.,  105.,  106.,  107.,  108.,  109.,\n",
       "        110.,  111.,  112.,  113.,  114.,  115.,  116.,  117.,  118.,\n",
       "        119.,  120.,  121.,  122.,  123.,  124.,  125.,  126.,  127.,\n",
       "        128.,  129.,  130.,  131.,  132.,  133.,  134.,  135.,  136.,\n",
       "        137.,  138.,  139.,  140.,  141.,  142.,  143.,  144.,  145.,\n",
       "        146.,  147.,  148.,  149.,  150.,  151.,  152.,  153.,  154.,\n",
       "        155.,  156.,  157.,  158.,  159.,  160.,  161.,  162.,  163.,\n",
       "        164.,  165.,  166.,  167.,  168.,  169.,  170.,  171.,  172.,\n",
       "        173.,  174.,  175.,  176.,  177.,  178.,  179.,  180.,  181.,\n",
       "        182.,  183.,  184.,  185.,  186.,  187.,  188.,  189.,  190.,\n",
       "        191.,  192.,  193.,  194.,  195.,  196.,  197.,  198.,  199.,\n",
       "        200.,  201.,  202.,  203.,  205.,  206.,  207.,  208.,  209.,\n",
       "        210.,  211.,  212.,  213.,  214.,  215.,  216.,  217.,  218.,\n",
       "        219.,  220.,  221.,  222.,  223.,  224.,  225.,  226.,  227.,\n",
       "        228.,  229.,  230.,  231.,  232.,  233.,  234.,  235.,  236.,\n",
       "        237.,  238.,  239.,  240.,  241.,  242.,  243.,  244.,  245.,\n",
       "        246.,  247.,  248.,  249.,  250.,  251.,  252.,  253.,  254.,\n",
       "        255.,  256.,  257.,  258.,  259.,  260.,  261.,  262.,  263.,\n",
       "        264.,  265.,  266.,  267.,  268.,  269.,  270.,  271.,  272.,\n",
       "        273.,  274.,  275.,  276.,  277.,  278.,  279.,  280.,  281.,\n",
       "        282.,  283.,  284.,  285.,  286.,  287.,  288.,  289.,  290.,\n",
       "        291.,  292.,  293.,  294.,  295.,  296.,  297.,  298.,  299.,\n",
       "        300.,  301.,  302.,  303.,  304.,  305.,  306.,  307.,  308.,\n",
       "        309.,  310.,  311.,  312.,  313.,  314.,  315.,  316.,  317.,\n",
       "        318.,  319.,  320.,  321.,  322.,  323.,  324.,  325.,  326.,\n",
       "        327.,  328.,  329.,  330.,  331.,  332.,  333.,  334.,  335.,\n",
       "        336.,  337.,  338.,  339.,  340.,  341.,  342.,  343.,  344.,\n",
       "        345.,  346.,  347.,  348.,  349.,  350.,  351.,  352.,  353.,\n",
       "        354.,  355.,  356.,  357.,  358.,  359.,  360.,  361.,  362.,\n",
       "        363.,  364.,  365.,  366.,  367.,  368.,  369.,  370.,  371.,\n",
       "        372.,  373.,  374.,  375.,  376.,  377.,  378.,  379.,  380.,\n",
       "        381.,  382.,  383.,  384.,  385.,  386.,  388.,  389.,  390.,\n",
       "        391.,  392.,  393.,  394.,  395.,  396.,  397.,  398.,  399.,\n",
       "        400.,  401.,  402.,  403.,  404.,  405.,  406.,  407.,  408.,\n",
       "        409.,  410.,  411.,  412.,  413.,  414.,  415.,  416.,  417.,\n",
       "        418.,  419.,  420.,  421.,  422.,  423.,  424.,  425.,  426.,\n",
       "        427.,  428.,  429.,  430.,  431.,  432.,  433.,  434.,  435.,\n",
       "        436.,  437.,  438.,  439.,  440.,  441.,  442.,  443.,  444.,\n",
       "        445.,  446.,  447.,  448.,  449.,  450.,  451.,  452.,  453.,\n",
       "        454.,  455.,  456.,  457.,  458.,  459.,  460.,  461.,  462.,\n",
       "        463.,  464.,  465.,  466.,  467.,  468.,  469.,  470.,  471.,\n",
       "        472.,  473.,  474.,  475.,  476.,  477.,  478.,  479.,  480.,\n",
       "        481.,  482.,  483.,  484.,  485.,  486.,  487.,  488.,  489.,\n",
       "        490.,  491.,  492.,  493.,  494.,  495.,  496.,  497.,  498.,\n",
       "        499.,  500.,  501.,  502.,  503.,  504.,  505.,  506.,  507.,\n",
       "        508.,  509.,  510.,  511.,  512.,  513.,  514.,  515.,  516.,\n",
       "        517.,  518.,  519.,  520.,  521.,  522.,  523.,  524.,  525.,\n",
       "        526.,  527.,  528.,  529.,  530.,  531.,  532.,  533.,  534.,\n",
       "        535.,  536.,  537.,  538.,  539.,  540.,  541.,  542.,  543.,\n",
       "        544.,  545.,  546.,  547.,  548.,  549.,  550.,  551.,  552.,\n",
       "        553.,  554.,  555.,  556.,  557.,  558.,  559.,  560.,  561.,\n",
       "        562.,  563.,  564.,  565.,  566.,  567.,  568.,  569.,  570.,\n",
       "        571.,  572.,  573.,  574.,  575.,  576.,  577.,  578.,  579.,\n",
       "        580.,  581.,  582.,  583.,  584.,  585.,  586.,  587.,  588.,\n",
       "        589.,  590.,  591.,  592.,  593.,  594.,  595.,  596.,  597.,\n",
       "        598.,  599.,  600.,  601.,  602.,  603.,  604.,  605.,  606.,\n",
       "        607.,  608.,  609.,  610.,  611.,  612.,  613.,  614.,  615.,\n",
       "        616.,  617.,  618.,  619.,  620.,  621.,  622.,  623.,  624.,\n",
       "        625.,  626.,  627.,  628.,  629.,  630.,  631.,  632.,  633.,\n",
       "        634.,  635.,  636.,  637.,  638.,  639.,  640.,  641.,  642.,\n",
       "        643.,  644.,  645.,  646.,  647.,  648.,  649.,  650.,  651.,\n",
       "        652.,  653.,  654.,  655.,  656.,  657.,  658.,  659.,  660.,\n",
       "        661.,  662.,  663.,  664.,  665.,  666.,  667.,  668.,  669.,\n",
       "        670.,  671.,  672.,  673.,  674.,  675.,  676.,  677.,  678.,\n",
       "        679.,  680.,  681.,  682.,  683.,  684.,  685.,  686.,  687.,\n",
       "        688.,  689.,  690.,  691.,  692.,  693.,  694.,  695.,  696.,\n",
       "        697.,  698.,  699.,  700.,  701.,  702.,  703.,  704.,  705.,\n",
       "        706.,  707.,  708.,  709.,  710.,  711.,  712.,  713.,  714.,\n",
       "        715.,  716.,  717.,  718.,  719.,  720.,  721.,  722.,  723.,\n",
       "        724.,  725.,  726.,  727.,  728.,  729.,  730.,  731.,  732.,\n",
       "        733.,  734.,  735.,  736.,  737.,  738.,  739.,  740.,  741.,\n",
       "        742.,  743.,  744.,  745.,  746.,  747.,  748.,  749.,  750.,\n",
       "        751.,  752.,  753.,  754.,  755.,  756.,  757.,  758.,  759.,\n",
       "        760.,  761.,  762.,  763.,  764.,  765.,  766.,  767.,  768.,\n",
       "        769.,  770.,  771.,  772.,  773.,  774.,  775.,  776.,  777.,\n",
       "        778.,  779.,  780.,  781.,  782.,  783.,  784.,  785.,  786.,\n",
       "        787.,  788.,  789.,  790.,  791.,  792.,  793.,  794.,  795.,\n",
       "        796.,  797.,  798.,  799.,  800.,  801.,  802.,  803.,  804.,\n",
       "        805.,  806.,  807.,  808.,  809.,  810.,  811.,  812.,  813.,\n",
       "        814.,  815.,  816.,  817.,  818.,  819.,  820.,  821.,  822.,\n",
       "        823.,  824.,  825.,  826.,  827.,  828.,  829.,  830.,  831.,\n",
       "        832.,  833.,  834.,  835.,  836.,  837.,  838.,  839.,  840.,\n",
       "        841.,  842.,  843.,  844.,  845.,  846.,  847.,  848.,  849.,\n",
       "        850.,  851.,  852.,  853.,  854.,  855.,  856.,  857.,  858.,\n",
       "        859.,  860.,  861.,  862.,  863.,  864.,  865.,  866.,  867.,\n",
       "        868.,  869.,  870.,  871.,  872.,  873.,  874.,  875.,  876.,\n",
       "        877.,  878.,  879.,  880.,  881.,  882.,  883.,  884.,  885.,\n",
       "        886.,  887.,  888.,  889.,  890.,  891.,  892.,  893.,  894.,\n",
       "        895.,  896.,  897.,  898.,  899.,  900.,  901.,  902.,  903.,\n",
       "        904.,  905.,  906.,  907.,  908.,  909.,  910.,  911.,  912.,\n",
       "        913.,  914.,  915.,  916.,  917.,  918.,  919.,  920.,  921.,\n",
       "        922.,  923.,  924.,  925.,  926.,  927.,  928.,  929.,  930.,\n",
       "        931.,  932.,  933.,  934.,  935.,  936.,  937.,  938.,  939.,\n",
       "        940.,  941.,  942.,  943.,  944.,  945.,  946.,  947.,  948.,\n",
       "        949.,  950.,  951.,  952.,  953.,  954.,  955.,  956.,  957.,\n",
       "        958.,  959.,  960.,  961.,  962.,  963.,  964.,  965.,  966.,\n",
       "        967.,  968.,  969.,  970.,  971.,  972.,  973.,  974.,  975.,\n",
       "        976.,  977.,  978.,  979.,  980.,  981.,  982.,  983.,  984.,\n",
       "        985.,  986.,  987.,  988.,  989.,  990.,  991.,  992.,  993.,\n",
       "        994.,  995.,  996.,  997.,  998.,  999., 1000.])"
      ]
     },
     "execution_count": 229,
     "metadata": {},
     "output_type": "execute_result"
    }
   ],
   "source": [
    "#lets find the rank values\n",
    "wur15[\"world_rank\"].unique()"
   ]
  },
  {
   "cell_type": "code",
   "execution_count": 230,
   "metadata": {},
   "outputs": [
    {
     "name": "stdout",
     "output_type": "stream",
     "text": [
      "Null in 2012 rank:  1\n",
      "Null in 2013 rank:  0\n",
      "Null in 2014 rank:  4\n",
      "Null in 2015 rank:  4\n"
     ]
    }
   ],
   "source": [
    "print(\"Null in 2012 rank: \",wur12[\"world_rank\"].isnull().sum())\n",
    "print(\"Null in 2013 rank: \",wur13[\"world_rank\"].isnull().sum())\n",
    "print(\"Null in 2014 rank: \",wur14[\"world_rank\"].isnull().sum())\n",
    "print(\"Null in 2015 rank: \",wur15[\"world_rank\"].isnull().sum())"
   ]
  },
  {
   "cell_type": "code",
   "execution_count": 231,
   "metadata": {},
   "outputs": [
    {
     "name": "stdout",
     "output_type": "stream",
     "text": [
      "Null in 2012 score:  2\n",
      "Null in 2013 score:  0\n",
      "Null in 2014 score:  4\n",
      "Null in 2015 score:  0\n"
     ]
    }
   ],
   "source": [
    "#lets find the score values score\n",
    "\n",
    "print(\"Null in 2012 score: \",wur12[\"score\"].isnull().sum())\n",
    "print(\"Null in 2013 score: \",wur13[\"score\"].isnull().sum())\n",
    "print(\"Null in 2014 score: \",wur14[\"score\"].isnull().sum())\n",
    "print(\"Null in 2015 score: \",wur15[\"score\"].isnull().sum())"
   ]
  },
  {
   "cell_type": "code",
   "execution_count": 232,
   "metadata": {},
   "outputs": [
    {
     "data": {
      "text/plain": [
       "world_rank              9\n",
       "institution             0\n",
       "country                 2\n",
       "national_rank           0\n",
       "quality_of_education    0\n",
       "quality_of_faculty      0\n",
       "citations               0\n",
       "score                   6\n",
       "year                    0\n",
       "dtype: int64"
      ]
     },
     "execution_count": 232,
     "metadata": {},
     "output_type": "execute_result"
    }
   ],
   "source": [
    "wur.isnull().sum()"
   ]
  },
  {
   "cell_type": "code",
   "execution_count": 233,
   "metadata": {},
   "outputs": [],
   "source": [
    "#join all the devided table back to the orignal data frame wur\n",
    "wur = pd.concat([wur12, wur13, wur14, wur15], ignore_index=True)\n"
   ]
  },
  {
   "cell_type": "code",
   "execution_count": 234,
   "metadata": {},
   "outputs": [
    {
     "data": {
      "text/html": [
       "<div>\n",
       "<style scoped>\n",
       "    .dataframe tbody tr th:only-of-type {\n",
       "        vertical-align: middle;\n",
       "    }\n",
       "\n",
       "    .dataframe tbody tr th {\n",
       "        vertical-align: top;\n",
       "    }\n",
       "\n",
       "    .dataframe thead th {\n",
       "        text-align: right;\n",
       "    }\n",
       "</style>\n",
       "<table border=\"1\" class=\"dataframe\">\n",
       "  <thead>\n",
       "    <tr style=\"text-align: right;\">\n",
       "      <th></th>\n",
       "      <th>world_rank</th>\n",
       "      <th>institution</th>\n",
       "      <th>country</th>\n",
       "      <th>national_rank</th>\n",
       "      <th>quality_of_education</th>\n",
       "      <th>quality_of_faculty</th>\n",
       "      <th>citations</th>\n",
       "      <th>score</th>\n",
       "      <th>year</th>\n",
       "    </tr>\n",
       "  </thead>\n",
       "  <tbody>\n",
       "    <tr>\n",
       "      <th>22</th>\n",
       "      <td>NaN</td>\n",
       "      <td>University of California, San Francisco</td>\n",
       "      <td>USA</td>\n",
       "      <td>17</td>\n",
       "      <td>101</td>\n",
       "      <td>21</td>\n",
       "      <td>13</td>\n",
       "      <td>59.70</td>\n",
       "      <td>2012</td>\n",
       "    </tr>\n",
       "    <tr>\n",
       "      <th>208</th>\n",
       "      <td>NaN</td>\n",
       "      <td>Cornell University</td>\n",
       "      <td>USA</td>\n",
       "      <td>9</td>\n",
       "      <td>12</td>\n",
       "      <td>19</td>\n",
       "      <td>23</td>\n",
       "      <td>85.80</td>\n",
       "      <td>2014</td>\n",
       "    </tr>\n",
       "    <tr>\n",
       "      <th>531</th>\n",
       "      <td>NaN</td>\n",
       "      <td>Gwangju Institute of Science and Technology</td>\n",
       "      <td>South Korea</td>\n",
       "      <td>9</td>\n",
       "      <td>355</td>\n",
       "      <td>210</td>\n",
       "      <td>406</td>\n",
       "      <td>46.02</td>\n",
       "      <td>2014</td>\n",
       "    </tr>\n",
       "    <tr>\n",
       "      <th>580</th>\n",
       "      <td>NaN</td>\n",
       "      <td>Scuola Normale Superiore di Pisa</td>\n",
       "      <td>Italy</td>\n",
       "      <td>16</td>\n",
       "      <td>229</td>\n",
       "      <td>64</td>\n",
       "      <td>363</td>\n",
       "      <td>45.63</td>\n",
       "      <td>2014</td>\n",
       "    </tr>\n",
       "    <tr>\n",
       "      <th>629</th>\n",
       "      <td>NaN</td>\n",
       "      <td>University of Bordeaux I</td>\n",
       "      <td>France</td>\n",
       "      <td>17</td>\n",
       "      <td>355</td>\n",
       "      <td>210</td>\n",
       "      <td>406</td>\n",
       "      <td>45.41</td>\n",
       "      <td>2014</td>\n",
       "    </tr>\n",
       "    <tr>\n",
       "      <th>1240</th>\n",
       "      <td>NaN</td>\n",
       "      <td>Purdue University, West Lafayette</td>\n",
       "      <td>USA</td>\n",
       "      <td>27</td>\n",
       "      <td>55</td>\n",
       "      <td>47</td>\n",
       "      <td>68</td>\n",
       "      <td>56.39</td>\n",
       "      <td>2015</td>\n",
       "    </tr>\n",
       "    <tr>\n",
       "      <th>1250</th>\n",
       "      <td>NaN</td>\n",
       "      <td>University of California, Davis</td>\n",
       "      <td>USA</td>\n",
       "      <td>36</td>\n",
       "      <td>54</td>\n",
       "      <td>59</td>\n",
       "      <td>35</td>\n",
       "      <td>54.85</td>\n",
       "      <td>2015</td>\n",
       "    </tr>\n",
       "    <tr>\n",
       "      <th>1401</th>\n",
       "      <td>NaN</td>\n",
       "      <td>University of Erlangen-Nuremberg</td>\n",
       "      <td>Germany</td>\n",
       "      <td>13</td>\n",
       "      <td>231</td>\n",
       "      <td>218</td>\n",
       "      <td>146</td>\n",
       "      <td>47.36</td>\n",
       "      <td>2015</td>\n",
       "    </tr>\n",
       "    <tr>\n",
       "      <th>1584</th>\n",
       "      <td>NaN</td>\n",
       "      <td>Catholic University of the Sacred Heart</td>\n",
       "      <td>Italy</td>\n",
       "      <td>18</td>\n",
       "      <td>367</td>\n",
       "      <td>218</td>\n",
       "      <td>321</td>\n",
       "      <td>45.22</td>\n",
       "      <td>2015</td>\n",
       "    </tr>\n",
       "  </tbody>\n",
       "</table>\n",
       "</div>"
      ],
      "text/plain": [
       "      world_rank                                  institution      country  \\\n",
       "22           NaN      University of California, San Francisco          USA   \n",
       "208          NaN                           Cornell University          USA   \n",
       "531          NaN  Gwangju Institute of Science and Technology  South Korea   \n",
       "580          NaN             Scuola Normale Superiore di Pisa        Italy   \n",
       "629          NaN                     University of Bordeaux I       France   \n",
       "1240         NaN            Purdue University, West Lafayette          USA   \n",
       "1250         NaN              University of California, Davis          USA   \n",
       "1401         NaN             University of Erlangen-Nuremberg      Germany   \n",
       "1584         NaN      Catholic University of the Sacred Heart        Italy   \n",
       "\n",
       "      national_rank  quality_of_education  quality_of_faculty  citations  \\\n",
       "22               17                   101                  21         13   \n",
       "208               9                    12                  19         23   \n",
       "531               9                   355                 210        406   \n",
       "580              16                   229                  64        363   \n",
       "629              17                   355                 210        406   \n",
       "1240             27                    55                  47         68   \n",
       "1250             36                    54                  59         35   \n",
       "1401             13                   231                 218        146   \n",
       "1584             18                   367                 218        321   \n",
       "\n",
       "      score  year  \n",
       "22    59.70  2012  \n",
       "208   85.80  2014  \n",
       "531   46.02  2014  \n",
       "580   45.63  2014  \n",
       "629   45.41  2014  \n",
       "1240  56.39  2015  \n",
       "1250  54.85  2015  \n",
       "1401  47.36  2015  \n",
       "1584  45.22  2015  "
      ]
     },
     "execution_count": 234,
     "metadata": {},
     "output_type": "execute_result"
    }
   ],
   "source": [
    "wur[wur[\"world_rank\"].isnull()]"
   ]
  },
  {
   "cell_type": "code",
   "execution_count": 235,
   "metadata": {},
   "outputs": [
    {
     "data": {
      "text/html": [
       "<div>\n",
       "<style scoped>\n",
       "    .dataframe tbody tr th:only-of-type {\n",
       "        vertical-align: middle;\n",
       "    }\n",
       "\n",
       "    .dataframe tbody tr th {\n",
       "        vertical-align: top;\n",
       "    }\n",
       "\n",
       "    .dataframe thead th {\n",
       "        text-align: right;\n",
       "    }\n",
       "</style>\n",
       "<table border=\"1\" class=\"dataframe\">\n",
       "  <thead>\n",
       "    <tr style=\"text-align: right;\">\n",
       "      <th></th>\n",
       "      <th>world_rank</th>\n",
       "      <th>institution</th>\n",
       "      <th>country</th>\n",
       "      <th>national_rank</th>\n",
       "      <th>quality_of_education</th>\n",
       "      <th>quality_of_faculty</th>\n",
       "      <th>citations</th>\n",
       "      <th>score</th>\n",
       "      <th>year</th>\n",
       "    </tr>\n",
       "  </thead>\n",
       "  <tbody>\n",
       "    <tr>\n",
       "      <th>6</th>\n",
       "      <td>8.0</td>\n",
       "      <td>Yale University</td>\n",
       "      <td>USA</td>\n",
       "      <td>6</td>\n",
       "      <td>14</td>\n",
       "      <td>12</td>\n",
       "      <td>15</td>\n",
       "      <td>NaN</td>\n",
       "      <td>2012</td>\n",
       "    </tr>\n",
       "    <tr>\n",
       "      <th>31</th>\n",
       "      <td>33.0</td>\n",
       "      <td>Northwestern University</td>\n",
       "      <td>USA</td>\n",
       "      <td>23</td>\n",
       "      <td>101</td>\n",
       "      <td>101</td>\n",
       "      <td>20</td>\n",
       "      <td>NaN</td>\n",
       "      <td>2012</td>\n",
       "    </tr>\n",
       "    <tr>\n",
       "      <th>217</th>\n",
       "      <td>20.0</td>\n",
       "      <td>University of California, San Diego</td>\n",
       "      <td>USA</td>\n",
       "      <td>15</td>\n",
       "      <td>32</td>\n",
       "      <td>20</td>\n",
       "      <td>19</td>\n",
       "      <td>NaN</td>\n",
       "      <td>2014</td>\n",
       "    </tr>\n",
       "    <tr>\n",
       "      <th>326</th>\n",
       "      <td>129.0</td>\n",
       "      <td>Radboud University Nijmegen</td>\n",
       "      <td>Netherlands</td>\n",
       "      <td>6</td>\n",
       "      <td>118</td>\n",
       "      <td>210</td>\n",
       "      <td>114</td>\n",
       "      <td>NaN</td>\n",
       "      <td>2014</td>\n",
       "    </tr>\n",
       "    <tr>\n",
       "      <th>404</th>\n",
       "      <td>207.0</td>\n",
       "      <td>University of Georgia</td>\n",
       "      <td>USA</td>\n",
       "      <td>87</td>\n",
       "      <td>104</td>\n",
       "      <td>169</td>\n",
       "      <td>187</td>\n",
       "      <td>NaN</td>\n",
       "      <td>2014</td>\n",
       "    </tr>\n",
       "    <tr>\n",
       "      <th>480</th>\n",
       "      <td>283.0</td>\n",
       "      <td>Chulalongkorn University</td>\n",
       "      <td>Thailand</td>\n",
       "      <td>1</td>\n",
       "      <td>355</td>\n",
       "      <td>210</td>\n",
       "      <td>406</td>\n",
       "      <td>NaN</td>\n",
       "      <td>2014</td>\n",
       "    </tr>\n",
       "  </tbody>\n",
       "</table>\n",
       "</div>"
      ],
      "text/plain": [
       "     world_rank                          institution      country  \\\n",
       "6           8.0                      Yale University          USA   \n",
       "31         33.0              Northwestern University          USA   \n",
       "217        20.0  University of California, San Diego          USA   \n",
       "326       129.0          Radboud University Nijmegen  Netherlands   \n",
       "404       207.0                University of Georgia          USA   \n",
       "480       283.0             Chulalongkorn University     Thailand   \n",
       "\n",
       "     national_rank  quality_of_education  quality_of_faculty  citations  \\\n",
       "6                6                    14                  12         15   \n",
       "31              23                   101                 101         20   \n",
       "217             15                    32                  20         19   \n",
       "326              6                   118                 210        114   \n",
       "404             87                   104                 169        187   \n",
       "480              1                   355                 210        406   \n",
       "\n",
       "     score  year  \n",
       "6      NaN  2012  \n",
       "31     NaN  2012  \n",
       "217    NaN  2014  \n",
       "326    NaN  2014  \n",
       "404    NaN  2014  \n",
       "480    NaN  2014  "
      ]
     },
     "execution_count": 235,
     "metadata": {},
     "output_type": "execute_result"
    }
   ],
   "source": [
    "wur[wur[\"score\"].isnull()]"
   ]
  },
  {
   "cell_type": "code",
   "execution_count": 236,
   "metadata": {},
   "outputs": [
    {
     "data": {
      "text/html": [
       "<div>\n",
       "<style scoped>\n",
       "    .dataframe tbody tr th:only-of-type {\n",
       "        vertical-align: middle;\n",
       "    }\n",
       "\n",
       "    .dataframe tbody tr th {\n",
       "        vertical-align: top;\n",
       "    }\n",
       "\n",
       "    .dataframe thead th {\n",
       "        text-align: right;\n",
       "    }\n",
       "</style>\n",
       "<table border=\"1\" class=\"dataframe\">\n",
       "  <thead>\n",
       "    <tr style=\"text-align: right;\">\n",
       "      <th></th>\n",
       "      <th>world_rank</th>\n",
       "      <th>institution</th>\n",
       "      <th>country</th>\n",
       "      <th>national_rank</th>\n",
       "      <th>quality_of_education</th>\n",
       "      <th>quality_of_faculty</th>\n",
       "      <th>citations</th>\n",
       "      <th>score</th>\n",
       "      <th>year</th>\n",
       "    </tr>\n",
       "  </thead>\n",
       "  <tbody>\n",
       "    <tr>\n",
       "      <th>246</th>\n",
       "      <td>49.0</td>\n",
       "      <td>University of Minnesota, Twin Cities</td>\n",
       "      <td>NaN</td>\n",
       "      <td>31</td>\n",
       "      <td>61</td>\n",
       "      <td>83</td>\n",
       "      <td>29</td>\n",
       "      <td>56.13</td>\n",
       "      <td>2014</td>\n",
       "    </tr>\n",
       "    <tr>\n",
       "      <th>267</th>\n",
       "      <td>70.0</td>\n",
       "      <td>University of Arizona</td>\n",
       "      <td>NaN</td>\n",
       "      <td>45</td>\n",
       "      <td>99</td>\n",
       "      <td>87</td>\n",
       "      <td>37</td>\n",
       "      <td>53.77</td>\n",
       "      <td>2014</td>\n",
       "    </tr>\n",
       "  </tbody>\n",
       "</table>\n",
       "</div>"
      ],
      "text/plain": [
       "     world_rank                           institution country  national_rank  \\\n",
       "246        49.0  University of Minnesota, Twin Cities     NaN             31   \n",
       "267        70.0                 University of Arizona     NaN             45   \n",
       "\n",
       "     quality_of_education  quality_of_faculty  citations  score  year  \n",
       "246                    61                  83         29  56.13  2014  \n",
       "267                    99                  87         37  53.77  2014  "
      ]
     },
     "execution_count": 236,
     "metadata": {},
     "output_type": "execute_result"
    }
   ],
   "source": [
    "wur[wur[\"country\"].isnull()]"
   ]
  },
  {
   "cell_type": "markdown",
   "metadata": {},
   "source": [
    "# finding outliers in the DataFrame"
   ]
  },
  {
   "cell_type": "code",
   "execution_count": 237,
   "metadata": {},
   "outputs": [
    {
     "data": {
      "text/html": [
       "<div>\n",
       "<style scoped>\n",
       "    .dataframe tbody tr th:only-of-type {\n",
       "        vertical-align: middle;\n",
       "    }\n",
       "\n",
       "    .dataframe tbody tr th {\n",
       "        vertical-align: top;\n",
       "    }\n",
       "\n",
       "    .dataframe thead th {\n",
       "        text-align: right;\n",
       "    }\n",
       "</style>\n",
       "<table border=\"1\" class=\"dataframe\">\n",
       "  <thead>\n",
       "    <tr style=\"text-align: right;\">\n",
       "      <th></th>\n",
       "      <th>world_rank</th>\n",
       "      <th>national_rank</th>\n",
       "      <th>quality_of_education</th>\n",
       "      <th>quality_of_faculty</th>\n",
       "      <th>citations</th>\n",
       "      <th>score</th>\n",
       "      <th>year</th>\n",
       "    </tr>\n",
       "  </thead>\n",
       "  <tbody>\n",
       "    <tr>\n",
       "      <th>count</th>\n",
       "      <td>2189.000000</td>\n",
       "      <td>2198.000000</td>\n",
       "      <td>2198.000000</td>\n",
       "      <td>2198.000000</td>\n",
       "      <td>2198.000000</td>\n",
       "      <td>2192.000000</td>\n",
       "      <td>2198.000000</td>\n",
       "    </tr>\n",
       "    <tr>\n",
       "      <th>mean</th>\n",
       "      <td>461.007766</td>\n",
       "      <td>45.345314</td>\n",
       "      <td>275.297088</td>\n",
       "      <td>179.025933</td>\n",
       "      <td>413.752502</td>\n",
       "      <td>47.939849</td>\n",
       "      <td>2014.319836</td>\n",
       "    </tr>\n",
       "    <tr>\n",
       "      <th>std</th>\n",
       "      <td>304.199386</td>\n",
       "      <td>241.739637</td>\n",
       "      <td>121.809471</td>\n",
       "      <td>63.913280</td>\n",
       "      <td>264.249766</td>\n",
       "      <td>11.603804</td>\n",
       "      <td>0.760350</td>\n",
       "    </tr>\n",
       "    <tr>\n",
       "      <th>min</th>\n",
       "      <td>1.000000</td>\n",
       "      <td>1.000000</td>\n",
       "      <td>1.000000</td>\n",
       "      <td>1.000000</td>\n",
       "      <td>1.000000</td>\n",
       "      <td>43.360000</td>\n",
       "      <td>2012.000000</td>\n",
       "    </tr>\n",
       "    <tr>\n",
       "      <th>25%</th>\n",
       "      <td>177.000000</td>\n",
       "      <td>6.000000</td>\n",
       "      <td>176.250000</td>\n",
       "      <td>176.000000</td>\n",
       "      <td>161.000000</td>\n",
       "      <td>44.460000</td>\n",
       "      <td>2014.000000</td>\n",
       "    </tr>\n",
       "    <tr>\n",
       "      <th>50%</th>\n",
       "      <td>453.000000</td>\n",
       "      <td>21.000000</td>\n",
       "      <td>355.000000</td>\n",
       "      <td>210.000000</td>\n",
       "      <td>406.000000</td>\n",
       "      <td>45.090000</td>\n",
       "      <td>2014.000000</td>\n",
       "    </tr>\n",
       "    <tr>\n",
       "      <th>75%</th>\n",
       "      <td>727.000000</td>\n",
       "      <td>49.000000</td>\n",
       "      <td>367.000000</td>\n",
       "      <td>218.000000</td>\n",
       "      <td>645.000000</td>\n",
       "      <td>47.520000</td>\n",
       "      <td>2015.000000</td>\n",
       "    </tr>\n",
       "    <tr>\n",
       "      <th>max</th>\n",
       "      <td>1000.000000</td>\n",
       "      <td>11111.000000</td>\n",
       "      <td>367.000000</td>\n",
       "      <td>218.000000</td>\n",
       "      <td>812.000000</td>\n",
       "      <td>455.000000</td>\n",
       "      <td>2015.000000</td>\n",
       "    </tr>\n",
       "  </tbody>\n",
       "</table>\n",
       "</div>"
      ],
      "text/plain": [
       "        world_rank  national_rank  quality_of_education  quality_of_faculty  \\\n",
       "count  2189.000000    2198.000000           2198.000000         2198.000000   \n",
       "mean    461.007766      45.345314            275.297088          179.025933   \n",
       "std     304.199386     241.739637            121.809471           63.913280   \n",
       "min       1.000000       1.000000              1.000000            1.000000   \n",
       "25%     177.000000       6.000000            176.250000          176.000000   \n",
       "50%     453.000000      21.000000            355.000000          210.000000   \n",
       "75%     727.000000      49.000000            367.000000          218.000000   \n",
       "max    1000.000000   11111.000000            367.000000          218.000000   \n",
       "\n",
       "         citations        score         year  \n",
       "count  2198.000000  2192.000000  2198.000000  \n",
       "mean    413.752502    47.939849  2014.319836  \n",
       "std     264.249766    11.603804     0.760350  \n",
       "min       1.000000    43.360000  2012.000000  \n",
       "25%     161.000000    44.460000  2014.000000  \n",
       "50%     406.000000    45.090000  2014.000000  \n",
       "75%     645.000000    47.520000  2015.000000  \n",
       "max     812.000000   455.000000  2015.000000  "
      ]
     },
     "execution_count": 237,
     "metadata": {},
     "output_type": "execute_result"
    }
   ],
   "source": [
    "wur.describe()"
   ]
  },
  {
   "cell_type": "code",
   "execution_count": 238,
   "metadata": {},
   "outputs": [
    {
     "data": {
      "text/plain": [
       "<AxesSubplot:>"
      ]
     },
     "execution_count": 238,
     "metadata": {},
     "output_type": "execute_result"
    },
    {
     "data": {
      "image/png": "[encoded data removed]",
      "text/plain": [
       "<Figure size 432x288 with 1 Axes>"
      ]
     },
     "metadata": {
      "needs_background": "light"
     },
     "output_type": "display_data"
    }
   ],
   "source": [
    "wur.boxplot('score')\n",
    "#there is an outlier"
   ]
  },
  {
   "cell_type": "code",
   "execution_count": 239,
   "metadata": {},
   "outputs": [
    {
     "data": {
      "text/plain": [
       "<AxesSubplot:>"
      ]
     },
     "execution_count": 239,
     "metadata": {},
     "output_type": "execute_result"
    },
    {
     "data": {
      "image/png": "[encoded data removed]",
      "text/plain": [
       "<Figure size 432x288 with 1 Axes>"
      ]
     },
     "metadata": {
      "needs_background": "light"
     },
     "output_type": "display_data"
    }
   ],
   "source": [
    "wur.boxplot('national_rank')\n",
    "#there is an outlier"
   ]
  },
  {
   "cell_type": "code",
   "execution_count": 240,
   "metadata": {},
   "outputs": [
    {
     "data": {
      "text/plain": [
       "<AxesSubplot:>"
      ]
     },
     "execution_count": 240,
     "metadata": {},
     "output_type": "execute_result"
    },
    {
     "data": {
      "image/png": "[encoded data removed]",
      "text/plain": [
       "<Figure size 432x288 with 1 Axes>"
      ]
     },
     "metadata": {
      "needs_background": "light"
     },
     "output_type": "display_data"
    }
   ],
   "source": [
    "wur.boxplot('world_rank')\n",
    "# looks normal"
   ]
  },
  {
   "cell_type": "code",
   "execution_count": 241,
   "metadata": {},
   "outputs": [
    {
     "data": {
      "text/html": [
       "<div>\n",
       "<style scoped>\n",
       "    .dataframe tbody tr th:only-of-type {\n",
       "        vertical-align: middle;\n",
       "    }\n",
       "\n",
       "    .dataframe tbody tr th {\n",
       "        vertical-align: top;\n",
       "    }\n",
       "\n",
       "    .dataframe thead th {\n",
       "        text-align: right;\n",
       "    }\n",
       "</style>\n",
       "<table border=\"1\" class=\"dataframe\">\n",
       "  <thead>\n",
       "    <tr style=\"text-align: right;\">\n",
       "      <th></th>\n",
       "      <th>world_rank</th>\n",
       "      <th>institution</th>\n",
       "      <th>country</th>\n",
       "      <th>national_rank</th>\n",
       "      <th>quality_of_education</th>\n",
       "      <th>quality_of_faculty</th>\n",
       "      <th>citations</th>\n",
       "      <th>score</th>\n",
       "      <th>year</th>\n",
       "    </tr>\n",
       "  </thead>\n",
       "  <tbody>\n",
       "    <tr>\n",
       "      <th>0</th>\n",
       "      <td>1.0</td>\n",
       "      <td>Harvard University</td>\n",
       "      <td>USA</td>\n",
       "      <td>1</td>\n",
       "      <td>7</td>\n",
       "      <td>1</td>\n",
       "      <td>1</td>\n",
       "      <td>100.00</td>\n",
       "      <td>2012</td>\n",
       "    </tr>\n",
       "    <tr>\n",
       "      <th>99</th>\n",
       "      <td>1.0</td>\n",
       "      <td>Harvard University</td>\n",
       "      <td>USA</td>\n",
       "      <td>1</td>\n",
       "      <td>1</td>\n",
       "      <td>1</td>\n",
       "      <td>1</td>\n",
       "      <td>100.00</td>\n",
       "      <td>2013</td>\n",
       "    </tr>\n",
       "    <tr>\n",
       "      <th>198</th>\n",
       "      <td>1.0</td>\n",
       "      <td>Harvard University</td>\n",
       "      <td>USA</td>\n",
       "      <td>1</td>\n",
       "      <td>1</td>\n",
       "      <td>1</td>\n",
       "      <td>1</td>\n",
       "      <td>100.00</td>\n",
       "      <td>2014</td>\n",
       "    </tr>\n",
       "    <tr>\n",
       "      <th>199</th>\n",
       "      <td>2.0</td>\n",
       "      <td>Stanford University</td>\n",
       "      <td>USA</td>\n",
       "      <td>2</td>\n",
       "      <td>11</td>\n",
       "      <td>4</td>\n",
       "      <td>3</td>\n",
       "      <td>99.09</td>\n",
       "      <td>2014</td>\n",
       "    </tr>\n",
       "    <tr>\n",
       "      <th>583</th>\n",
       "      <td>386.0</td>\n",
       "      <td>Chiba University</td>\n",
       "      <td>Japan</td>\n",
       "      <td>18</td>\n",
       "      <td>355</td>\n",
       "      <td>210</td>\n",
       "      <td>406</td>\n",
       "      <td>455.00</td>\n",
       "      <td>2014</td>\n",
       "    </tr>\n",
       "    <tr>\n",
       "      <th>1198</th>\n",
       "      <td>1.0</td>\n",
       "      <td>Harvard University</td>\n",
       "      <td>USA</td>\n",
       "      <td>1</td>\n",
       "      <td>1</td>\n",
       "      <td>1</td>\n",
       "      <td>1</td>\n",
       "      <td>100.00</td>\n",
       "      <td>2015</td>\n",
       "    </tr>\n",
       "  </tbody>\n",
       "</table>\n",
       "</div>"
      ],
      "text/plain": [
       "      world_rank          institution country  national_rank  \\\n",
       "0            1.0   Harvard University     USA              1   \n",
       "99           1.0   Harvard University     USA              1   \n",
       "198          1.0   Harvard University     USA              1   \n",
       "199          2.0  Stanford University     USA              2   \n",
       "583        386.0     Chiba University   Japan             18   \n",
       "1198         1.0   Harvard University     USA              1   \n",
       "\n",
       "      quality_of_education  quality_of_faculty  citations   score  year  \n",
       "0                        7                   1          1  100.00  2012  \n",
       "99                       1                   1          1  100.00  2013  \n",
       "198                      1                   1          1  100.00  2014  \n",
       "199                     11                   4          3   99.09  2014  \n",
       "583                    355                 210        406  455.00  2014  \n",
       "1198                     1                   1          1  100.00  2015  "
      ]
     },
     "execution_count": 241,
     "metadata": {},
     "output_type": "execute_result"
    }
   ],
   "source": [
    "wur[wur[\"score\"]>99]\n",
    "\n",
    "# Japan in index 587 is considered to be an outlier \n",
    "# Logically for the score\n",
    "# Minimum score for this is 0 and maximum is 100"
   ]
  },
  {
   "cell_type": "code",
   "execution_count": 242,
   "metadata": {},
   "outputs": [
    {
     "data": {
      "text/html": [
       "<div>\n",
       "<style scoped>\n",
       "    .dataframe tbody tr th:only-of-type {\n",
       "        vertical-align: middle;\n",
       "    }\n",
       "\n",
       "    .dataframe tbody tr th {\n",
       "        vertical-align: top;\n",
       "    }\n",
       "\n",
       "    .dataframe thead th {\n",
       "        text-align: right;\n",
       "    }\n",
       "</style>\n",
       "<table border=\"1\" class=\"dataframe\">\n",
       "  <thead>\n",
       "    <tr style=\"text-align: right;\">\n",
       "      <th></th>\n",
       "      <th>world_rank</th>\n",
       "      <th>institution</th>\n",
       "      <th>country</th>\n",
       "      <th>national_rank</th>\n",
       "      <th>quality_of_education</th>\n",
       "      <th>quality_of_faculty</th>\n",
       "      <th>citations</th>\n",
       "      <th>score</th>\n",
       "      <th>year</th>\n",
       "    </tr>\n",
       "  </thead>\n",
       "  <tbody>\n",
       "    <tr>\n",
       "      <th>228</th>\n",
       "      <td>31.0</td>\n",
       "      <td>University of Toronto</td>\n",
       "      <td>Canada</td>\n",
       "      <td>11111</td>\n",
       "      <td>71</td>\n",
       "      <td>35</td>\n",
       "      <td>13</td>\n",
       "      <td>60.87</td>\n",
       "      <td>2014</td>\n",
       "    </tr>\n",
       "  </tbody>\n",
       "</table>\n",
       "</div>"
      ],
      "text/plain": [
       "     world_rank            institution country  national_rank  \\\n",
       "228        31.0  University of Toronto  Canada          11111   \n",
       "\n",
       "     quality_of_education  quality_of_faculty  citations  score  year  \n",
       "228                    71                  35         13  60.87  2014  "
      ]
     },
     "execution_count": 242,
     "metadata": {},
     "output_type": "execute_result"
    }
   ],
   "source": [
    "wur[wur[\"national_rank\"]>2000]\n",
    "\n",
    "# Canada in index 232 is considered to be an outlier \n"
   ]
  },
  {
   "cell_type": "code",
   "execution_count": 243,
   "metadata": {},
   "outputs": [],
   "source": [
    "# Convert national_rank outliers to null\n",
    "wur.loc[wur[\"national_rank\"] > 2000, \"national_rank\"] = np.nan\n",
    "\n",
    "# Convert score outliers to null\n",
    "wur.loc[wur[\"score\"] > 101, \"score\"] = np.nan"
   ]
  },
  {
   "cell_type": "code",
   "execution_count": 244,
   "metadata": {},
   "outputs": [
    {
     "data": {
      "text/html": [
       "<div>\n",
       "<style scoped>\n",
       "    .dataframe tbody tr th:only-of-type {\n",
       "        vertical-align: middle;\n",
       "    }\n",
       "\n",
       "    .dataframe tbody tr th {\n",
       "        vertical-align: top;\n",
       "    }\n",
       "\n",
       "    .dataframe thead th {\n",
       "        text-align: right;\n",
       "    }\n",
       "</style>\n",
       "<table border=\"1\" class=\"dataframe\">\n",
       "  <thead>\n",
       "    <tr style=\"text-align: right;\">\n",
       "      <th></th>\n",
       "      <th>world_rank</th>\n",
       "      <th>national_rank</th>\n",
       "      <th>quality_of_education</th>\n",
       "      <th>quality_of_faculty</th>\n",
       "      <th>citations</th>\n",
       "      <th>score</th>\n",
       "      <th>year</th>\n",
       "    </tr>\n",
       "  </thead>\n",
       "  <tbody>\n",
       "    <tr>\n",
       "      <th>count</th>\n",
       "      <td>2189.000000</td>\n",
       "      <td>2197.000000</td>\n",
       "      <td>2198.000000</td>\n",
       "      <td>2198.000000</td>\n",
       "      <td>2198.000000</td>\n",
       "      <td>2191.000000</td>\n",
       "      <td>2198.000000</td>\n",
       "    </tr>\n",
       "    <tr>\n",
       "      <th>mean</th>\n",
       "      <td>461.007766</td>\n",
       "      <td>40.308603</td>\n",
       "      <td>275.297088</td>\n",
       "      <td>179.025933</td>\n",
       "      <td>413.752502</td>\n",
       "      <td>47.754062</td>\n",
       "      <td>2014.319836</td>\n",
       "    </tr>\n",
       "    <tr>\n",
       "      <th>std</th>\n",
       "      <td>304.199386</td>\n",
       "      <td>51.762879</td>\n",
       "      <td>121.809471</td>\n",
       "      <td>63.913280</td>\n",
       "      <td>264.249766</td>\n",
       "      <td>7.682061</td>\n",
       "      <td>0.760350</td>\n",
       "    </tr>\n",
       "    <tr>\n",
       "      <th>min</th>\n",
       "      <td>1.000000</td>\n",
       "      <td>1.000000</td>\n",
       "      <td>1.000000</td>\n",
       "      <td>1.000000</td>\n",
       "      <td>1.000000</td>\n",
       "      <td>43.360000</td>\n",
       "      <td>2012.000000</td>\n",
       "    </tr>\n",
       "    <tr>\n",
       "      <th>25%</th>\n",
       "      <td>177.000000</td>\n",
       "      <td>6.000000</td>\n",
       "      <td>176.250000</td>\n",
       "      <td>176.000000</td>\n",
       "      <td>161.000000</td>\n",
       "      <td>44.460000</td>\n",
       "      <td>2014.000000</td>\n",
       "    </tr>\n",
       "    <tr>\n",
       "      <th>50%</th>\n",
       "      <td>453.000000</td>\n",
       "      <td>21.000000</td>\n",
       "      <td>355.000000</td>\n",
       "      <td>210.000000</td>\n",
       "      <td>406.000000</td>\n",
       "      <td>45.090000</td>\n",
       "      <td>2014.000000</td>\n",
       "    </tr>\n",
       "    <tr>\n",
       "      <th>75%</th>\n",
       "      <td>727.000000</td>\n",
       "      <td>49.000000</td>\n",
       "      <td>367.000000</td>\n",
       "      <td>218.000000</td>\n",
       "      <td>645.000000</td>\n",
       "      <td>47.520000</td>\n",
       "      <td>2015.000000</td>\n",
       "    </tr>\n",
       "    <tr>\n",
       "      <th>max</th>\n",
       "      <td>1000.000000</td>\n",
       "      <td>229.000000</td>\n",
       "      <td>367.000000</td>\n",
       "      <td>218.000000</td>\n",
       "      <td>812.000000</td>\n",
       "      <td>100.000000</td>\n",
       "      <td>2015.000000</td>\n",
       "    </tr>\n",
       "  </tbody>\n",
       "</table>\n",
       "</div>"
      ],
      "text/plain": [
       "        world_rank  national_rank  quality_of_education  quality_of_faculty  \\\n",
       "count  2189.000000    2197.000000           2198.000000         2198.000000   \n",
       "mean    461.007766      40.308603            275.297088          179.025933   \n",
       "std     304.199386      51.762879            121.809471           63.913280   \n",
       "min       1.000000       1.000000              1.000000            1.000000   \n",
       "25%     177.000000       6.000000            176.250000          176.000000   \n",
       "50%     453.000000      21.000000            355.000000          210.000000   \n",
       "75%     727.000000      49.000000            367.000000          218.000000   \n",
       "max    1000.000000     229.000000            367.000000          218.000000   \n",
       "\n",
       "         citations        score         year  \n",
       "count  2198.000000  2191.000000  2198.000000  \n",
       "mean    413.752502    47.754062  2014.319836  \n",
       "std     264.249766     7.682061     0.760350  \n",
       "min       1.000000    43.360000  2012.000000  \n",
       "25%     161.000000    44.460000  2014.000000  \n",
       "50%     406.000000    45.090000  2014.000000  \n",
       "75%     645.000000    47.520000  2015.000000  \n",
       "max     812.000000   100.000000  2015.000000  "
      ]
     },
     "execution_count": 244,
     "metadata": {},
     "output_type": "execute_result"
    }
   ],
   "source": [
    "wur.describe()"
   ]
  },
  {
   "cell_type": "code",
   "execution_count": 245,
   "metadata": {},
   "outputs": [
    {
     "data": {
      "text/plain": [
       "<AxesSubplot:>"
      ]
     },
     "execution_count": 245,
     "metadata": {},
     "output_type": "execute_result"
    },
    {
     "data": {
      "image/png": "[encoded data removed]",
      "text/plain": [
       "<Figure size 432x288 with 1 Axes>"
      ]
     },
     "metadata": {
      "needs_background": "light"
     },
     "output_type": "display_data"
    }
   ],
   "source": [
    "wur.boxplot('score')"
   ]
  },
  {
   "cell_type": "code",
   "execution_count": 246,
   "metadata": {},
   "outputs": [
    {
     "data": {
      "text/plain": [
       "<AxesSubplot:>"
      ]
     },
     "execution_count": 246,
     "metadata": {},
     "output_type": "execute_result"
    },
    {
     "data": {
      "image/png": "[encoded data removed]",
      "text/plain": [
       "<Figure size 432x288 with 1 Axes>"
      ]
     },
     "metadata": {
      "needs_background": "light"
     },
     "output_type": "display_data"
    }
   ],
   "source": [
    "wur.boxplot('national_rank')"
   ]
  },
  {
   "cell_type": "markdown",
   "metadata": {},
   "source": [
    "This code snippet fills in missing values in the 'world_rank' column of a DataFrame called 'wur' using linear interpolation. Linear interpolation is a method for estimating a value that falls between two known values.\n",
    "\n",
    "The code then loops through each row in the DataFrame and checks if the 'world_rank' column is missing a value. If it is missing, the code finds the previous and next non-missing values by searching backward and forward from the current row.\n",
    "\n",
    "Once the previous and next non-missing values have been found, the missing value is estimated by taking the average of the previous and next values. Finally, the missing value is replaced with the estimated value."
   ]
  },
  {
   "cell_type": "code",
   "execution_count": 247,
   "metadata": {},
   "outputs": [],
   "source": [
    "\n",
    "# Fill in missing values using linear interpolation\n",
    "wur = wur.interpolate()\n",
    "\n",
    "# Loop through each row in the DataFrame\n",
    "for idx, row in wur.iterrows():\n",
    "    # Check if the 'world_rank' column is missing\n",
    "    if pd.isna(row['world_rank']):\n",
    "        # Find the previous and next non-missing values\n",
    "        prev_idx = idx - 1\n",
    "        while prev_idx >= 0 and pd.isna(wur.loc[prev_idx, 'world_rank']):\n",
    "            prev_idx -= 1\n",
    "        next_idx = idx + 1\n",
    "        while next_idx < len(df) and pd.isna(wur.loc[next_idx, 'world_rank']):\n",
    "            next_idx += 1\n",
    "            \n",
    "        # Interpolate the missing value\n",
    "        value = (wur.loc[prev_idx, 'world_rank'] + wur.loc[next_idx, 'world_rank']) / 2\n",
    "        wur.loc[idx, 'world_rank'] = value\n"
   ]
  },
  {
   "cell_type": "code",
   "execution_count": 248,
   "metadata": {},
   "outputs": [
    {
     "data": {
      "text/plain": [
       "world_rank              0\n",
       "institution             0\n",
       "country                 2\n",
       "national_rank           0\n",
       "quality_of_education    0\n",
       "quality_of_faculty      0\n",
       "citations               0\n",
       "score                   0\n",
       "year                    0\n",
       "dtype: int64"
      ]
     },
     "execution_count": 248,
     "metadata": {},
     "output_type": "execute_result"
    }
   ],
   "source": [
    "wur.isnull().sum()"
   ]
  },
  {
   "cell_type": "code",
   "execution_count": 249,
   "metadata": {},
   "outputs": [
    {
     "data": {
      "text/html": [
       "<div>\n",
       "<style scoped>\n",
       "    .dataframe tbody tr th:only-of-type {\n",
       "        vertical-align: middle;\n",
       "    }\n",
       "\n",
       "    .dataframe tbody tr th {\n",
       "        vertical-align: top;\n",
       "    }\n",
       "\n",
       "    .dataframe thead th {\n",
       "        text-align: right;\n",
       "    }\n",
       "</style>\n",
       "<table border=\"1\" class=\"dataframe\">\n",
       "  <thead>\n",
       "    <tr style=\"text-align: right;\">\n",
       "      <th></th>\n",
       "      <th>world_rank</th>\n",
       "      <th>institution</th>\n",
       "      <th>country</th>\n",
       "      <th>national_rank</th>\n",
       "      <th>quality_of_education</th>\n",
       "      <th>quality_of_faculty</th>\n",
       "      <th>citations</th>\n",
       "      <th>score</th>\n",
       "      <th>year</th>\n",
       "    </tr>\n",
       "  </thead>\n",
       "  <tbody>\n",
       "    <tr>\n",
       "      <th>246</th>\n",
       "      <td>49.0</td>\n",
       "      <td>University of Minnesota, Twin Cities</td>\n",
       "      <td>NaN</td>\n",
       "      <td>31.0</td>\n",
       "      <td>61</td>\n",
       "      <td>83</td>\n",
       "      <td>29</td>\n",
       "      <td>56.13</td>\n",
       "      <td>2014</td>\n",
       "    </tr>\n",
       "    <tr>\n",
       "      <th>267</th>\n",
       "      <td>70.0</td>\n",
       "      <td>University of Arizona</td>\n",
       "      <td>NaN</td>\n",
       "      <td>45.0</td>\n",
       "      <td>99</td>\n",
       "      <td>87</td>\n",
       "      <td>37</td>\n",
       "      <td>53.77</td>\n",
       "      <td>2014</td>\n",
       "    </tr>\n",
       "  </tbody>\n",
       "</table>\n",
       "</div>"
      ],
      "text/plain": [
       "     world_rank                           institution country  national_rank  \\\n",
       "246        49.0  University of Minnesota, Twin Cities     NaN           31.0   \n",
       "267        70.0                 University of Arizona     NaN           45.0   \n",
       "\n",
       "     quality_of_education  quality_of_faculty  citations  score  year  \n",
       "246                    61                  83         29  56.13  2014  \n",
       "267                    99                  87         37  53.77  2014  "
      ]
     },
     "execution_count": 249,
     "metadata": {},
     "output_type": "execute_result"
    }
   ],
   "source": [
    "countryMiss=wur[wur[\"country\"].isnull()]\n",
    "countryMiss"
   ]
  },
  {
   "cell_type": "code",
   "execution_count": 250,
   "metadata": {},
   "outputs": [
    {
     "data": {
      "text/html": [
       "<div>\n",
       "<style scoped>\n",
       "    .dataframe tbody tr th:only-of-type {\n",
       "        vertical-align: middle;\n",
       "    }\n",
       "\n",
       "    .dataframe tbody tr th {\n",
       "        vertical-align: top;\n",
       "    }\n",
       "\n",
       "    .dataframe thead th {\n",
       "        text-align: right;\n",
       "    }\n",
       "</style>\n",
       "<table border=\"1\" class=\"dataframe\">\n",
       "  <thead>\n",
       "    <tr style=\"text-align: right;\">\n",
       "      <th></th>\n",
       "      <th>world_rank</th>\n",
       "      <th>institution</th>\n",
       "      <th>country</th>\n",
       "      <th>national_rank</th>\n",
       "      <th>quality_of_education</th>\n",
       "      <th>quality_of_faculty</th>\n",
       "      <th>citations</th>\n",
       "      <th>score</th>\n",
       "      <th>year</th>\n",
       "    </tr>\n",
       "  </thead>\n",
       "  <tbody>\n",
       "    <tr>\n",
       "      <th>48</th>\n",
       "      <td>50.0</td>\n",
       "      <td>University of Arizona</td>\n",
       "      <td>USA</td>\n",
       "      <td>37.0</td>\n",
       "      <td>101</td>\n",
       "      <td>88</td>\n",
       "      <td>45</td>\n",
       "      <td>50.29</td>\n",
       "      <td>2012</td>\n",
       "    </tr>\n",
       "    <tr>\n",
       "      <th>176</th>\n",
       "      <td>78.0</td>\n",
       "      <td>University of Arizona</td>\n",
       "      <td>USA</td>\n",
       "      <td>49.0</td>\n",
       "      <td>101</td>\n",
       "      <td>90</td>\n",
       "      <td>49</td>\n",
       "      <td>46.39</td>\n",
       "      <td>2013</td>\n",
       "    </tr>\n",
       "    <tr>\n",
       "      <th>267</th>\n",
       "      <td>70.0</td>\n",
       "      <td>University of Arizona</td>\n",
       "      <td>NaN</td>\n",
       "      <td>45.0</td>\n",
       "      <td>99</td>\n",
       "      <td>87</td>\n",
       "      <td>37</td>\n",
       "      <td>53.77</td>\n",
       "      <td>2014</td>\n",
       "    </tr>\n",
       "    <tr>\n",
       "      <th>1265</th>\n",
       "      <td>68.0</td>\n",
       "      <td>University of Arizona</td>\n",
       "      <td>USA</td>\n",
       "      <td>42.0</td>\n",
       "      <td>139</td>\n",
       "      <td>87</td>\n",
       "      <td>31</td>\n",
       "      <td>53.26</td>\n",
       "      <td>2015</td>\n",
       "    </tr>\n",
       "  </tbody>\n",
       "</table>\n",
       "</div>"
      ],
      "text/plain": [
       "      world_rank            institution country  national_rank  \\\n",
       "48          50.0  University of Arizona     USA           37.0   \n",
       "176         78.0  University of Arizona     USA           49.0   \n",
       "267         70.0  University of Arizona     NaN           45.0   \n",
       "1265        68.0  University of Arizona     USA           42.0   \n",
       "\n",
       "      quality_of_education  quality_of_faculty  citations  score  year  \n",
       "48                     101                  88         45  50.29  2012  \n",
       "176                    101                  90         49  46.39  2013  \n",
       "267                     99                  87         37  53.77  2014  \n",
       "1265                   139                  87         31  53.26  2015  "
      ]
     },
     "execution_count": 250,
     "metadata": {},
     "output_type": "execute_result"
    }
   ],
   "source": [
    "wur[wur[\"institution\"]==\"University of Arizona\"]"
   ]
  },
  {
   "cell_type": "code",
   "execution_count": 251,
   "metadata": {},
   "outputs": [
    {
     "data": {
      "text/html": [
       "<div>\n",
       "<style scoped>\n",
       "    .dataframe tbody tr th:only-of-type {\n",
       "        vertical-align: middle;\n",
       "    }\n",
       "\n",
       "    .dataframe tbody tr th {\n",
       "        vertical-align: top;\n",
       "    }\n",
       "\n",
       "    .dataframe thead th {\n",
       "        text-align: right;\n",
       "    }\n",
       "</style>\n",
       "<table border=\"1\" class=\"dataframe\">\n",
       "  <thead>\n",
       "    <tr style=\"text-align: right;\">\n",
       "      <th></th>\n",
       "      <th>world_rank</th>\n",
       "      <th>institution</th>\n",
       "      <th>country</th>\n",
       "      <th>national_rank</th>\n",
       "      <th>quality_of_education</th>\n",
       "      <th>quality_of_faculty</th>\n",
       "      <th>citations</th>\n",
       "      <th>score</th>\n",
       "      <th>year</th>\n",
       "    </tr>\n",
       "  </thead>\n",
       "  <tbody>\n",
       "    <tr>\n",
       "      <th>47</th>\n",
       "      <td>49.0</td>\n",
       "      <td>University of Minnesota, Twin Cities</td>\n",
       "      <td>USA</td>\n",
       "      <td>36.0</td>\n",
       "      <td>101</td>\n",
       "      <td>85</td>\n",
       "      <td>17</td>\n",
       "      <td>50.30</td>\n",
       "      <td>2012</td>\n",
       "    </tr>\n",
       "    <tr>\n",
       "      <th>142</th>\n",
       "      <td>44.0</td>\n",
       "      <td>University of Minnesota, Twin Cities</td>\n",
       "      <td>USA</td>\n",
       "      <td>31.0</td>\n",
       "      <td>101</td>\n",
       "      <td>87</td>\n",
       "      <td>16</td>\n",
       "      <td>50.98</td>\n",
       "      <td>2013</td>\n",
       "    </tr>\n",
       "    <tr>\n",
       "      <th>246</th>\n",
       "      <td>49.0</td>\n",
       "      <td>University of Minnesota, Twin Cities</td>\n",
       "      <td>NaN</td>\n",
       "      <td>31.0</td>\n",
       "      <td>61</td>\n",
       "      <td>83</td>\n",
       "      <td>29</td>\n",
       "      <td>56.13</td>\n",
       "      <td>2014</td>\n",
       "    </tr>\n",
       "    <tr>\n",
       "      <th>1245</th>\n",
       "      <td>48.0</td>\n",
       "      <td>University of Minnesota, Twin Cities</td>\n",
       "      <td>USA</td>\n",
       "      <td>31.0</td>\n",
       "      <td>63</td>\n",
       "      <td>63</td>\n",
       "      <td>31</td>\n",
       "      <td>55.51</td>\n",
       "      <td>2015</td>\n",
       "    </tr>\n",
       "  </tbody>\n",
       "</table>\n",
       "</div>"
      ],
      "text/plain": [
       "      world_rank                           institution country  national_rank  \\\n",
       "47          49.0  University of Minnesota, Twin Cities     USA           36.0   \n",
       "142         44.0  University of Minnesota, Twin Cities     USA           31.0   \n",
       "246         49.0  University of Minnesota, Twin Cities     NaN           31.0   \n",
       "1245        48.0  University of Minnesota, Twin Cities     USA           31.0   \n",
       "\n",
       "      quality_of_education  quality_of_faculty  citations  score  year  \n",
       "47                     101                  85         17  50.30  2012  \n",
       "142                    101                  87         16  50.98  2013  \n",
       "246                     61                  83         29  56.13  2014  \n",
       "1245                    63                  63         31  55.51  2015  "
      ]
     },
     "execution_count": 251,
     "metadata": {},
     "output_type": "execute_result"
    }
   ],
   "source": [
    "wur[wur[\"institution\"]==\"University of Minnesota, Twin Cities\"]"
   ]
  },
  {
   "cell_type": "markdown",
   "metadata": {},
   "source": [
    "we will take the same **institution** name in other **years** and take the country name and fill the missing values  "
   ]
  },
  {
   "cell_type": "code",
   "execution_count": 252,
   "metadata": {},
   "outputs": [],
   "source": [
    "# Loop through each row in the DataFrame\n",
    "for idx, row in wur.iterrows():\n",
    "    # Check if the 'country' column is missing\n",
    "    if pd.isna(row['country']):\n",
    "        # Find the rows with the same 'institution' name\n",
    "        institution = row['institution']\n",
    "        matches = wur[wur['institution'] == institution]\n",
    "        # Find the first non-missing 'country' value in the matches\n",
    "        country = matches['country'].dropna().iloc[0]\n",
    "        # Fill in the missing value\n",
    "        wur.loc[idx, 'country'] = country"
   ]
  },
  {
   "cell_type": "markdown",
   "metadata": {},
   "source": [
    "# 4. we need to recheck  the dataset and make sure everything is alright"
   ]
  },
  {
   "cell_type": "code",
   "execution_count": 253,
   "metadata": {},
   "outputs": [
    {
     "data": {
      "text/plain": [
       "world_rank              0\n",
       "institution             0\n",
       "country                 0\n",
       "national_rank           0\n",
       "quality_of_education    0\n",
       "quality_of_faculty      0\n",
       "citations               0\n",
       "score                   0\n",
       "year                    0\n",
       "dtype: int64"
      ]
     },
     "execution_count": 253,
     "metadata": {},
     "output_type": "execute_result"
    }
   ],
   "source": [
    "wur.isnull().sum()"
   ]
  },
  {
   "cell_type": "code",
   "execution_count": 254,
   "metadata": {},
   "outputs": [
    {
     "data": {
      "text/html": [
       "<div>\n",
       "<style scoped>\n",
       "    .dataframe tbody tr th:only-of-type {\n",
       "        vertical-align: middle;\n",
       "    }\n",
       "\n",
       "    .dataframe tbody tr th {\n",
       "        vertical-align: top;\n",
       "    }\n",
       "\n",
       "    .dataframe thead th {\n",
       "        text-align: right;\n",
       "    }\n",
       "</style>\n",
       "<table border=\"1\" class=\"dataframe\">\n",
       "  <thead>\n",
       "    <tr style=\"text-align: right;\">\n",
       "      <th></th>\n",
       "      <th>world_rank</th>\n",
       "      <th>institution</th>\n",
       "      <th>country</th>\n",
       "      <th>national_rank</th>\n",
       "      <th>quality_of_education</th>\n",
       "      <th>quality_of_faculty</th>\n",
       "      <th>citations</th>\n",
       "      <th>score</th>\n",
       "      <th>year</th>\n",
       "    </tr>\n",
       "  </thead>\n",
       "  <tbody>\n",
       "    <tr>\n",
       "      <th>48</th>\n",
       "      <td>50.0</td>\n",
       "      <td>University of Arizona</td>\n",
       "      <td>USA</td>\n",
       "      <td>37.0</td>\n",
       "      <td>101</td>\n",
       "      <td>88</td>\n",
       "      <td>45</td>\n",
       "      <td>50.29</td>\n",
       "      <td>2012</td>\n",
       "    </tr>\n",
       "    <tr>\n",
       "      <th>176</th>\n",
       "      <td>78.0</td>\n",
       "      <td>University of Arizona</td>\n",
       "      <td>USA</td>\n",
       "      <td>49.0</td>\n",
       "      <td>101</td>\n",
       "      <td>90</td>\n",
       "      <td>49</td>\n",
       "      <td>46.39</td>\n",
       "      <td>2013</td>\n",
       "    </tr>\n",
       "    <tr>\n",
       "      <th>267</th>\n",
       "      <td>70.0</td>\n",
       "      <td>University of Arizona</td>\n",
       "      <td>USA</td>\n",
       "      <td>45.0</td>\n",
       "      <td>99</td>\n",
       "      <td>87</td>\n",
       "      <td>37</td>\n",
       "      <td>53.77</td>\n",
       "      <td>2014</td>\n",
       "    </tr>\n",
       "    <tr>\n",
       "      <th>1265</th>\n",
       "      <td>68.0</td>\n",
       "      <td>University of Arizona</td>\n",
       "      <td>USA</td>\n",
       "      <td>42.0</td>\n",
       "      <td>139</td>\n",
       "      <td>87</td>\n",
       "      <td>31</td>\n",
       "      <td>53.26</td>\n",
       "      <td>2015</td>\n",
       "    </tr>\n",
       "  </tbody>\n",
       "</table>\n",
       "</div>"
      ],
      "text/plain": [
       "      world_rank            institution country  national_rank  \\\n",
       "48          50.0  University of Arizona     USA           37.0   \n",
       "176         78.0  University of Arizona     USA           49.0   \n",
       "267         70.0  University of Arizona     USA           45.0   \n",
       "1265        68.0  University of Arizona     USA           42.0   \n",
       "\n",
       "      quality_of_education  quality_of_faculty  citations  score  year  \n",
       "48                     101                  88         45  50.29  2012  \n",
       "176                    101                  90         49  46.39  2013  \n",
       "267                     99                  87         37  53.77  2014  \n",
       "1265                   139                  87         31  53.26  2015  "
      ]
     },
     "execution_count": 254,
     "metadata": {},
     "output_type": "execute_result"
    }
   ],
   "source": [
    "\n",
    "wur[wur[\"institution\"]==\"University of Arizona\"]\n"
   ]
  },
  {
   "cell_type": "code",
   "execution_count": 255,
   "metadata": {},
   "outputs": [
    {
     "data": {
      "text/html": [
       "<div>\n",
       "<style scoped>\n",
       "    .dataframe tbody tr th:only-of-type {\n",
       "        vertical-align: middle;\n",
       "    }\n",
       "\n",
       "    .dataframe tbody tr th {\n",
       "        vertical-align: top;\n",
       "    }\n",
       "\n",
       "    .dataframe thead th {\n",
       "        text-align: right;\n",
       "    }\n",
       "</style>\n",
       "<table border=\"1\" class=\"dataframe\">\n",
       "  <thead>\n",
       "    <tr style=\"text-align: right;\">\n",
       "      <th></th>\n",
       "      <th>world_rank</th>\n",
       "      <th>institution</th>\n",
       "      <th>country</th>\n",
       "      <th>national_rank</th>\n",
       "      <th>quality_of_education</th>\n",
       "      <th>quality_of_faculty</th>\n",
       "      <th>citations</th>\n",
       "      <th>score</th>\n",
       "      <th>year</th>\n",
       "    </tr>\n",
       "  </thead>\n",
       "  <tbody>\n",
       "    <tr>\n",
       "      <th>47</th>\n",
       "      <td>49.0</td>\n",
       "      <td>University of Minnesota, Twin Cities</td>\n",
       "      <td>USA</td>\n",
       "      <td>36.0</td>\n",
       "      <td>101</td>\n",
       "      <td>85</td>\n",
       "      <td>17</td>\n",
       "      <td>50.30</td>\n",
       "      <td>2012</td>\n",
       "    </tr>\n",
       "    <tr>\n",
       "      <th>142</th>\n",
       "      <td>44.0</td>\n",
       "      <td>University of Minnesota, Twin Cities</td>\n",
       "      <td>USA</td>\n",
       "      <td>31.0</td>\n",
       "      <td>101</td>\n",
       "      <td>87</td>\n",
       "      <td>16</td>\n",
       "      <td>50.98</td>\n",
       "      <td>2013</td>\n",
       "    </tr>\n",
       "    <tr>\n",
       "      <th>246</th>\n",
       "      <td>49.0</td>\n",
       "      <td>University of Minnesota, Twin Cities</td>\n",
       "      <td>USA</td>\n",
       "      <td>31.0</td>\n",
       "      <td>61</td>\n",
       "      <td>83</td>\n",
       "      <td>29</td>\n",
       "      <td>56.13</td>\n",
       "      <td>2014</td>\n",
       "    </tr>\n",
       "    <tr>\n",
       "      <th>1245</th>\n",
       "      <td>48.0</td>\n",
       "      <td>University of Minnesota, Twin Cities</td>\n",
       "      <td>USA</td>\n",
       "      <td>31.0</td>\n",
       "      <td>63</td>\n",
       "      <td>63</td>\n",
       "      <td>31</td>\n",
       "      <td>55.51</td>\n",
       "      <td>2015</td>\n",
       "    </tr>\n",
       "  </tbody>\n",
       "</table>\n",
       "</div>"
      ],
      "text/plain": [
       "      world_rank                           institution country  national_rank  \\\n",
       "47          49.0  University of Minnesota, Twin Cities     USA           36.0   \n",
       "142         44.0  University of Minnesota, Twin Cities     USA           31.0   \n",
       "246         49.0  University of Minnesota, Twin Cities     USA           31.0   \n",
       "1245        48.0  University of Minnesota, Twin Cities     USA           31.0   \n",
       "\n",
       "      quality_of_education  quality_of_faculty  citations  score  year  \n",
       "47                     101                  85         17  50.30  2012  \n",
       "142                    101                  87         16  50.98  2013  \n",
       "246                     61                  83         29  56.13  2014  \n",
       "1245                    63                  63         31  55.51  2015  "
      ]
     },
     "execution_count": 255,
     "metadata": {},
     "output_type": "execute_result"
    }
   ],
   "source": [
    "wur[wur[\"institution\"]==\"University of Minnesota, Twin Cities\"]"
   ]
  },
  {
   "cell_type": "code",
   "execution_count": null,
   "metadata": {},
   "outputs": [],
   "source": []
  },
  {
   "cell_type": "markdown",
   "metadata": {},
   "source": [
    "### re devide again the DataFrame acording to the year "
   ]
  },
  {
   "cell_type": "code",
   "execution_count": 256,
   "metadata": {},
   "outputs": [],
   "source": [
    "wur12=wur[(wur[\"year\"]==2012)]\n",
    "wur13=wur[(wur[\"year\"]==2013)]\n",
    "wur14=wur[(wur[\"year\"]==2014)]\n",
    "wur15=wur[(wur[\"year\"]==2015)]"
   ]
  },
  {
   "cell_type": "code",
   "execution_count": null,
   "metadata": {},
   "outputs": [],
   "source": []
  },
  {
   "cell_type": "markdown",
   "metadata": {},
   "source": [
    "# Exploratory Data Analysis (EDA)"
   ]
  },
  {
   "cell_type": "code",
   "execution_count": 257,
   "metadata": {},
   "outputs": [],
   "source": [
    "import matplotlib.pyplot as plt\n",
    "from sklearn import preprocessing\n",
    "import seaborn as sn"
   ]
  },
  {
   "cell_type": "code",
   "execution_count": 258,
   "metadata": {},
   "outputs": [
    {
     "name": "stderr",
     "output_type": "stream",
     "text": [
      "C:\\Users\\Eddie\\AppData\\Local\\Temp\\ipykernel_34536\\2848100972.py:2: FutureWarning:\n",
      "\n",
      "The default value of numeric_only in DataFrame.corr is deprecated. In a future version, it will default to False. Select only valid columns or specify the value of numeric_only to silence this warning.\n",
      "\n"
     ]
    },
    {
     "data": {
      "text/html": [
       "<div>\n",
       "<style scoped>\n",
       "    .dataframe tbody tr th:only-of-type {\n",
       "        vertical-align: middle;\n",
       "    }\n",
       "\n",
       "    .dataframe tbody tr th {\n",
       "        vertical-align: top;\n",
       "    }\n",
       "\n",
       "    .dataframe thead th {\n",
       "        text-align: right;\n",
       "    }\n",
       "</style>\n",
       "<table border=\"1\" class=\"dataframe\">\n",
       "  <thead>\n",
       "    <tr style=\"text-align: right;\">\n",
       "      <th></th>\n",
       "      <th>world_rank</th>\n",
       "      <th>national_rank</th>\n",
       "      <th>quality_of_education</th>\n",
       "      <th>quality_of_faculty</th>\n",
       "      <th>citations</th>\n",
       "      <th>score</th>\n",
       "      <th>year</th>\n",
       "    </tr>\n",
       "  </thead>\n",
       "  <tbody>\n",
       "    <tr>\n",
       "      <th>world_rank</th>\n",
       "      <td>1.000000</td>\n",
       "      <td>0.238272</td>\n",
       "      <td>0.675497</td>\n",
       "      <td>0.663166</td>\n",
       "      <td>0.856321</td>\n",
       "      <td>-0.549557</td>\n",
       "      <td>0.318951</td>\n",
       "    </tr>\n",
       "    <tr>\n",
       "      <th>national_rank</th>\n",
       "      <td>0.238272</td>\n",
       "      <td>1.000000</td>\n",
       "      <td>0.211581</td>\n",
       "      <td>0.222500</td>\n",
       "      <td>0.186435</td>\n",
       "      <td>-0.199130</td>\n",
       "      <td>0.102363</td>\n",
       "    </tr>\n",
       "    <tr>\n",
       "      <th>quality_of_education</th>\n",
       "      <td>0.675497</td>\n",
       "      <td>0.211581</td>\n",
       "      <td>1.000000</td>\n",
       "      <td>0.785464</td>\n",
       "      <td>0.629654</td>\n",
       "      <td>-0.600328</td>\n",
       "      <td>0.425494</td>\n",
       "    </tr>\n",
       "    <tr>\n",
       "      <th>quality_of_faculty</th>\n",
       "      <td>0.663166</td>\n",
       "      <td>0.222500</td>\n",
       "      <td>0.785464</td>\n",
       "      <td>1.000000</td>\n",
       "      <td>0.651414</td>\n",
       "      <td>-0.693473</td>\n",
       "      <td>0.482041</td>\n",
       "    </tr>\n",
       "    <tr>\n",
       "      <th>citations</th>\n",
       "      <td>0.856321</td>\n",
       "      <td>0.186435</td>\n",
       "      <td>0.629654</td>\n",
       "      <td>0.651414</td>\n",
       "      <td>1.000000</td>\n",
       "      <td>-0.522592</td>\n",
       "      <td>0.326852</td>\n",
       "    </tr>\n",
       "    <tr>\n",
       "      <th>score</th>\n",
       "      <td>-0.549557</td>\n",
       "      <td>-0.199130</td>\n",
       "      <td>-0.600328</td>\n",
       "      <td>-0.693473</td>\n",
       "      <td>-0.522592</td>\n",
       "      <td>1.000000</td>\n",
       "      <td>-0.234163</td>\n",
       "    </tr>\n",
       "    <tr>\n",
       "      <th>year</th>\n",
       "      <td>0.318951</td>\n",
       "      <td>0.102363</td>\n",
       "      <td>0.425494</td>\n",
       "      <td>0.482041</td>\n",
       "      <td>0.326852</td>\n",
       "      <td>-0.234163</td>\n",
       "      <td>1.000000</td>\n",
       "    </tr>\n",
       "  </tbody>\n",
       "</table>\n",
       "</div>"
      ],
      "text/plain": [
       "                      world_rank  national_rank  quality_of_education  \\\n",
       "world_rank              1.000000       0.238272              0.675497   \n",
       "national_rank           0.238272       1.000000              0.211581   \n",
       "quality_of_education    0.675497       0.211581              1.000000   \n",
       "quality_of_faculty      0.663166       0.222500              0.785464   \n",
       "citations               0.856321       0.186435              0.629654   \n",
       "score                  -0.549557      -0.199130             -0.600328   \n",
       "year                    0.318951       0.102363              0.425494   \n",
       "\n",
       "                      quality_of_faculty  citations     score      year  \n",
       "world_rank                      0.663166   0.856321 -0.549557  0.318951  \n",
       "national_rank                   0.222500   0.186435 -0.199130  0.102363  \n",
       "quality_of_education            0.785464   0.629654 -0.600328  0.425494  \n",
       "quality_of_faculty              1.000000   0.651414 -0.693473  0.482041  \n",
       "citations                       0.651414   1.000000 -0.522592  0.326852  \n",
       "score                          -0.693473  -0.522592  1.000000 -0.234163  \n",
       "year                            0.482041   0.326852 -0.234163  1.000000  "
      ]
     },
     "execution_count": 258,
     "metadata": {},
     "output_type": "execute_result"
    }
   ],
   "source": [
    "# Find correlation between variables\n",
    "wur.corr()"
   ]
  },
  {
   "cell_type": "markdown",
   "metadata": {},
   "source": [
    "The values range from **-1 to 1**, with **1 indicating a perfect positive correlation**, **0** indicating **no correlation**, and **-1** indicating a **perfect negative correlation**."
   ]
  },
  {
   "cell_type": "code",
   "execution_count": 259,
   "metadata": {},
   "outputs": [
    {
     "name": "stderr",
     "output_type": "stream",
     "text": [
      "C:\\Users\\Eddie\\AppData\\Local\\Temp\\ipykernel_34536\\692974398.py:2: FutureWarning:\n",
      "\n",
      "The default value of numeric_only in DataFrame.corr is deprecated. In a future version, it will default to False. Select only valid columns or specify the value of numeric_only to silence this warning.\n",
      "\n"
     ]
    },
    {
     "data": {
      "text/plain": [
       "<AxesSubplot:>"
      ]
     },
     "execution_count": 259,
     "metadata": {},
     "output_type": "execute_result"
    },
    {
     "data": {
      "image/png": "[encoded data removed]",
      "text/plain": [
       "<Figure size 432x288 with 2 Axes>"
      ]
     },
     "metadata": {
      "needs_background": "light"
     },
     "output_type": "display_data"
    }
   ],
   "source": [
    "# Visualize correlation between variables\n",
    "sn.heatmap(wur.corr(),annot=True)"
   ]
  },
  {
   "cell_type": "code",
   "execution_count": 260,
   "metadata": {},
   "outputs": [
    {
     "data": {
      "text/plain": [
       "<AxesSubplot:xlabel='world_rank', ylabel='world_rank'>"
      ]
     },
     "execution_count": 260,
     "metadata": {},
     "output_type": "execute_result"
    },
    {
     "data": {
      "image/png": "[encoded data removed]",
      "text/plain": [
       "<Figure size 432x288 with 1 Axes>"
      ]
     },
     "metadata": {
      "needs_background": "light"
     },
     "output_type": "display_data"
    }
   ],
   "source": [
    "# a perfect postive Correlation\n",
    "wur.plot(kind='scatter',x=\"world_rank\",y='world_rank')"
   ]
  },
  {
   "cell_type": "code",
   "execution_count": 261,
   "metadata": {},
   "outputs": [
    {
     "data": {
      "text/plain": [
       "<AxesSubplot:xlabel='score', ylabel='world_rank'>"
      ]
     },
     "execution_count": 261,
     "metadata": {},
     "output_type": "execute_result"
    },
    {
     "data": {
      "image/png": "[encoded data removed]",
      "text/plain": [
       "<Figure size 432x288 with 1 Axes>"
      ]
     },
     "metadata": {
      "needs_background": "light"
     },
     "output_type": "display_data"
    }
   ],
   "source": [
    "# negative Correlation\n",
    "wur.plot(kind='scatter',x=\"score\",y='world_rank')"
   ]
  },
  {
   "cell_type": "code",
   "execution_count": 262,
   "metadata": {},
   "outputs": [
    {
     "data": {
      "text/plain": [
       "<AxesSubplot:xlabel='quality_of_faculty', ylabel='score'>"
      ]
     },
     "execution_count": 262,
     "metadata": {},
     "output_type": "execute_result"
    },
    {
     "data": {
      "image/png": "[encoded data removed]",
      "text/plain": [
       "<Figure size 432x288 with 1 Axes>"
      ]
     },
     "metadata": {
      "needs_background": "light"
     },
     "output_type": "display_data"
    }
   ],
   "source": [
    "# negative Correlation\n",
    "wur.plot(kind='scatter',x=\"quality_of_faculty\",y='score')"
   ]
  },
  {
   "cell_type": "code",
   "execution_count": 263,
   "metadata": {},
   "outputs": [
    {
     "data": {
      "text/plain": [
       "<AxesSubplot:xlabel='national_rank', ylabel='year'>"
      ]
     },
     "execution_count": 263,
     "metadata": {},
     "output_type": "execute_result"
    },
    {
     "data": {
      "image/png": "[encoded data removed]",
      "text/plain": [
       "<Figure size 432x288 with 1 Axes>"
      ]
     },
     "metadata": {
      "needs_background": "light"
     },
     "output_type": "display_data"
    }
   ],
   "source": [
    "# almost no Correlation\n",
    "wur.plot(kind='scatter',x=\"national_rank\",y='year')"
   ]
  },
  {
   "cell_type": "code",
   "execution_count": 264,
   "metadata": {},
   "outputs": [
    {
     "data": {
      "text/plain": [
       "<AxesSubplot:xlabel='quality_of_education', ylabel='world_rank'>"
      ]
     },
     "execution_count": 264,
     "metadata": {},
     "output_type": "execute_result"
    },
    {
     "data": {
      "image/png": "[encoded data removed]",
      "text/plain": [
       "<Figure size 432x288 with 1 Axes>"
      ]
     },
     "metadata": {
      "needs_background": "light"
     },
     "output_type": "display_data"
    }
   ],
   "source": [
    "# positive Correlation\n",
    "wur.plot(kind='scatter',x=\"quality_of_education\",y='world_rank')"
   ]
  },
  {
   "cell_type": "code",
   "execution_count": 265,
   "metadata": {
    "scrolled": true
   },
   "outputs": [
    {
     "data": {
      "image/png": "[encoded data removed]",
      "text/plain": [
       "<Figure size 432x288 with 1 Axes>"
      ]
     },
     "metadata": {
      "needs_background": "light"
     },
     "output_type": "display_data"
    }
   ],
   "source": [
    "#as we can see most of the score in the dataFrame are around 25-50\n",
    "plt.hist(wur[\"score\"])\n",
    "plt.show()"
   ]
  },
  {
   "cell_type": "markdown",
   "metadata": {},
   "source": [
    "### as we can see the most institution are from the USA "
   ]
  },
  {
   "cell_type": "code",
   "execution_count": 266,
   "metadata": {},
   "outputs": [],
   "source": [
    "import plotly.express as px"
   ]
  },
  {
   "cell_type": "code",
   "execution_count": 267,
   "metadata": {},
   "outputs": [
    {
     "data": {
      "application/vnd.plotly.v1+json": {
       "config": {
        "plotlyServerURL": "https://plot.ly"
       },
       "data": [
        {
         "coloraxis": "coloraxis",
         "geo": "geo",
         "hovertemplate": "<b>%{hovertext}</b><br><br>country=%{location}<br>institution=%{z}<extra></extra>",
         "hovertext": [
          "Argentina",
          "Australia",
          "Austria",
          "Belgium",
          "Brazil",
          "Bulgaria",
          "Canada",
          "Chile",
          "China",
          "Colombia",
          "Croatia",
          "Cyprus",
          "Czech Republic",
          "Denmark",
          "Egypt",
          "Estonia",
          "Finland",
          "France",
          "Germany",
          "Greece",
          "Hong Kong",
          "Hungary",
          "Iceland",
          "India",
          "Iran",
          "Ireland",
          "Israel",
          "Italy",
          "Japan",
          "Lebanon",
          "Lithuania",
          "Malaysia",
          "Mexico",
          "Netherlands",
          "New Zealand",
          "Norway",
          "Poland",
          "Portugal",
          "Puerto Rico",
          "Romania",
          "Russia",
          "Saudi Arabia",
          "Serbia",
          "Singapore",
          "Slovak Republic",
          "Slovenia",
          "South Africa",
          "South Korea",
          "Spain",
          "Sweden",
          "Switzerland",
          "Taiwan",
          "Thailand",
          "Turkey",
          "USA",
          "Uganda",
          "United Arab Emirates",
          "United Kingdom",
          "Uruguay"
         ],
         "locationmode": "country names",
         "locations": [
          "Argentina",
          "Australia",
          "Austria",
          "Belgium",
          "Brazil",
          "Bulgaria",
          "Canada",
          "Chile",
          "China",
          "Colombia",
          "Croatia",
          "Cyprus",
          "Czech Republic",
          "Denmark",
          "Egypt",
          "Estonia",
          "Finland",
          "France",
          "Germany",
          "Greece",
          "Hong Kong",
          "Hungary",
          "Iceland",
          "India",
          "Iran",
          "Ireland",
          "Israel",
          "Italy",
          "Japan",
          "Lebanon",
          "Lithuania",
          "Malaysia",
          "Mexico",
          "Netherlands",
          "New Zealand",
          "Norway",
          "Poland",
          "Portugal",
          "Puerto Rico",
          "Romania",
          "Russia",
          "Saudi Arabia",
          "Serbia",
          "Singapore",
          "Slovak Republic",
          "Slovenia",
          "South Africa",
          "South Korea",
          "Spain",
          "Sweden",
          "Switzerland",
          "Taiwan",
          "Thailand",
          "Turkey",
          "USA",
          "Uganda",
          "United Arab Emirates",
          "United Kingdom",
          "Uruguay"
         ],
         "name": "",
         "type": "choropleth",
         "z": [
          7,
          58,
          24,
          20,
          36,
          2,
          72,
          8,
          167,
          4,
          2,
          2,
          10,
          12,
          8,
          2,
          20,
          109,
          115,
          14,
          12,
          12,
          2,
          31,
          16,
          16,
          22,
          96,
          159,
          2,
          2,
          6,
          4,
          29,
          12,
          12,
          18,
          14,
          2,
          3,
          9,
          8,
          2,
          5,
          2,
          4,
          10,
          72,
          81,
          24,
          26,
          46,
          6,
          20,
          571,
          2,
          2,
          144,
          2
         ]
        }
       ],
       "layout": {
        "coloraxis": {
         "colorbar": {
          "title": {
           "text": "institution"
          }
         },
         "colorscale": [
          [
           0,
           "#0d0887"
          ],
          [
           0.1111111111111111,
           "#46039f"
          ],
          [
           0.2222222222222222,
           "#7201a8"
          ],
          [
           0.3333333333333333,
           "#9c179e"
          ],
          [
           0.4444444444444444,
           "#bd3786"
          ],
          [
           0.5555555555555556,
           "#d8576b"
          ],
          [
           0.6666666666666666,
           "#ed7953"
          ],
          [
           0.7777777777777778,
           "#fb9f3a"
          ],
          [
           0.8888888888888888,
           "#fdca26"
          ],
          [
           1,
           "#f0f921"
          ]
         ]
        },
        "geo": {
         "center": {},
         "domain": {
          "x": [
           0,
           1
          ],
          "y": [
           0,
           1
          ]
         },
         "projection": {
          "type": "natural earth"
         }
        },
        "legend": {
         "tracegroupgap": 0
        },
        "template": {
         "data": {
          "bar": [
           {
            "error_x": {
             "color": "#2a3f5f"
            },
            "error_y": {
             "color": "#2a3f5f"
            },
            "marker": {
             "line": {
              "color": "#E5ECF6",
              "width": 0.5
             },
             "pattern": {
              "fillmode": "overlay",
              "size": 10,
              "solidity": 0.2
             }
            },
            "type": "bar"
           }
          ],
          "barpolar": [
           {
            "marker": {
             "line": {
              "color": "#E5ECF6",
              "width": 0.5
             },
             "pattern": {
              "fillmode": "overlay",
              "size": 10,
              "solidity": 0.2
             }
            },
            "type": "barpolar"
           }
          ],
          "carpet": [
           {
            "aaxis": {
             "endlinecolor": "#2a3f5f",
             "gridcolor": "white",
             "linecolor": "white",
             "minorgridcolor": "white",
             "startlinecolor": "#2a3f5f"
            },
            "baxis": {
             "endlinecolor": "#2a3f5f",
             "gridcolor": "white",
             "linecolor": "white",
             "minorgridcolor": "white",
             "startlinecolor": "#2a3f5f"
            },
            "type": "carpet"
           }
          ],
          "choropleth": [
           {
            "colorbar": {
             "outlinewidth": 0,
             "ticks": ""
            },
            "type": "choropleth"
           }
          ],
          "contour": [
           {
            "colorbar": {
             "outlinewidth": 0,
             "ticks": ""
            },
            "colorscale": [
             [
              0,
              "#0d0887"
             ],
             [
              0.1111111111111111,
              "#46039f"
             ],
             [
              0.2222222222222222,
              "#7201a8"
             ],
             [
              0.3333333333333333,
              "#9c179e"
             ],
             [
              0.4444444444444444,
              "#bd3786"
             ],
             [
              0.5555555555555556,
              "#d8576b"
             ],
             [
              0.6666666666666666,
              "#ed7953"
             ],
             [
              0.7777777777777778,
              "#fb9f3a"
             ],
             [
              0.8888888888888888,
              "#fdca26"
             ],
             [
              1,
              "#f0f921"
             ]
            ],
            "type": "contour"
           }
          ],
          "contourcarpet": [
           {
            "colorbar": {
             "outlinewidth": 0,
             "ticks": ""
            },
            "type": "contourcarpet"
           }
          ],
          "heatmap": [
           {
            "colorbar": {
             "outlinewidth": 0,
             "ticks": ""
            },
            "colorscale": [
             [
              0,
              "#0d0887"
             ],
             [
              0.1111111111111111,
              "#46039f"
             ],
             [
              0.2222222222222222,
              "#7201a8"
             ],
             [
              0.3333333333333333,
              "#9c179e"
             ],
             [
              0.4444444444444444,
              "#bd3786"
             ],
             [
              0.5555555555555556,
              "#d8576b"
             ],
             [
              0.6666666666666666,
              "#ed7953"
             ],
             [
              0.7777777777777778,
              "#fb9f3a"
             ],
             [
              0.8888888888888888,
              "#fdca26"
             ],
             [
              1,
              "#f0f921"
             ]
            ],
            "type": "heatmap"
           }
          ],
          "heatmapgl": [
           {
            "colorbar": {
             "outlinewidth": 0,
             "ticks": ""
            },
            "colorscale": [
             [
              0,
              "#0d0887"
             ],
             [
              0.1111111111111111,
              "#46039f"
             ],
             [
              0.2222222222222222,
              "#7201a8"
             ],
             [
              0.3333333333333333,
              "#9c179e"
             ],
             [
              0.4444444444444444,
              "#bd3786"
             ],
             [
              0.5555555555555556,
              "#d8576b"
             ],
             [
              0.6666666666666666,
              "#ed7953"
             ],
             [
              0.7777777777777778,
              "#fb9f3a"
             ],
             [
              0.8888888888888888,
              "#fdca26"
             ],
             [
              1,
              "#f0f921"
             ]
            ],
            "type": "heatmapgl"
           }
          ],
          "histogram": [
           {
            "marker": {
             "pattern": {
              "fillmode": "overlay",
              "size": 10,
              "solidity": 0.2
             }
            },
            "type": "histogram"
           }
          ],
          "histogram2d": [
           {
            "colorbar": {
             "outlinewidth": 0,
             "ticks": ""
            },
            "colorscale": [
             [
              0,
              "#0d0887"
             ],
             [
              0.1111111111111111,
              "#46039f"
             ],
             [
              0.2222222222222222,
              "#7201a8"
             ],
             [
              0.3333333333333333,
              "#9c179e"
             ],
             [
              0.4444444444444444,
              "#bd3786"
             ],
             [
              0.5555555555555556,
              "#d8576b"
             ],
             [
              0.6666666666666666,
              "#ed7953"
             ],
             [
              0.7777777777777778,
              "#fb9f3a"
             ],
             [
              0.8888888888888888,
              "#fdca26"
             ],
             [
              1,
              "#f0f921"
             ]
            ],
            "type": "histogram2d"
           }
          ],
          "histogram2dcontour": [
           {
            "colorbar": {
             "outlinewidth": 0,
             "ticks": ""
            },
            "colorscale": [
             [
              0,
              "#0d0887"
             ],
             [
              0.1111111111111111,
              "#46039f"
             ],
             [
              0.2222222222222222,
              "#7201a8"
             ],
             [
              0.3333333333333333,
              "#9c179e"
             ],
             [
              0.4444444444444444,
              "#bd3786"
             ],
             [
              0.5555555555555556,
              "#d8576b"
             ],
             [
              0.6666666666666666,
              "#ed7953"
             ],
             [
              0.7777777777777778,
              "#fb9f3a"
             ],
             [
              0.8888888888888888,
              "#fdca26"
             ],
             [
              1,
              "#f0f921"
             ]
            ],
            "type": "histogram2dcontour"
           }
          ],
          "mesh3d": [
           {
            "colorbar": {
             "outlinewidth": 0,
             "ticks": ""
            },
            "type": "mesh3d"
           }
          ],
          "parcoords": [
           {
            "line": {
             "colorbar": {
              "outlinewidth": 0,
              "ticks": ""
             }
            },
            "type": "parcoords"
           }
          ],
          "pie": [
           {
            "automargin": true,
            "type": "pie"
           }
          ],
          "scatter": [
           {
            "fillpattern": {
             "fillmode": "overlay",
             "size": 10,
             "solidity": 0.2
            },
            "type": "scatter"
           }
          ],
          "scatter3d": [
           {
            "line": {
             "colorbar": {
              "outlinewidth": 0,
              "ticks": ""
             }
            },
            "marker": {
             "colorbar": {
              "outlinewidth": 0,
              "ticks": ""
             }
            },
            "type": "scatter3d"
           }
          ],
          "scattercarpet": [
           {
            "marker": {
             "colorbar": {
              "outlinewidth": 0,
              "ticks": ""
             }
            },
            "type": "scattercarpet"
           }
          ],
          "scattergeo": [
           {
            "marker": {
             "colorbar": {
              "outlinewidth": 0,
              "ticks": ""
             }
            },
            "type": "scattergeo"
           }
          ],
          "scattergl": [
           {
            "marker": {
             "colorbar": {
              "outlinewidth": 0,
              "ticks": ""
             }
            },
            "type": "scattergl"
           }
          ],
          "scattermapbox": [
           {
            "marker": {
             "colorbar": {
              "outlinewidth": 0,
              "ticks": ""
             }
            },
            "type": "scattermapbox"
           }
          ],
          "scatterpolar": [
           {
            "marker": {
             "colorbar": {
              "outlinewidth": 0,
              "ticks": ""
             }
            },
            "type": "scatterpolar"
           }
          ],
          "scatterpolargl": [
           {
            "marker": {
             "colorbar": {
              "outlinewidth": 0,
              "ticks": ""
             }
            },
            "type": "scatterpolargl"
           }
          ],
          "scatterternary": [
           {
            "marker": {
             "colorbar": {
              "outlinewidth": 0,
              "ticks": ""
             }
            },
            "type": "scatterternary"
           }
          ],
          "surface": [
           {
            "colorbar": {
             "outlinewidth": 0,
             "ticks": ""
            },
            "colorscale": [
             [
              0,
              "#0d0887"
             ],
             [
              0.1111111111111111,
              "#46039f"
             ],
             [
              0.2222222222222222,
              "#7201a8"
             ],
             [
              0.3333333333333333,
              "#9c179e"
             ],
             [
              0.4444444444444444,
              "#bd3786"
             ],
             [
              0.5555555555555556,
              "#d8576b"
             ],
             [
              0.6666666666666666,
              "#ed7953"
             ],
             [
              0.7777777777777778,
              "#fb9f3a"
             ],
             [
              0.8888888888888888,
              "#fdca26"
             ],
             [
              1,
              "#f0f921"
             ]
            ],
            "type": "surface"
           }
          ],
          "table": [
           {
            "cells": {
             "fill": {
              "color": "#EBF0F8"
             },
             "line": {
              "color": "white"
             }
            },
            "header": {
             "fill": {
              "color": "#C8D4E3"
             },
             "line": {
              "color": "white"
             }
            },
            "type": "table"
           }
          ]
         },
         "layout": {
          "annotationdefaults": {
           "arrowcolor": "#2a3f5f",
           "arrowhead": 0,
           "arrowwidth": 1
          },
          "autotypenumbers": "strict",
          "coloraxis": {
           "colorbar": {
            "outlinewidth": 0,
            "ticks": ""
           }
          },
          "colorscale": {
           "diverging": [
            [
             0,
             "#8e0152"
            ],
            [
             0.1,
             "#c51b7d"
            ],
            [
             0.2,
             "#de77ae"
            ],
            [
             0.3,
             "#f1b6da"
            ],
            [
             0.4,
             "#fde0ef"
            ],
            [
             0.5,
             "#f7f7f7"
            ],
            [
             0.6,
             "#e6f5d0"
            ],
            [
             0.7,
             "#b8e186"
            ],
            [
             0.8,
             "#7fbc41"
            ],
            [
             0.9,
             "#4d9221"
            ],
            [
             1,
             "#276419"
            ]
           ],
           "sequential": [
            [
             0,
             "#0d0887"
            ],
            [
             0.1111111111111111,
             "#46039f"
            ],
            [
             0.2222222222222222,
             "#7201a8"
            ],
            [
             0.3333333333333333,
             "#9c179e"
            ],
            [
             0.4444444444444444,
             "#bd3786"
            ],
            [
             0.5555555555555556,
             "#d8576b"
            ],
            [
             0.6666666666666666,
             "#ed7953"
            ],
            [
             0.7777777777777778,
             "#fb9f3a"
            ],
            [
             0.8888888888888888,
             "#fdca26"
            ],
            [
             1,
             "#f0f921"
            ]
           ],
           "sequentialminus": [
            [
             0,
             "#0d0887"
            ],
            [
             0.1111111111111111,
             "#46039f"
            ],
            [
             0.2222222222222222,
             "#7201a8"
            ],
            [
             0.3333333333333333,
             "#9c179e"
            ],
            [
             0.4444444444444444,
             "#bd3786"
            ],
            [
             0.5555555555555556,
             "#d8576b"
            ],
            [
             0.6666666666666666,
             "#ed7953"
            ],
            [
             0.7777777777777778,
             "#fb9f3a"
            ],
            [
             0.8888888888888888,
             "#fdca26"
            ],
            [
             1,
             "#f0f921"
            ]
           ]
          },
          "colorway": [
           "#636efa",
           "#EF553B",
           "#00cc96",
           "#ab63fa",
           "#FFA15A",
           "#19d3f3",
           "#FF6692",
           "#B6E880",
           "#FF97FF",
           "#FECB52"
          ],
          "font": {
           "color": "#2a3f5f"
          },
          "geo": {
           "bgcolor": "white",
           "lakecolor": "white",
           "landcolor": "#E5ECF6",
           "showlakes": true,
           "showland": true,
           "subunitcolor": "white"
          },
          "hoverlabel": {
           "align": "left"
          },
          "hovermode": "closest",
          "mapbox": {
           "style": "light"
          },
          "paper_bgcolor": "white",
          "plot_bgcolor": "#E5ECF6",
          "polar": {
           "angularaxis": {
            "gridcolor": "white",
            "linecolor": "white",
            "ticks": ""
           },
           "bgcolor": "#E5ECF6",
           "radialaxis": {
            "gridcolor": "white",
            "linecolor": "white",
            "ticks": ""
           }
          },
          "scene": {
           "xaxis": {
            "backgroundcolor": "#E5ECF6",
            "gridcolor": "white",
            "gridwidth": 2,
            "linecolor": "white",
            "showbackground": true,
            "ticks": "",
            "zerolinecolor": "white"
           },
           "yaxis": {
            "backgroundcolor": "#E5ECF6",
            "gridcolor": "white",
            "gridwidth": 2,
            "linecolor": "white",
            "showbackground": true,
            "ticks": "",
            "zerolinecolor": "white"
           },
           "zaxis": {
            "backgroundcolor": "#E5ECF6",
            "gridcolor": "white",
            "gridwidth": 2,
            "linecolor": "white",
            "showbackground": true,
            "ticks": "",
            "zerolinecolor": "white"
           }
          },
          "shapedefaults": {
           "line": {
            "color": "#2a3f5f"
           }
          },
          "ternary": {
           "aaxis": {
            "gridcolor": "white",
            "linecolor": "white",
            "ticks": ""
           },
           "baxis": {
            "gridcolor": "white",
            "linecolor": "white",
            "ticks": ""
           },
           "bgcolor": "#E5ECF6",
           "caxis": {
            "gridcolor": "white",
            "linecolor": "white",
            "ticks": ""
           }
          },
          "title": {
           "x": 0.05
          },
          "xaxis": {
           "automargin": true,
           "gridcolor": "white",
           "linecolor": "white",
           "ticks": "",
           "title": {
            "standoff": 15
           },
           "zerolinecolor": "white",
           "zerolinewidth": 2
          },
          "yaxis": {
           "automargin": true,
           "gridcolor": "white",
           "linecolor": "white",
           "ticks": "",
           "title": {
            "standoff": 15
           },
           "zerolinecolor": "white",
           "zerolinewidth": 2
          }
         }
        },
        "title": {
         "text": "Number of Institutions per Country"
        }
       }
      },
      "text/html": [
       "<div>                            <div id=\"0695f682-cec8-4f5d-ac72-2eb280cdb1f8\" class=\"plotly-graph-div\" style=\"height:525px; width:100%;\"></div>            <script type=\"text/javascript\">                require([\"plotly\"], function(Plotly) {                    window.PLOTLYENV=window.PLOTLYENV || {};                                    if (document.getElementById(\"0695f682-cec8-4f5d-ac72-2eb280cdb1f8\")) {                    Plotly.newPlot(                        \"0695f682-cec8-4f5d-ac72-2eb280cdb1f8\",                        [{\"coloraxis\":\"coloraxis\",\"geo\":\"geo\",\"hovertemplate\":\"<b>%{hovertext}</b><br><br>country=%{location}<br>institution=%{z}<extra></extra>\",\"hovertext\":[\"Argentina\",\"Australia\",\"Austria\",\"Belgium\",\"Brazil\",\"Bulgaria\",\"Canada\",\"Chile\",\"China\",\"Colombia\",\"Croatia\",\"Cyprus\",\"Czech Republic\",\"Denmark\",\"Egypt\",\"Estonia\",\"Finland\",\"France\",\"Germany\",\"Greece\",\"Hong Kong\",\"Hungary\",\"Iceland\",\"India\",\"Iran\",\"Ireland\",\"Israel\",\"Italy\",\"Japan\",\"Lebanon\",\"Lithuania\",\"Malaysia\",\"Mexico\",\"Netherlands\",\"New Zealand\",\"Norway\",\"Poland\",\"Portugal\",\"Puerto Rico\",\"Romania\",\"Russia\",\"Saudi Arabia\",\"Serbia\",\"Singapore\",\"Slovak Republic\",\"Slovenia\",\"South Africa\",\"South Korea\",\"Spain\",\"Sweden\",\"Switzerland\",\"Taiwan\",\"Thailand\",\"Turkey\",\"USA\",\"Uganda\",\"United Arab Emirates\",\"United Kingdom\",\"Uruguay\"],\"locationmode\":\"country names\",\"locations\":[\"Argentina\",\"Australia\",\"Austria\",\"Belgium\",\"Brazil\",\"Bulgaria\",\"Canada\",\"Chile\",\"China\",\"Colombia\",\"Croatia\",\"Cyprus\",\"Czech Republic\",\"Denmark\",\"Egypt\",\"Estonia\",\"Finland\",\"France\",\"Germany\",\"Greece\",\"Hong Kong\",\"Hungary\",\"Iceland\",\"India\",\"Iran\",\"Ireland\",\"Israel\",\"Italy\",\"Japan\",\"Lebanon\",\"Lithuania\",\"Malaysia\",\"Mexico\",\"Netherlands\",\"New Zealand\",\"Norway\",\"Poland\",\"Portugal\",\"Puerto Rico\",\"Romania\",\"Russia\",\"Saudi Arabia\",\"Serbia\",\"Singapore\",\"Slovak Republic\",\"Slovenia\",\"South Africa\",\"South Korea\",\"Spain\",\"Sweden\",\"Switzerland\",\"Taiwan\",\"Thailand\",\"Turkey\",\"USA\",\"Uganda\",\"United Arab Emirates\",\"United Kingdom\",\"Uruguay\"],\"name\":\"\",\"z\":[7,58,24,20,36,2,72,8,167,4,2,2,10,12,8,2,20,109,115,14,12,12,2,31,16,16,22,96,159,2,2,6,4,29,12,12,18,14,2,3,9,8,2,5,2,4,10,72,81,24,26,46,6,20,571,2,2,144,2],\"type\":\"choropleth\"}],                        {\"template\":{\"data\":{\"histogram2dcontour\":[{\"type\":\"histogram2dcontour\",\"colorbar\":{\"outlinewidth\":0,\"ticks\":\"\"},\"colorscale\":[[0.0,\"#0d0887\"],[0.1111111111111111,\"#46039f\"],[0.2222222222222222,\"#7201a8\"],[0.3333333333333333,\"#9c179e\"],[0.4444444444444444,\"#bd3786\"],[0.5555555555555556,\"#d8576b\"],[0.6666666666666666,\"#ed7953\"],[0.7777777777777778,\"#fb9f3a\"],[0.8888888888888888,\"#fdca26\"],[1.0,\"#f0f921\"]]}],\"choropleth\":[{\"type\":\"choropleth\",\"colorbar\":{\"outlinewidth\":0,\"ticks\":\"\"}}],\"histogram2d\":[{\"type\":\"histogram2d\",\"colorbar\":{\"outlinewidth\":0,\"ticks\":\"\"},\"colorscale\":[[0.0,\"#0d0887\"],[0.1111111111111111,\"#46039f\"],[0.2222222222222222,\"#7201a8\"],[0.3333333333333333,\"#9c179e\"],[0.4444444444444444,\"#bd3786\"],[0.5555555555555556,\"#d8576b\"],[0.6666666666666666,\"#ed7953\"],[0.7777777777777778,\"#fb9f3a\"],[0.8888888888888888,\"#fdca26\"],[1.0,\"#f0f921\"]]}],\"heatmap\":[{\"type\":\"heatmap\",\"colorbar\":{\"outlinewidth\":0,\"ticks\":\"\"},\"colorscale\":[[0.0,\"#0d0887\"],[0.1111111111111111,\"#46039f\"],[0.2222222222222222,\"#7201a8\"],[0.3333333333333333,\"#9c179e\"],[0.4444444444444444,\"#bd3786\"],[0.5555555555555556,\"#d8576b\"],[0.6666666666666666,\"#ed7953\"],[0.7777777777777778,\"#fb9f3a\"],[0.8888888888888888,\"#fdca26\"],[1.0,\"#f0f921\"]]}],\"heatmapgl\":[{\"type\":\"heatmapgl\",\"colorbar\":{\"outlinewidth\":0,\"ticks\":\"\"},\"colorscale\":[[0.0,\"#0d0887\"],[0.1111111111111111,\"#46039f\"],[0.2222222222222222,\"#7201a8\"],[0.3333333333333333,\"#9c179e\"],[0.4444444444444444,\"#bd3786\"],[0.5555555555555556,\"#d8576b\"],[0.6666666666666666,\"#ed7953\"],[0.7777777777777778,\"#fb9f3a\"],[0.8888888888888888,\"#fdca26\"],[1.0,\"#f0f921\"]]}],\"contourcarpet\":[{\"type\":\"contourcarpet\",\"colorbar\":{\"outlinewidth\":0,\"ticks\":\"\"}}],\"contour\":[{\"type\":\"contour\",\"colorbar\":{\"outlinewidth\":0,\"ticks\":\"\"},\"colorscale\":[[0.0,\"#0d0887\"],[0.1111111111111111,\"#46039f\"],[0.2222222222222222,\"#7201a8\"],[0.3333333333333333,\"#9c179e\"],[0.4444444444444444,\"#bd3786\"],[0.5555555555555556,\"#d8576b\"],[0.6666666666666666,\"#ed7953\"],[0.7777777777777778,\"#fb9f3a\"],[0.8888888888888888,\"#fdca26\"],[1.0,\"#f0f921\"]]}],\"surface\":[{\"type\":\"surface\",\"colorbar\":{\"outlinewidth\":0,\"ticks\":\"\"},\"colorscale\":[[0.0,\"#0d0887\"],[0.1111111111111111,\"#46039f\"],[0.2222222222222222,\"#7201a8\"],[0.3333333333333333,\"#9c179e\"],[0.4444444444444444,\"#bd3786\"],[0.5555555555555556,\"#d8576b\"],[0.6666666666666666,\"#ed7953\"],[0.7777777777777778,\"#fb9f3a\"],[0.8888888888888888,\"#fdca26\"],[1.0,\"#f0f921\"]]}],\"mesh3d\":[{\"type\":\"mesh3d\",\"colorbar\":{\"outlinewidth\":0,\"ticks\":\"\"}}],\"scatter\":[{\"fillpattern\":{\"fillmode\":\"overlay\",\"size\":10,\"solidity\":0.2},\"type\":\"scatter\"}],\"parcoords\":[{\"type\":\"parcoords\",\"line\":{\"colorbar\":{\"outlinewidth\":0,\"ticks\":\"\"}}}],\"scatterpolargl\":[{\"type\":\"scatterpolargl\",\"marker\":{\"colorbar\":{\"outlinewidth\":0,\"ticks\":\"\"}}}],\"bar\":[{\"error_x\":{\"color\":\"#2a3f5f\"},\"error_y\":{\"color\":\"#2a3f5f\"},\"marker\":{\"line\":{\"color\":\"#E5ECF6\",\"width\":0.5},\"pattern\":{\"fillmode\":\"overlay\",\"size\":10,\"solidity\":0.2}},\"type\":\"bar\"}],\"scattergeo\":[{\"type\":\"scattergeo\",\"marker\":{\"colorbar\":{\"outlinewidth\":0,\"ticks\":\"\"}}}],\"scatterpolar\":[{\"type\":\"scatterpolar\",\"marker\":{\"colorbar\":{\"outlinewidth\":0,\"ticks\":\"\"}}}],\"histogram\":[{\"marker\":{\"pattern\":{\"fillmode\":\"overlay\",\"size\":10,\"solidity\":0.2}},\"type\":\"histogram\"}],\"scattergl\":[{\"type\":\"scattergl\",\"marker\":{\"colorbar\":{\"outlinewidth\":0,\"ticks\":\"\"}}}],\"scatter3d\":[{\"type\":\"scatter3d\",\"line\":{\"colorbar\":{\"outlinewidth\":0,\"ticks\":\"\"}},\"marker\":{\"colorbar\":{\"outlinewidth\":0,\"ticks\":\"\"}}}],\"scattermapbox\":[{\"type\":\"scattermapbox\",\"marker\":{\"colorbar\":{\"outlinewidth\":0,\"ticks\":\"\"}}}],\"scatterternary\":[{\"type\":\"scatterternary\",\"marker\":{\"colorbar\":{\"outlinewidth\":0,\"ticks\":\"\"}}}],\"scattercarpet\":[{\"type\":\"scattercarpet\",\"marker\":{\"colorbar\":{\"outlinewidth\":0,\"ticks\":\"\"}}}],\"carpet\":[{\"aaxis\":{\"endlinecolor\":\"#2a3f5f\",\"gridcolor\":\"white\",\"linecolor\":\"white\",\"minorgridcolor\":\"white\",\"startlinecolor\":\"#2a3f5f\"},\"baxis\":{\"endlinecolor\":\"#2a3f5f\",\"gridcolor\":\"white\",\"linecolor\":\"white\",\"minorgridcolor\":\"white\",\"startlinecolor\":\"#2a3f5f\"},\"type\":\"carpet\"}],\"table\":[{\"cells\":{\"fill\":{\"color\":\"#EBF0F8\"},\"line\":{\"color\":\"white\"}},\"header\":{\"fill\":{\"color\":\"#C8D4E3\"},\"line\":{\"color\":\"white\"}},\"type\":\"table\"}],\"barpolar\":[{\"marker\":{\"line\":{\"color\":\"#E5ECF6\",\"width\":0.5},\"pattern\":{\"fillmode\":\"overlay\",\"size\":10,\"solidity\":0.2}},\"type\":\"barpolar\"}],\"pie\":[{\"automargin\":true,\"type\":\"pie\"}]},\"layout\":{\"autotypenumbers\":\"strict\",\"colorway\":[\"#636efa\",\"#EF553B\",\"#00cc96\",\"#ab63fa\",\"#FFA15A\",\"#19d3f3\",\"#FF6692\",\"#B6E880\",\"#FF97FF\",\"#FECB52\"],\"font\":{\"color\":\"#2a3f5f\"},\"hovermode\":\"closest\",\"hoverlabel\":{\"align\":\"left\"},\"paper_bgcolor\":\"white\",\"plot_bgcolor\":\"#E5ECF6\",\"polar\":{\"bgcolor\":\"#E5ECF6\",\"angularaxis\":{\"gridcolor\":\"white\",\"linecolor\":\"white\",\"ticks\":\"\"},\"radialaxis\":{\"gridcolor\":\"white\",\"linecolor\":\"white\",\"ticks\":\"\"}},\"ternary\":{\"bgcolor\":\"#E5ECF6\",\"aaxis\":{\"gridcolor\":\"white\",\"linecolor\":\"white\",\"ticks\":\"\"},\"baxis\":{\"gridcolor\":\"white\",\"linecolor\":\"white\",\"ticks\":\"\"},\"caxis\":{\"gridcolor\":\"white\",\"linecolor\":\"white\",\"ticks\":\"\"}},\"coloraxis\":{\"colorbar\":{\"outlinewidth\":0,\"ticks\":\"\"}},\"colorscale\":{\"sequential\":[[0.0,\"#0d0887\"],[0.1111111111111111,\"#46039f\"],[0.2222222222222222,\"#7201a8\"],[0.3333333333333333,\"#9c179e\"],[0.4444444444444444,\"#bd3786\"],[0.5555555555555556,\"#d8576b\"],[0.6666666666666666,\"#ed7953\"],[0.7777777777777778,\"#fb9f3a\"],[0.8888888888888888,\"#fdca26\"],[1.0,\"#f0f921\"]],\"sequentialminus\":[[0.0,\"#0d0887\"],[0.1111111111111111,\"#46039f\"],[0.2222222222222222,\"#7201a8\"],[0.3333333333333333,\"#9c179e\"],[0.4444444444444444,\"#bd3786\"],[0.5555555555555556,\"#d8576b\"],[0.6666666666666666,\"#ed7953\"],[0.7777777777777778,\"#fb9f3a\"],[0.8888888888888888,\"#fdca26\"],[1.0,\"#f0f921\"]],\"diverging\":[[0,\"#8e0152\"],[0.1,\"#c51b7d\"],[0.2,\"#de77ae\"],[0.3,\"#f1b6da\"],[0.4,\"#fde0ef\"],[0.5,\"#f7f7f7\"],[0.6,\"#e6f5d0\"],[0.7,\"#b8e186\"],[0.8,\"#7fbc41\"],[0.9,\"#4d9221\"],[1,\"#276419\"]]},\"xaxis\":{\"gridcolor\":\"white\",\"linecolor\":\"white\",\"ticks\":\"\",\"title\":{\"standoff\":15},\"zerolinecolor\":\"white\",\"automargin\":true,\"zerolinewidth\":2},\"yaxis\":{\"gridcolor\":\"white\",\"linecolor\":\"white\",\"ticks\":\"\",\"title\":{\"standoff\":15},\"zerolinecolor\":\"white\",\"automargin\":true,\"zerolinewidth\":2},\"scene\":{\"xaxis\":{\"backgroundcolor\":\"#E5ECF6\",\"gridcolor\":\"white\",\"linecolor\":\"white\",\"showbackground\":true,\"ticks\":\"\",\"zerolinecolor\":\"white\",\"gridwidth\":2},\"yaxis\":{\"backgroundcolor\":\"#E5ECF6\",\"gridcolor\":\"white\",\"linecolor\":\"white\",\"showbackground\":true,\"ticks\":\"\",\"zerolinecolor\":\"white\",\"gridwidth\":2},\"zaxis\":{\"backgroundcolor\":\"#E5ECF6\",\"gridcolor\":\"white\",\"linecolor\":\"white\",\"showbackground\":true,\"ticks\":\"\",\"zerolinecolor\":\"white\",\"gridwidth\":2}},\"shapedefaults\":{\"line\":{\"color\":\"#2a3f5f\"}},\"annotationdefaults\":{\"arrowcolor\":\"#2a3f5f\",\"arrowhead\":0,\"arrowwidth\":1},\"geo\":{\"bgcolor\":\"white\",\"landcolor\":\"#E5ECF6\",\"subunitcolor\":\"white\",\"showland\":true,\"showlakes\":true,\"lakecolor\":\"white\"},\"title\":{\"x\":0.05},\"mapbox\":{\"style\":\"light\"}}},\"geo\":{\"domain\":{\"x\":[0.0,1.0],\"y\":[0.0,1.0]},\"projection\":{\"type\":\"natural earth\"},\"center\":{}},\"coloraxis\":{\"colorbar\":{\"title\":{\"text\":\"institution\"}},\"colorscale\":[[0.0,\"#0d0887\"],[0.1111111111111111,\"#46039f\"],[0.2222222222222222,\"#7201a8\"],[0.3333333333333333,\"#9c179e\"],[0.4444444444444444,\"#bd3786\"],[0.5555555555555556,\"#d8576b\"],[0.6666666666666666,\"#ed7953\"],[0.7777777777777778,\"#fb9f3a\"],[0.8888888888888888,\"#fdca26\"],[1.0,\"#f0f921\"]]},\"legend\":{\"tracegroupgap\":0},\"title\":{\"text\":\"Number of Institutions per Country\"}},                        {\"responsive\": true}                    ).then(function(){\n",
       "                            \n",
       "var gd = document.getElementById('0695f682-cec8-4f5d-ac72-2eb280cdb1f8');\n",
       "var x = new MutationObserver(function (mutations, observer) {{\n",
       "        var display = window.getComputedStyle(gd).display;\n",
       "        if (!display || display === 'none') {{\n",
       "            console.log([gd, 'removed!']);\n",
       "            Plotly.purge(gd);\n",
       "            observer.disconnect();\n",
       "        }}\n",
       "}});\n",
       "\n",
       "// Listen for the removal of the full notebook cells\n",
       "var notebookContainer = gd.closest('#notebook-container');\n",
       "if (notebookContainer) {{\n",
       "    x.observe(notebookContainer, {childList: true});\n",
       "}}\n",
       "\n",
       "// Listen for the clearing of the current output cell\n",
       "var outputEl = gd.closest('.output');\n",
       "if (outputEl) {{\n",
       "    x.observe(outputEl, {childList: true});\n",
       "}}\n",
       "\n",
       "                        })                };                });            </script>        </div>"
      ]
     },
     "metadata": {},
     "output_type": "display_data"
    }
   ],
   "source": [
    "\n",
    "\n",
    "# Group the data by country and count the number of institutions\n",
    "country_counts = wur.groupby('country')['institution'].count().reset_index()\n",
    "\n",
    "# Create a choropleth map with markers\n",
    "fig = px.choropleth(\n",
    "    country_counts, \n",
    "    locations='country', \n",
    "    locationmode='country names',\n",
    "    color='institution',\n",
    "    hover_name='country',\n",
    "    title='Number of Institutions per Country',\n",
    "    projection=\"natural earth\"\n",
    "    \n",
    ")\n",
    "\n",
    "# Add markers for the number of institutions\n",
    "fig.update_traces(\n",
    "    marker=dict(\n",
    "        size=country_counts['institution'],\n",
    "        line=dict(width=0.5, color='white')\n",
    "    ),\n",
    "    selector=dict(mode='markers')\n",
    ")\n",
    "\n",
    "fig.show()\n"
   ]
  },
  {
   "cell_type": "code",
   "execution_count": 268,
   "metadata": {},
   "outputs": [
    {
     "data": {
      "application/vnd.plotly.v1+json": {
       "config": {
        "plotlyServerURL": "https://plot.ly"
       },
       "data": [
        {
         "domain": {
          "x": [
           0,
           1
          ],
          "y": [
           0,
           1
          ]
         },
         "hole": 0.4,
         "hovertemplate": "country=%{label}<br>institution=%{value}<extra></extra>",
         "labels": [
          "Argentina",
          "Australia",
          "Austria",
          "Belgium",
          "Brazil",
          "Bulgaria",
          "Canada",
          "Chile",
          "China",
          "Colombia",
          "Croatia",
          "Cyprus",
          "Czech Republic",
          "Denmark",
          "Egypt",
          "Estonia",
          "Finland",
          "France",
          "Germany",
          "Greece",
          "Hong Kong",
          "Hungary",
          "Iceland",
          "India",
          "Iran",
          "Ireland",
          "Israel",
          "Italy",
          "Japan",
          "Lebanon",
          "Lithuania",
          "Malaysia",
          "Mexico",
          "Netherlands",
          "New Zealand",
          "Norway",
          "Poland",
          "Portugal",
          "Puerto Rico",
          "Romania",
          "Russia",
          "Saudi Arabia",
          "Serbia",
          "Singapore",
          "Slovak Republic",
          "Slovenia",
          "South Africa",
          "South Korea",
          "Spain",
          "Sweden",
          "Switzerland",
          "Taiwan",
          "Thailand",
          "Turkey",
          "USA",
          "Uganda",
          "United Arab Emirates",
          "United Kingdom",
          "Uruguay"
         ],
         "legendgroup": "",
         "name": "",
         "showlegend": true,
         "textinfo": "percent+label",
         "textposition": "inside",
         "type": "pie",
         "values": [
          7,
          58,
          24,
          20,
          36,
          2,
          72,
          8,
          167,
          4,
          2,
          2,
          10,
          12,
          8,
          2,
          20,
          109,
          115,
          14,
          12,
          12,
          2,
          31,
          16,
          16,
          22,
          96,
          159,
          2,
          2,
          6,
          4,
          29,
          12,
          12,
          18,
          14,
          2,
          3,
          9,
          8,
          2,
          5,
          2,
          4,
          10,
          72,
          81,
          24,
          26,
          46,
          6,
          20,
          571,
          2,
          2,
          144,
          2
         ]
        }
       ],
       "layout": {
        "legend": {
         "tracegroupgap": 0
        },
        "template": {
         "data": {
          "bar": [
           {
            "error_x": {
             "color": "#2a3f5f"
            },
            "error_y": {
             "color": "#2a3f5f"
            },
            "marker": {
             "line": {
              "color": "#E5ECF6",
              "width": 0.5
             },
             "pattern": {
              "fillmode": "overlay",
              "size": 10,
              "solidity": 0.2
             }
            },
            "type": "bar"
           }
          ],
          "barpolar": [
           {
            "marker": {
             "line": {
              "color": "#E5ECF6",
              "width": 0.5
             },
             "pattern": {
              "fillmode": "overlay",
              "size": 10,
              "solidity": 0.2
             }
            },
            "type": "barpolar"
           }
          ],
          "carpet": [
           {
            "aaxis": {
             "endlinecolor": "#2a3f5f",
             "gridcolor": "white",
             "linecolor": "white",
             "minorgridcolor": "white",
             "startlinecolor": "#2a3f5f"
            },
            "baxis": {
             "endlinecolor": "#2a3f5f",
             "gridcolor": "white",
             "linecolor": "white",
             "minorgridcolor": "white",
             "startlinecolor": "#2a3f5f"
            },
            "type": "carpet"
           }
          ],
          "choropleth": [
           {
            "colorbar": {
             "outlinewidth": 0,
             "ticks": ""
            },
            "type": "choropleth"
           }
          ],
          "contour": [
           {
            "colorbar": {
             "outlinewidth": 0,
             "ticks": ""
            },
            "colorscale": [
             [
              0,
              "#0d0887"
             ],
             [
              0.1111111111111111,
              "#46039f"
             ],
             [
              0.2222222222222222,
              "#7201a8"
             ],
             [
              0.3333333333333333,
              "#9c179e"
             ],
             [
              0.4444444444444444,
              "#bd3786"
             ],
             [
              0.5555555555555556,
              "#d8576b"
             ],
             [
              0.6666666666666666,
              "#ed7953"
             ],
             [
              0.7777777777777778,
              "#fb9f3a"
             ],
             [
              0.8888888888888888,
              "#fdca26"
             ],
             [
              1,
              "#f0f921"
             ]
            ],
            "type": "contour"
           }
          ],
          "contourcarpet": [
           {
            "colorbar": {
             "outlinewidth": 0,
             "ticks": ""
            },
            "type": "contourcarpet"
           }
          ],
          "heatmap": [
           {
            "colorbar": {
             "outlinewidth": 0,
             "ticks": ""
            },
            "colorscale": [
             [
              0,
              "#0d0887"
             ],
             [
              0.1111111111111111,
              "#46039f"
             ],
             [
              0.2222222222222222,
              "#7201a8"
             ],
             [
              0.3333333333333333,
              "#9c179e"
             ],
             [
              0.4444444444444444,
              "#bd3786"
             ],
             [
              0.5555555555555556,
              "#d8576b"
             ],
             [
              0.6666666666666666,
              "#ed7953"
             ],
             [
              0.7777777777777778,
              "#fb9f3a"
             ],
             [
              0.8888888888888888,
              "#fdca26"
             ],
             [
              1,
              "#f0f921"
             ]
            ],
            "type": "heatmap"
           }
          ],
          "heatmapgl": [
           {
            "colorbar": {
             "outlinewidth": 0,
             "ticks": ""
            },
            "colorscale": [
             [
              0,
              "#0d0887"
             ],
             [
              0.1111111111111111,
              "#46039f"
             ],
             [
              0.2222222222222222,
              "#7201a8"
             ],
             [
              0.3333333333333333,
              "#9c179e"
             ],
             [
              0.4444444444444444,
              "#bd3786"
             ],
             [
              0.5555555555555556,
              "#d8576b"
             ],
             [
              0.6666666666666666,
              "#ed7953"
             ],
             [
              0.7777777777777778,
              "#fb9f3a"
             ],
             [
              0.8888888888888888,
              "#fdca26"
             ],
             [
              1,
              "#f0f921"
             ]
            ],
            "type": "heatmapgl"
           }
          ],
          "histogram": [
           {
            "marker": {
             "pattern": {
              "fillmode": "overlay",
              "size": 10,
              "solidity": 0.2
             }
            },
            "type": "histogram"
           }
          ],
          "histogram2d": [
           {
            "colorbar": {
             "outlinewidth": 0,
             "ticks": ""
            },
            "colorscale": [
             [
              0,
              "#0d0887"
             ],
             [
              0.1111111111111111,
              "#46039f"
             ],
             [
              0.2222222222222222,
              "#7201a8"
             ],
             [
              0.3333333333333333,
              "#9c179e"
             ],
             [
              0.4444444444444444,
              "#bd3786"
             ],
             [
              0.5555555555555556,
              "#d8576b"
             ],
             [
              0.6666666666666666,
              "#ed7953"
             ],
             [
              0.7777777777777778,
              "#fb9f3a"
             ],
             [
              0.8888888888888888,
              "#fdca26"
             ],
             [
              1,
              "#f0f921"
             ]
            ],
            "type": "histogram2d"
           }
          ],
          "histogram2dcontour": [
           {
            "colorbar": {
             "outlinewidth": 0,
             "ticks": ""
            },
            "colorscale": [
             [
              0,
              "#0d0887"
             ],
             [
              0.1111111111111111,
              "#46039f"
             ],
             [
              0.2222222222222222,
              "#7201a8"
             ],
             [
              0.3333333333333333,
              "#9c179e"
             ],
             [
              0.4444444444444444,
              "#bd3786"
             ],
             [
              0.5555555555555556,
              "#d8576b"
             ],
             [
              0.6666666666666666,
              "#ed7953"
             ],
             [
              0.7777777777777778,
              "#fb9f3a"
             ],
             [
              0.8888888888888888,
              "#fdca26"
             ],
             [
              1,
              "#f0f921"
             ]
            ],
            "type": "histogram2dcontour"
           }
          ],
          "mesh3d": [
           {
            "colorbar": {
             "outlinewidth": 0,
             "ticks": ""
            },
            "type": "mesh3d"
           }
          ],
          "parcoords": [
           {
            "line": {
             "colorbar": {
              "outlinewidth": 0,
              "ticks": ""
             }
            },
            "type": "parcoords"
           }
          ],
          "pie": [
           {
            "automargin": true,
            "type": "pie"
           }
          ],
          "scatter": [
           {
            "fillpattern": {
             "fillmode": "overlay",
             "size": 10,
             "solidity": 0.2
            },
            "type": "scatter"
           }
          ],
          "scatter3d": [
           {
            "line": {
             "colorbar": {
              "outlinewidth": 0,
              "ticks": ""
             }
            },
            "marker": {
             "colorbar": {
              "outlinewidth": 0,
              "ticks": ""
             }
            },
            "type": "scatter3d"
           }
          ],
          "scattercarpet": [
           {
            "marker": {
             "colorbar": {
              "outlinewidth": 0,
              "ticks": ""
             }
            },
            "type": "scattercarpet"
           }
          ],
          "scattergeo": [
           {
            "marker": {
             "colorbar": {
              "outlinewidth": 0,
              "ticks": ""
             }
            },
            "type": "scattergeo"
           }
          ],
          "scattergl": [
           {
            "marker": {
             "colorbar": {
              "outlinewidth": 0,
              "ticks": ""
             }
            },
            "type": "scattergl"
           }
          ],
          "scattermapbox": [
           {
            "marker": {
             "colorbar": {
              "outlinewidth": 0,
              "ticks": ""
             }
            },
            "type": "scattermapbox"
           }
          ],
          "scatterpolar": [
           {
            "marker": {
             "colorbar": {
              "outlinewidth": 0,
              "ticks": ""
             }
            },
            "type": "scatterpolar"
           }
          ],
          "scatterpolargl": [
           {
            "marker": {
             "colorbar": {
              "outlinewidth": 0,
              "ticks": ""
             }
            },
            "type": "scatterpolargl"
           }
          ],
          "scatterternary": [
           {
            "marker": {
             "colorbar": {
              "outlinewidth": 0,
              "ticks": ""
             }
            },
            "type": "scatterternary"
           }
          ],
          "surface": [
           {
            "colorbar": {
             "outlinewidth": 0,
             "ticks": ""
            },
            "colorscale": [
             [
              0,
              "#0d0887"
             ],
             [
              0.1111111111111111,
              "#46039f"
             ],
             [
              0.2222222222222222,
              "#7201a8"
             ],
             [
              0.3333333333333333,
              "#9c179e"
             ],
             [
              0.4444444444444444,
              "#bd3786"
             ],
             [
              0.5555555555555556,
              "#d8576b"
             ],
             [
              0.6666666666666666,
              "#ed7953"
             ],
             [
              0.7777777777777778,
              "#fb9f3a"
             ],
             [
              0.8888888888888888,
              "#fdca26"
             ],
             [
              1,
              "#f0f921"
             ]
            ],
            "type": "surface"
           }
          ],
          "table": [
           {
            "cells": {
             "fill": {
              "color": "#EBF0F8"
             },
             "line": {
              "color": "white"
             }
            },
            "header": {
             "fill": {
              "color": "#C8D4E3"
             },
             "line": {
              "color": "white"
             }
            },
            "type": "table"
           }
          ]
         },
         "layout": {
          "annotationdefaults": {
           "arrowcolor": "#2a3f5f",
           "arrowhead": 0,
           "arrowwidth": 1
          },
          "autotypenumbers": "strict",
          "coloraxis": {
           "colorbar": {
            "outlinewidth": 0,
            "ticks": ""
           }
          },
          "colorscale": {
           "diverging": [
            [
             0,
             "#8e0152"
            ],
            [
             0.1,
             "#c51b7d"
            ],
            [
             0.2,
             "#de77ae"
            ],
            [
             0.3,
             "#f1b6da"
            ],
            [
             0.4,
             "#fde0ef"
            ],
            [
             0.5,
             "#f7f7f7"
            ],
            [
             0.6,
             "#e6f5d0"
            ],
            [
             0.7,
             "#b8e186"
            ],
            [
             0.8,
             "#7fbc41"
            ],
            [
             0.9,
             "#4d9221"
            ],
            [
             1,
             "#276419"
            ]
           ],
           "sequential": [
            [
             0,
             "#0d0887"
            ],
            [
             0.1111111111111111,
             "#46039f"
            ],
            [
             0.2222222222222222,
             "#7201a8"
            ],
            [
             0.3333333333333333,
             "#9c179e"
            ],
            [
             0.4444444444444444,
             "#bd3786"
            ],
            [
             0.5555555555555556,
             "#d8576b"
            ],
            [
             0.6666666666666666,
             "#ed7953"
            ],
            [
             0.7777777777777778,
             "#fb9f3a"
            ],
            [
             0.8888888888888888,
             "#fdca26"
            ],
            [
             1,
             "#f0f921"
            ]
           ],
           "sequentialminus": [
            [
             0,
             "#0d0887"
            ],
            [
             0.1111111111111111,
             "#46039f"
            ],
            [
             0.2222222222222222,
             "#7201a8"
            ],
            [
             0.3333333333333333,
             "#9c179e"
            ],
            [
             0.4444444444444444,
             "#bd3786"
            ],
            [
             0.5555555555555556,
             "#d8576b"
            ],
            [
             0.6666666666666666,
             "#ed7953"
            ],
            [
             0.7777777777777778,
             "#fb9f3a"
            ],
            [
             0.8888888888888888,
             "#fdca26"
            ],
            [
             1,
             "#f0f921"
            ]
           ]
          },
          "colorway": [
           "#636efa",
           "#EF553B",
           "#00cc96",
           "#ab63fa",
           "#FFA15A",
           "#19d3f3",
           "#FF6692",
           "#B6E880",
           "#FF97FF",
           "#FECB52"
          ],
          "font": {
           "color": "#2a3f5f"
          },
          "geo": {
           "bgcolor": "white",
           "lakecolor": "white",
           "landcolor": "#E5ECF6",
           "showlakes": true,
           "showland": true,
           "subunitcolor": "white"
          },
          "hoverlabel": {
           "align": "left"
          },
          "hovermode": "closest",
          "mapbox": {
           "style": "light"
          },
          "paper_bgcolor": "white",
          "plot_bgcolor": "#E5ECF6",
          "polar": {
           "angularaxis": {
            "gridcolor": "white",
            "linecolor": "white",
            "ticks": ""
           },
           "bgcolor": "#E5ECF6",
           "radialaxis": {
            "gridcolor": "white",
            "linecolor": "white",
            "ticks": ""
           }
          },
          "scene": {
           "xaxis": {
            "backgroundcolor": "#E5ECF6",
            "gridcolor": "white",
            "gridwidth": 2,
            "linecolor": "white",
            "showbackground": true,
            "ticks": "",
            "zerolinecolor": "white"
           },
           "yaxis": {
            "backgroundcolor": "#E5ECF6",
            "gridcolor": "white",
            "gridwidth": 2,
            "linecolor": "white",
            "showbackground": true,
            "ticks": "",
            "zerolinecolor": "white"
           },
           "zaxis": {
            "backgroundcolor": "#E5ECF6",
            "gridcolor": "white",
            "gridwidth": 2,
            "linecolor": "white",
            "showbackground": true,
            "ticks": "",
            "zerolinecolor": "white"
           }
          },
          "shapedefaults": {
           "line": {
            "color": "#2a3f5f"
           }
          },
          "ternary": {
           "aaxis": {
            "gridcolor": "white",
            "linecolor": "white",
            "ticks": ""
           },
           "baxis": {
            "gridcolor": "white",
            "linecolor": "white",
            "ticks": ""
           },
           "bgcolor": "#E5ECF6",
           "caxis": {
            "gridcolor": "white",
            "linecolor": "white",
            "ticks": ""
           }
          },
          "title": {
           "x": 0.05
          },
          "xaxis": {
           "automargin": true,
           "gridcolor": "white",
           "linecolor": "white",
           "ticks": "",
           "title": {
            "standoff": 15
           },
           "zerolinecolor": "white",
           "zerolinewidth": 2
          },
          "yaxis": {
           "automargin": true,
           "gridcolor": "white",
           "linecolor": "white",
           "ticks": "",
           "title": {
            "standoff": 15
           },
           "zerolinecolor": "white",
           "zerolinewidth": 2
          }
         }
        },
        "title": {
         "text": "Number of Institutions per Country"
        }
       }
      },
      "text/html": [
       "<div>                            <div id=\"da946f54-eab0-4de3-8edc-f5a1228afea8\" class=\"plotly-graph-div\" style=\"height:525px; width:100%;\"></div>            <script type=\"text/javascript\">                require([\"plotly\"], function(Plotly) {                    window.PLOTLYENV=window.PLOTLYENV || {};                                    if (document.getElementById(\"da946f54-eab0-4de3-8edc-f5a1228afea8\")) {                    Plotly.newPlot(                        \"da946f54-eab0-4de3-8edc-f5a1228afea8\",                        [{\"domain\":{\"x\":[0.0,1.0],\"y\":[0.0,1.0]},\"hole\":0.4,\"hovertemplate\":\"country=%{label}<br>institution=%{value}<extra></extra>\",\"labels\":[\"Argentina\",\"Australia\",\"Austria\",\"Belgium\",\"Brazil\",\"Bulgaria\",\"Canada\",\"Chile\",\"China\",\"Colombia\",\"Croatia\",\"Cyprus\",\"Czech Republic\",\"Denmark\",\"Egypt\",\"Estonia\",\"Finland\",\"France\",\"Germany\",\"Greece\",\"Hong Kong\",\"Hungary\",\"Iceland\",\"India\",\"Iran\",\"Ireland\",\"Israel\",\"Italy\",\"Japan\",\"Lebanon\",\"Lithuania\",\"Malaysia\",\"Mexico\",\"Netherlands\",\"New Zealand\",\"Norway\",\"Poland\",\"Portugal\",\"Puerto Rico\",\"Romania\",\"Russia\",\"Saudi Arabia\",\"Serbia\",\"Singapore\",\"Slovak Republic\",\"Slovenia\",\"South Africa\",\"South Korea\",\"Spain\",\"Sweden\",\"Switzerland\",\"Taiwan\",\"Thailand\",\"Turkey\",\"USA\",\"Uganda\",\"United Arab Emirates\",\"United Kingdom\",\"Uruguay\"],\"legendgroup\":\"\",\"name\":\"\",\"showlegend\":true,\"values\":[7,58,24,20,36,2,72,8,167,4,2,2,10,12,8,2,20,109,115,14,12,12,2,31,16,16,22,96,159,2,2,6,4,29,12,12,18,14,2,3,9,8,2,5,2,4,10,72,81,24,26,46,6,20,571,2,2,144,2],\"type\":\"pie\",\"textinfo\":\"percent+label\",\"textposition\":\"inside\"}],                        {\"template\":{\"data\":{\"histogram2dcontour\":[{\"type\":\"histogram2dcontour\",\"colorbar\":{\"outlinewidth\":0,\"ticks\":\"\"},\"colorscale\":[[0.0,\"#0d0887\"],[0.1111111111111111,\"#46039f\"],[0.2222222222222222,\"#7201a8\"],[0.3333333333333333,\"#9c179e\"],[0.4444444444444444,\"#bd3786\"],[0.5555555555555556,\"#d8576b\"],[0.6666666666666666,\"#ed7953\"],[0.7777777777777778,\"#fb9f3a\"],[0.8888888888888888,\"#fdca26\"],[1.0,\"#f0f921\"]]}],\"choropleth\":[{\"type\":\"choropleth\",\"colorbar\":{\"outlinewidth\":0,\"ticks\":\"\"}}],\"histogram2d\":[{\"type\":\"histogram2d\",\"colorbar\":{\"outlinewidth\":0,\"ticks\":\"\"},\"colorscale\":[[0.0,\"#0d0887\"],[0.1111111111111111,\"#46039f\"],[0.2222222222222222,\"#7201a8\"],[0.3333333333333333,\"#9c179e\"],[0.4444444444444444,\"#bd3786\"],[0.5555555555555556,\"#d8576b\"],[0.6666666666666666,\"#ed7953\"],[0.7777777777777778,\"#fb9f3a\"],[0.8888888888888888,\"#fdca26\"],[1.0,\"#f0f921\"]]}],\"heatmap\":[{\"type\":\"heatmap\",\"colorbar\":{\"outlinewidth\":0,\"ticks\":\"\"},\"colorscale\":[[0.0,\"#0d0887\"],[0.1111111111111111,\"#46039f\"],[0.2222222222222222,\"#7201a8\"],[0.3333333333333333,\"#9c179e\"],[0.4444444444444444,\"#bd3786\"],[0.5555555555555556,\"#d8576b\"],[0.6666666666666666,\"#ed7953\"],[0.7777777777777778,\"#fb9f3a\"],[0.8888888888888888,\"#fdca26\"],[1.0,\"#f0f921\"]]}],\"heatmapgl\":[{\"type\":\"heatmapgl\",\"colorbar\":{\"outlinewidth\":0,\"ticks\":\"\"},\"colorscale\":[[0.0,\"#0d0887\"],[0.1111111111111111,\"#46039f\"],[0.2222222222222222,\"#7201a8\"],[0.3333333333333333,\"#9c179e\"],[0.4444444444444444,\"#bd3786\"],[0.5555555555555556,\"#d8576b\"],[0.6666666666666666,\"#ed7953\"],[0.7777777777777778,\"#fb9f3a\"],[0.8888888888888888,\"#fdca26\"],[1.0,\"#f0f921\"]]}],\"contourcarpet\":[{\"type\":\"contourcarpet\",\"colorbar\":{\"outlinewidth\":0,\"ticks\":\"\"}}],\"contour\":[{\"type\":\"contour\",\"colorbar\":{\"outlinewidth\":0,\"ticks\":\"\"},\"colorscale\":[[0.0,\"#0d0887\"],[0.1111111111111111,\"#46039f\"],[0.2222222222222222,\"#7201a8\"],[0.3333333333333333,\"#9c179e\"],[0.4444444444444444,\"#bd3786\"],[0.5555555555555556,\"#d8576b\"],[0.6666666666666666,\"#ed7953\"],[0.7777777777777778,\"#fb9f3a\"],[0.8888888888888888,\"#fdca26\"],[1.0,\"#f0f921\"]]}],\"surface\":[{\"type\":\"surface\",\"colorbar\":{\"outlinewidth\":0,\"ticks\":\"\"},\"colorscale\":[[0.0,\"#0d0887\"],[0.1111111111111111,\"#46039f\"],[0.2222222222222222,\"#7201a8\"],[0.3333333333333333,\"#9c179e\"],[0.4444444444444444,\"#bd3786\"],[0.5555555555555556,\"#d8576b\"],[0.6666666666666666,\"#ed7953\"],[0.7777777777777778,\"#fb9f3a\"],[0.8888888888888888,\"#fdca26\"],[1.0,\"#f0f921\"]]}],\"mesh3d\":[{\"type\":\"mesh3d\",\"colorbar\":{\"outlinewidth\":0,\"ticks\":\"\"}}],\"scatter\":[{\"fillpattern\":{\"fillmode\":\"overlay\",\"size\":10,\"solidity\":0.2},\"type\":\"scatter\"}],\"parcoords\":[{\"type\":\"parcoords\",\"line\":{\"colorbar\":{\"outlinewidth\":0,\"ticks\":\"\"}}}],\"scatterpolargl\":[{\"type\":\"scatterpolargl\",\"marker\":{\"colorbar\":{\"outlinewidth\":0,\"ticks\":\"\"}}}],\"bar\":[{\"error_x\":{\"color\":\"#2a3f5f\"},\"error_y\":{\"color\":\"#2a3f5f\"},\"marker\":{\"line\":{\"color\":\"#E5ECF6\",\"width\":0.5},\"pattern\":{\"fillmode\":\"overlay\",\"size\":10,\"solidity\":0.2}},\"type\":\"bar\"}],\"scattergeo\":[{\"type\":\"scattergeo\",\"marker\":{\"colorbar\":{\"outlinewidth\":0,\"ticks\":\"\"}}}],\"scatterpolar\":[{\"type\":\"scatterpolar\",\"marker\":{\"colorbar\":{\"outlinewidth\":0,\"ticks\":\"\"}}}],\"histogram\":[{\"marker\":{\"pattern\":{\"fillmode\":\"overlay\",\"size\":10,\"solidity\":0.2}},\"type\":\"histogram\"}],\"scattergl\":[{\"type\":\"scattergl\",\"marker\":{\"colorbar\":{\"outlinewidth\":0,\"ticks\":\"\"}}}],\"scatter3d\":[{\"type\":\"scatter3d\",\"line\":{\"colorbar\":{\"outlinewidth\":0,\"ticks\":\"\"}},\"marker\":{\"colorbar\":{\"outlinewidth\":0,\"ticks\":\"\"}}}],\"scattermapbox\":[{\"type\":\"scattermapbox\",\"marker\":{\"colorbar\":{\"outlinewidth\":0,\"ticks\":\"\"}}}],\"scatterternary\":[{\"type\":\"scatterternary\",\"marker\":{\"colorbar\":{\"outlinewidth\":0,\"ticks\":\"\"}}}],\"scattercarpet\":[{\"type\":\"scattercarpet\",\"marker\":{\"colorbar\":{\"outlinewidth\":0,\"ticks\":\"\"}}}],\"carpet\":[{\"aaxis\":{\"endlinecolor\":\"#2a3f5f\",\"gridcolor\":\"white\",\"linecolor\":\"white\",\"minorgridcolor\":\"white\",\"startlinecolor\":\"#2a3f5f\"},\"baxis\":{\"endlinecolor\":\"#2a3f5f\",\"gridcolor\":\"white\",\"linecolor\":\"white\",\"minorgridcolor\":\"white\",\"startlinecolor\":\"#2a3f5f\"},\"type\":\"carpet\"}],\"table\":[{\"cells\":{\"fill\":{\"color\":\"#EBF0F8\"},\"line\":{\"color\":\"white\"}},\"header\":{\"fill\":{\"color\":\"#C8D4E3\"},\"line\":{\"color\":\"white\"}},\"type\":\"table\"}],\"barpolar\":[{\"marker\":{\"line\":{\"color\":\"#E5ECF6\",\"width\":0.5},\"pattern\":{\"fillmode\":\"overlay\",\"size\":10,\"solidity\":0.2}},\"type\":\"barpolar\"}],\"pie\":[{\"automargin\":true,\"type\":\"pie\"}]},\"layout\":{\"autotypenumbers\":\"strict\",\"colorway\":[\"#636efa\",\"#EF553B\",\"#00cc96\",\"#ab63fa\",\"#FFA15A\",\"#19d3f3\",\"#FF6692\",\"#B6E880\",\"#FF97FF\",\"#FECB52\"],\"font\":{\"color\":\"#2a3f5f\"},\"hovermode\":\"closest\",\"hoverlabel\":{\"align\":\"left\"},\"paper_bgcolor\":\"white\",\"plot_bgcolor\":\"#E5ECF6\",\"polar\":{\"bgcolor\":\"#E5ECF6\",\"angularaxis\":{\"gridcolor\":\"white\",\"linecolor\":\"white\",\"ticks\":\"\"},\"radialaxis\":{\"gridcolor\":\"white\",\"linecolor\":\"white\",\"ticks\":\"\"}},\"ternary\":{\"bgcolor\":\"#E5ECF6\",\"aaxis\":{\"gridcolor\":\"white\",\"linecolor\":\"white\",\"ticks\":\"\"},\"baxis\":{\"gridcolor\":\"white\",\"linecolor\":\"white\",\"ticks\":\"\"},\"caxis\":{\"gridcolor\":\"white\",\"linecolor\":\"white\",\"ticks\":\"\"}},\"coloraxis\":{\"colorbar\":{\"outlinewidth\":0,\"ticks\":\"\"}},\"colorscale\":{\"sequential\":[[0.0,\"#0d0887\"],[0.1111111111111111,\"#46039f\"],[0.2222222222222222,\"#7201a8\"],[0.3333333333333333,\"#9c179e\"],[0.4444444444444444,\"#bd3786\"],[0.5555555555555556,\"#d8576b\"],[0.6666666666666666,\"#ed7953\"],[0.7777777777777778,\"#fb9f3a\"],[0.8888888888888888,\"#fdca26\"],[1.0,\"#f0f921\"]],\"sequentialminus\":[[0.0,\"#0d0887\"],[0.1111111111111111,\"#46039f\"],[0.2222222222222222,\"#7201a8\"],[0.3333333333333333,\"#9c179e\"],[0.4444444444444444,\"#bd3786\"],[0.5555555555555556,\"#d8576b\"],[0.6666666666666666,\"#ed7953\"],[0.7777777777777778,\"#fb9f3a\"],[0.8888888888888888,\"#fdca26\"],[1.0,\"#f0f921\"]],\"diverging\":[[0,\"#8e0152\"],[0.1,\"#c51b7d\"],[0.2,\"#de77ae\"],[0.3,\"#f1b6da\"],[0.4,\"#fde0ef\"],[0.5,\"#f7f7f7\"],[0.6,\"#e6f5d0\"],[0.7,\"#b8e186\"],[0.8,\"#7fbc41\"],[0.9,\"#4d9221\"],[1,\"#276419\"]]},\"xaxis\":{\"gridcolor\":\"white\",\"linecolor\":\"white\",\"ticks\":\"\",\"title\":{\"standoff\":15},\"zerolinecolor\":\"white\",\"automargin\":true,\"zerolinewidth\":2},\"yaxis\":{\"gridcolor\":\"white\",\"linecolor\":\"white\",\"ticks\":\"\",\"title\":{\"standoff\":15},\"zerolinecolor\":\"white\",\"automargin\":true,\"zerolinewidth\":2},\"scene\":{\"xaxis\":{\"backgroundcolor\":\"#E5ECF6\",\"gridcolor\":\"white\",\"linecolor\":\"white\",\"showbackground\":true,\"ticks\":\"\",\"zerolinecolor\":\"white\",\"gridwidth\":2},\"yaxis\":{\"backgroundcolor\":\"#E5ECF6\",\"gridcolor\":\"white\",\"linecolor\":\"white\",\"showbackground\":true,\"ticks\":\"\",\"zerolinecolor\":\"white\",\"gridwidth\":2},\"zaxis\":{\"backgroundcolor\":\"#E5ECF6\",\"gridcolor\":\"white\",\"linecolor\":\"white\",\"showbackground\":true,\"ticks\":\"\",\"zerolinecolor\":\"white\",\"gridwidth\":2}},\"shapedefaults\":{\"line\":{\"color\":\"#2a3f5f\"}},\"annotationdefaults\":{\"arrowcolor\":\"#2a3f5f\",\"arrowhead\":0,\"arrowwidth\":1},\"geo\":{\"bgcolor\":\"white\",\"landcolor\":\"#E5ECF6\",\"subunitcolor\":\"white\",\"showland\":true,\"showlakes\":true,\"lakecolor\":\"white\"},\"title\":{\"x\":0.05},\"mapbox\":{\"style\":\"light\"}}},\"legend\":{\"tracegroupgap\":0},\"title\":{\"text\":\"Number of Institutions per Country\"}},                        {\"responsive\": true}                    ).then(function(){\n",
       "                            \n",
       "var gd = document.getElementById('da946f54-eab0-4de3-8edc-f5a1228afea8');\n",
       "var x = new MutationObserver(function (mutations, observer) {{\n",
       "        var display = window.getComputedStyle(gd).display;\n",
       "        if (!display || display === 'none') {{\n",
       "            console.log([gd, 'removed!']);\n",
       "            Plotly.purge(gd);\n",
       "            observer.disconnect();\n",
       "        }}\n",
       "}});\n",
       "\n",
       "// Listen for the removal of the full notebook cells\n",
       "var notebookContainer = gd.closest('#notebook-container');\n",
       "if (notebookContainer) {{\n",
       "    x.observe(notebookContainer, {childList: true});\n",
       "}}\n",
       "\n",
       "// Listen for the clearing of the current output cell\n",
       "var outputEl = gd.closest('.output');\n",
       "if (outputEl) {{\n",
       "    x.observe(outputEl, {childList: true});\n",
       "}}\n",
       "\n",
       "                        })                };                });            </script>        </div>"
      ]
     },
     "metadata": {},
     "output_type": "display_data"
    }
   ],
   "source": [
    "\n",
    "\n",
    "# Group the data by country and count the number of institutions\n",
    "country_counts = wur.groupby('country')['institution'].count().reset_index()\n",
    "\n",
    "# Create a donut chart\n",
    "fig = px.pie(country_counts, \n",
    "             values='institution', \n",
    "             names='country', \n",
    "             title='Number of Institutions per Country',\n",
    "             hole=0.4)\n",
    "\n",
    "# Customize the chart layout\n",
    "fig.update_traces(textposition='inside', textinfo='percent+label')\n",
    "\n",
    "fig.show()\n"
   ]
  },
  {
   "cell_type": "code",
   "execution_count": 269,
   "metadata": {},
   "outputs": [
    {
     "data": {
      "application/vnd.plotly.v1+json": {
       "config": {
        "plotlyServerURL": "https://plot.ly"
       },
       "data": [
        {
         "hovertemplate": "score=%{x}<br>institution=%{y}<extra></extra>",
         "legendgroup": "",
         "marker": {
          "color": "#636efa"
         },
         "name": "",
         "orientation": "v",
         "showlegend": false,
         "type": "funnel",
         "x": [
          43.36,
          43.47,
          43.77,
          43.79,
          43.88,
          43.89,
          44.02,
          44.03,
          44.04,
          44.05,
          44.06,
          44.07,
          44.08,
          44.09,
          44.1,
          44.11,
          44.12,
          44.13,
          44.14,
          44.15,
          44.16,
          44.17,
          44.18,
          44.19,
          44.2,
          44.21,
          44.22,
          44.23,
          44.24,
          44.25,
          44.26,
          44.27,
          44.28,
          44.29,
          44.3,
          44.31,
          44.32,
          44.33,
          44.34,
          44.35,
          44.36,
          44.37,
          44.38,
          44.39,
          44.4,
          44.41,
          44.42,
          44.43,
          44.44,
          44.45,
          44.46,
          44.47,
          44.48,
          44.49,
          44.5,
          44.51,
          44.52,
          44.53,
          44.54,
          44.55,
          44.56,
          44.57,
          44.58,
          44.59,
          44.6,
          44.61,
          44.62,
          44.63,
          44.64,
          44.65,
          44.66,
          44.67,
          44.68,
          44.69,
          44.7,
          44.71,
          44.72,
          44.73,
          44.74,
          44.75,
          44.76,
          44.77,
          44.78,
          44.79,
          44.8,
          44.81,
          44.82,
          44.83,
          44.84,
          44.85,
          44.86,
          44.87,
          44.88,
          44.89,
          44.9,
          44.91,
          44.92,
          44.93,
          44.94,
          44.95,
          44.96,
          44.97,
          44.98,
          44.99,
          45,
          45.01,
          45.02,
          45.03,
          45.04,
          45.05,
          45.06,
          45.07,
          45.08,
          45.09,
          45.1,
          45.11,
          45.12,
          45.13,
          45.14,
          45.15,
          45.16,
          45.17,
          45.18,
          45.19,
          45.2,
          45.21,
          45.22,
          45.23,
          45.24,
          45.25,
          45.26,
          45.27,
          45.28,
          45.29,
          45.3,
          45.31,
          45.32,
          45.33,
          45.34,
          45.35,
          45.36,
          45.37,
          45.38,
          45.39,
          45.4,
          45.41,
          45.42,
          45.43,
          45.44,
          45.45,
          45.46,
          45.47,
          45.48,
          45.49,
          45.5,
          45.51,
          45.52,
          45.53,
          45.54,
          45.55,
          45.56,
          45.57,
          45.58,
          45.59,
          45.6,
          45.605000000000004,
          45.61,
          45.63,
          45.64,
          45.65,
          45.66,
          45.67,
          45.69,
          45.7,
          45.71,
          45.72,
          45.73,
          45.74,
          45.75,
          45.76,
          45.77,
          45.78,
          45.79,
          45.8,
          45.82,
          45.83,
          45.84,
          45.86,
          45.87,
          45.88,
          45.89,
          45.91,
          45.92,
          45.94,
          45.95,
          45.96,
          45.97,
          45.98,
          45.99,
          46,
          46.02,
          46.03,
          46.04,
          46.05,
          46.06,
          46.07,
          46.08,
          46.1,
          46.11,
          46.12,
          46.13,
          46.14,
          46.15,
          46.17,
          46.18,
          46.19,
          46.2,
          46.21,
          46.22,
          46.23,
          46.24,
          46.25,
          46.26,
          46.29,
          46.3,
          46.31,
          46.32,
          46.34,
          46.36,
          46.37,
          46.38,
          46.39,
          46.4,
          46.41,
          46.42,
          46.43,
          46.44,
          46.46,
          46.47,
          46.48,
          46.49,
          46.52,
          46.53,
          46.54,
          46.545,
          46.55,
          46.56,
          46.57,
          46.58,
          46.59,
          46.61,
          46.63,
          46.64,
          46.65,
          46.67,
          46.68,
          46.72,
          46.73,
          46.74,
          46.75,
          46.77,
          46.78,
          46.79,
          46.8,
          46.81,
          46.82,
          46.85,
          46.87,
          46.88,
          46.89,
          46.9,
          46.91,
          46.92,
          46.93,
          46.95,
          46.96,
          46.97,
          46.98,
          46.99,
          47,
          47.03,
          47.04,
          47.05,
          47.06,
          47.08,
          47.1,
          47.11,
          47.12,
          47.13,
          47.14,
          47.15,
          47.16,
          47.17,
          47.18,
          47.19,
          47.2,
          47.22,
          47.25,
          47.26,
          47.28,
          47.31,
          47.33,
          47.34,
          47.35,
          47.36,
          47.39,
          47.4,
          47.42,
          47.43,
          47.45,
          47.46,
          47.47,
          47.48,
          47.49,
          47.5,
          47.52,
          47.53,
          47.54,
          47.56,
          47.59,
          47.6,
          47.61,
          47.63,
          47.66,
          47.67,
          47.68,
          47.69,
          47.7,
          47.71,
          47.72,
          47.73,
          47.74,
          47.75,
          47.76,
          47.78,
          47.79,
          47.8,
          47.82,
          47.83,
          47.85,
          47.89,
          47.91,
          47.93,
          47.94,
          47.95,
          47.96,
          47.97,
          47.98,
          48.01,
          48.02,
          48.05,
          48.06,
          48.07,
          48.08,
          48.11,
          48.12,
          48.14,
          48.15,
          48.17,
          48.18,
          48.23,
          48.24,
          48.26,
          48.27,
          48.28,
          48.31,
          48.33,
          48.35,
          48.36,
          48.39,
          48.4,
          48.41,
          48.43,
          48.44,
          48.47,
          48.48,
          48.5,
          48.51,
          48.52,
          48.54,
          48.55,
          48.56,
          48.57,
          48.59,
          48.6,
          48.61,
          48.63,
          48.64,
          48.65,
          48.67,
          48.69,
          48.7,
          48.71,
          48.72,
          48.74,
          48.75,
          48.76,
          48.77,
          48.78,
          48.79,
          48.8,
          48.81,
          48.83,
          48.84,
          48.85,
          48.88,
          48.89,
          48.91,
          48.93,
          48.95,
          48.96,
          48.99,
          49.01,
          49.02,
          49.03,
          49.05,
          49.08,
          49.09,
          49.1,
          49.12,
          49.16,
          49.17,
          49.18,
          49.23,
          49.25,
          49.29,
          49.3,
          49.31,
          49.33,
          49.35,
          49.41,
          49.42,
          49.44,
          49.45,
          49.46,
          49.47,
          49.48,
          49.51,
          49.53,
          49.54,
          49.56,
          49.57,
          49.59,
          49.6,
          49.62,
          49.64,
          49.65,
          49.7,
          49.73,
          49.74,
          49.75,
          49.78,
          49.79,
          49.82,
          49.83,
          49.84,
          49.86,
          49.88,
          49.89,
          49.92,
          49.95,
          49.96,
          49.97,
          50.01,
          50.04,
          50.1,
          50.12,
          50.13,
          50.17,
          50.25,
          50.26,
          50.28,
          50.29,
          50.3,
          50.34,
          50.37,
          50.4,
          50.43,
          50.44,
          50.53,
          50.58,
          50.6,
          50.64,
          50.68,
          50.69,
          50.7,
          50.76,
          50.77,
          50.79,
          50.81,
          50.89,
          50.94,
          50.95,
          50.98,
          51.02,
          51.06,
          51.09,
          51.13,
          51.14,
          51.16,
          51.18,
          51.19,
          51.22,
          51.23,
          51.27,
          51.29,
          51.31,
          51.34,
          51.37,
          51.38,
          51.43,
          51.46,
          51.47,
          51.51,
          51.53,
          51.56,
          51.58,
          51.59,
          51.6,
          51.61,
          51.66,
          51.67,
          51.72,
          51.74,
          51.75,
          51.78,
          51.8,
          51.85,
          51.96,
          52.01,
          52.03,
          52.08,
          52.12,
          52.15,
          52.16,
          52.21,
          52.25,
          52.27,
          52.31,
          52.32,
          52.4,
          52.42,
          52.5,
          52.51,
          52.57,
          52.6,
          52.63,
          52.64,
          52.69,
          52.71,
          52.72,
          52.74,
          52.75,
          52.79,
          52.87,
          52.89,
          52.9,
          52.92,
          52.93,
          52.94,
          53.01,
          53.05,
          53.06,
          53.09,
          53.26,
          53.38,
          53.43,
          53.44,
          53.46,
          53.5,
          53.52,
          53.63,
          53.64,
          53.65,
          53.69,
          53.72,
          53.77,
          53.79,
          53.9,
          53.91,
          53.92,
          53.96,
          54,
          54.07,
          54.075,
          54.18,
          54.19,
          54.21,
          54.23,
          54.25,
          54.26,
          54.34,
          54.39,
          54.43,
          54.5,
          54.62,
          54.67,
          54.75,
          54.76,
          54.85,
          54.93,
          55.03,
          55.12,
          55.18,
          55.2,
          55.21,
          55.23,
          55.3,
          55.39,
          55.51,
          55.54,
          55.63,
          55.67,
          55.7,
          55.77,
          55.79,
          56,
          56.03,
          56.06,
          56.11,
          56.12,
          56.13,
          56.18,
          56.35,
          56.39,
          56.42,
          56.43,
          56.49,
          56.73,
          56.75,
          57.01,
          57.09,
          57.17,
          57.19,
          57.51,
          57.53,
          57.71,
          57.72,
          58,
          58.17,
          58.33,
          58.35,
          58.37,
          58.39,
          58.6,
          58.69,
          58.8,
          58.85,
          58.94,
          59,
          59.17,
          59.2,
          59.38,
          59.49,
          59.54,
          59.61,
          59.66,
          59.7,
          59.72,
          59.84,
          59.94,
          59.98,
          60,
          60.04,
          60.28,
          60.55,
          60.61,
          60.76,
          60.87,
          61.05,
          61.14,
          61.28,
          61.55,
          61.74,
          62.27,
          62.57,
          62.89,
          63.11,
          63.12,
          63.36,
          63.56,
          63.69,
          63.99,
          64.05,
          64.51,
          64.82,
          64.99,
          65.09,
          65.64,
          65.71,
          65.76,
          65.77,
          66.06,
          66.18,
          66.56,
          66.59,
          66.69,
          66.76,
          66.93,
          66.94,
          67.84,
          68.27,
          68.36,
          68.39,
          68.6,
          69.46,
          69.49,
          69.72,
          71.17,
          71.6,
          72.18,
          72.29,
          73.21,
          73.64,
          73.69,
          73.82,
          76.23,
          76.91,
          76.99,
          77.24,
          77.59,
          77.6,
          78.23,
          78.35,
          78.55,
          78.83,
          78.86,
          79.16,
          79.3,
          80.6,
          80.64,
          82.17,
          82.34,
          82.5,
          84.4,
          85.07,
          85.21,
          85.5,
          85.8,
          86.17,
          86.61,
          86.79,
          88.11,
          88.21,
          88.56,
          89.42,
          90.24,
          90.7,
          91.45,
          91.67,
          92.03,
          92.25,
          92.54,
          92.84,
          93.94,
          96.14,
          96.46,
          96.81,
          97.41,
          97.51,
          97.54,
          97.64,
          98.66,
          98.69,
          99.09,
          100
         ],
         "xaxis": "x",
         "y": [
          1,
          1,
          1,
          1,
          1,
          1,
          2,
          8,
          9,
          8,
          12,
          9,
          8,
          10,
          9,
          3,
          15,
          13,
          11,
          10,
          10,
          10,
          9,
          14,
          8,
          11,
          7,
          6,
          10,
          10,
          15,
          16,
          12,
          12,
          16,
          18,
          18,
          17,
          10,
          14,
          15,
          16,
          19,
          18,
          14,
          16,
          13,
          17,
          24,
          15,
          10,
          11,
          12,
          13,
          11,
          10,
          15,
          13,
          16,
          11,
          14,
          12,
          13,
          15,
          10,
          16,
          12,
          14,
          7,
          10,
          7,
          13,
          12,
          11,
          14,
          10,
          12,
          9,
          10,
          6,
          4,
          10,
          6,
          10,
          7,
          6,
          10,
          7,
          5,
          12,
          6,
          4,
          3,
          5,
          4,
          9,
          9,
          6,
          8,
          2,
          9,
          4,
          5,
          4,
          2,
          10,
          7,
          6,
          7,
          4,
          2,
          3,
          5,
          5,
          6,
          7,
          5,
          6,
          12,
          5,
          5,
          4,
          7,
          3,
          9,
          5,
          7,
          2,
          2,
          4,
          4,
          4,
          2,
          6,
          2,
          3,
          1,
          5,
          1,
          1,
          7,
          4,
          3,
          5,
          6,
          4,
          2,
          8,
          3,
          2,
          3,
          7,
          3,
          5,
          2,
          5,
          1,
          4,
          3,
          7,
          3,
          3,
          6,
          3,
          2,
          1,
          5,
          2,
          2,
          3,
          4,
          3,
          4,
          4,
          3,
          1,
          4,
          4,
          1,
          1,
          2,
          2,
          6,
          4,
          2,
          3,
          1,
          1,
          2,
          3,
          2,
          2,
          6,
          3,
          3,
          1,
          4,
          1,
          2,
          1,
          2,
          2,
          1,
          1,
          3,
          1,
          2,
          3,
          2,
          3,
          3,
          1,
          2,
          2,
          3,
          1,
          3,
          4,
          1,
          3,
          2,
          2,
          2,
          4,
          4,
          4,
          3,
          4,
          2,
          2,
          2,
          3,
          3,
          3,
          6,
          4,
          2,
          2,
          1,
          1,
          4,
          1,
          2,
          2,
          1,
          1,
          1,
          2,
          3,
          5,
          1,
          2,
          1,
          1,
          2,
          1,
          4,
          1,
          1,
          1,
          1,
          2,
          2,
          1,
          1,
          1,
          2,
          2,
          3,
          5,
          2,
          1,
          1,
          1,
          2,
          2,
          1,
          1,
          1,
          3,
          1,
          3,
          4,
          2,
          1,
          1,
          2,
          1,
          1,
          2,
          1,
          2,
          1,
          1,
          2,
          1,
          1,
          4,
          4,
          1,
          4,
          1,
          2,
          1,
          1,
          2,
          1,
          2,
          1,
          2,
          2,
          2,
          1,
          2,
          3,
          3,
          1,
          1,
          2,
          3,
          2,
          1,
          1,
          2,
          5,
          1,
          4,
          1,
          2,
          1,
          3,
          3,
          2,
          1,
          1,
          1,
          1,
          1,
          2,
          1,
          1,
          1,
          1,
          1,
          1,
          2,
          4,
          3,
          1,
          2,
          2,
          2,
          3,
          1,
          1,
          1,
          1,
          2,
          1,
          1,
          3,
          1,
          1,
          1,
          2,
          2,
          1,
          1,
          1,
          1,
          2,
          1,
          1,
          1,
          1,
          3,
          1,
          1,
          1,
          2,
          1,
          2,
          1,
          1,
          1,
          2,
          1,
          1,
          1,
          1,
          1,
          1,
          1,
          2,
          1,
          1,
          2,
          2,
          1,
          2,
          1,
          1,
          1,
          1,
          1,
          1,
          1,
          2,
          2,
          1,
          3,
          2,
          1,
          2,
          1,
          1,
          1,
          2,
          2,
          1,
          1,
          1,
          2,
          1,
          1,
          2,
          1,
          2,
          2,
          1,
          2,
          1,
          1,
          1,
          1,
          2,
          2,
          2,
          1,
          2,
          1,
          2,
          1,
          1,
          1,
          1,
          1,
          1,
          3,
          1,
          1,
          1,
          4,
          2,
          1,
          2,
          1,
          1,
          1,
          2,
          1,
          1,
          3,
          1,
          1,
          1,
          1,
          1,
          3,
          1,
          1,
          2,
          2,
          1,
          2,
          1,
          2,
          2,
          1,
          1,
          2,
          1,
          1,
          1,
          1,
          1,
          1,
          1,
          1,
          1,
          1,
          1,
          1,
          2,
          1,
          1,
          1,
          1,
          3,
          1,
          1,
          1,
          1,
          1,
          1,
          1,
          2,
          3,
          1,
          1,
          1,
          1,
          1,
          2,
          1,
          1,
          1,
          1,
          1,
          1,
          1,
          1,
          3,
          1,
          1,
          1,
          1,
          1,
          1,
          1,
          2,
          1,
          1,
          1,
          1,
          1,
          1,
          1,
          1,
          1,
          1,
          1,
          1,
          1,
          1,
          1,
          1,
          1,
          1,
          1,
          1,
          1,
          1,
          2,
          1,
          1,
          1,
          1,
          1,
          1,
          1,
          1,
          1,
          1,
          1,
          1,
          2,
          1,
          1,
          1,
          1,
          1,
          1,
          1,
          1,
          1,
          1,
          1,
          1,
          1,
          1,
          1,
          1,
          1,
          1,
          1,
          2,
          1,
          1,
          1,
          1,
          1,
          1,
          1,
          1,
          1,
          1,
          1,
          2,
          1,
          1,
          1,
          1,
          1,
          1,
          1,
          1,
          2,
          1,
          1,
          1,
          1,
          2,
          1,
          1,
          1,
          1,
          1,
          1,
          1,
          1,
          1,
          1,
          1,
          1,
          1,
          1,
          1,
          1,
          1,
          1,
          1,
          1,
          1,
          1,
          1,
          1,
          1,
          1,
          1,
          1,
          1,
          1,
          1,
          1,
          1,
          1,
          1,
          1,
          1,
          1,
          1,
          1,
          1,
          1,
          1,
          1,
          1,
          1,
          2,
          1,
          1,
          1,
          1,
          1,
          1,
          1,
          1,
          1,
          1,
          1,
          1,
          1,
          1,
          1,
          1,
          1,
          1,
          1,
          1,
          1,
          1,
          1,
          1,
          1,
          1,
          1,
          1,
          1,
          1,
          1,
          1,
          1,
          1,
          1,
          1,
          1,
          1,
          1,
          1,
          1,
          1,
          1,
          1,
          1,
          1,
          1,
          1,
          1,
          1,
          1,
          1,
          1,
          1,
          1,
          1,
          1,
          1,
          1,
          1,
          1,
          1,
          1,
          1,
          1,
          1,
          1,
          1,
          1,
          1,
          1,
          1,
          1,
          1,
          1,
          1,
          1,
          1,
          1,
          1,
          1,
          1,
          1,
          1,
          1,
          1,
          1,
          1,
          1,
          1,
          1,
          1,
          1,
          1,
          1,
          1,
          1,
          1,
          1,
          1,
          1,
          1,
          1,
          1,
          1,
          4
         ],
         "yaxis": "y"
        }
       ],
       "layout": {
        "legend": {
         "tracegroupgap": 0
        },
        "template": {
         "data": {
          "bar": [
           {
            "error_x": {
             "color": "#2a3f5f"
            },
            "error_y": {
             "color": "#2a3f5f"
            },
            "marker": {
             "line": {
              "color": "#E5ECF6",
              "width": 0.5
             },
             "pattern": {
              "fillmode": "overlay",
              "size": 10,
              "solidity": 0.2
             }
            },
            "type": "bar"
           }
          ],
          "barpolar": [
           {
            "marker": {
             "line": {
              "color": "#E5ECF6",
              "width": 0.5
             },
             "pattern": {
              "fillmode": "overlay",
              "size": 10,
              "solidity": 0.2
             }
            },
            "type": "barpolar"
           }
          ],
          "carpet": [
           {
            "aaxis": {
             "endlinecolor": "#2a3f5f",
             "gridcolor": "white",
             "linecolor": "white",
             "minorgridcolor": "white",
             "startlinecolor": "#2a3f5f"
            },
            "baxis": {
             "endlinecolor": "#2a3f5f",
             "gridcolor": "white",
             "linecolor": "white",
             "minorgridcolor": "white",
             "startlinecolor": "#2a3f5f"
            },
            "type": "carpet"
           }
          ],
          "choropleth": [
           {
            "colorbar": {
             "outlinewidth": 0,
             "ticks": ""
            },
            "type": "choropleth"
           }
          ],
          "contour": [
           {
            "colorbar": {
             "outlinewidth": 0,
             "ticks": ""
            },
            "colorscale": [
             [
              0,
              "#0d0887"
             ],
             [
              0.1111111111111111,
              "#46039f"
             ],
             [
              0.2222222222222222,
              "#7201a8"
             ],
             [
              0.3333333333333333,
              "#9c179e"
             ],
             [
              0.4444444444444444,
              "#bd3786"
             ],
             [
              0.5555555555555556,
              "#d8576b"
             ],
             [
              0.6666666666666666,
              "#ed7953"
             ],
             [
              0.7777777777777778,
              "#fb9f3a"
             ],
             [
              0.8888888888888888,
              "#fdca26"
             ],
             [
              1,
              "#f0f921"
             ]
            ],
            "type": "contour"
           }
          ],
          "contourcarpet": [
           {
            "colorbar": {
             "outlinewidth": 0,
             "ticks": ""
            },
            "type": "contourcarpet"
           }
          ],
          "heatmap": [
           {
            "colorbar": {
             "outlinewidth": 0,
             "ticks": ""
            },
            "colorscale": [
             [
              0,
              "#0d0887"
             ],
             [
              0.1111111111111111,
              "#46039f"
             ],
             [
              0.2222222222222222,
              "#7201a8"
             ],
             [
              0.3333333333333333,
              "#9c179e"
             ],
             [
              0.4444444444444444,
              "#bd3786"
             ],
             [
              0.5555555555555556,
              "#d8576b"
             ],
             [
              0.6666666666666666,
              "#ed7953"
             ],
             [
              0.7777777777777778,
              "#fb9f3a"
             ],
             [
              0.8888888888888888,
              "#fdca26"
             ],
             [
              1,
              "#f0f921"
             ]
            ],
            "type": "heatmap"
           }
          ],
          "heatmapgl": [
           {
            "colorbar": {
             "outlinewidth": 0,
             "ticks": ""
            },
            "colorscale": [
             [
              0,
              "#0d0887"
             ],
             [
              0.1111111111111111,
              "#46039f"
             ],
             [
              0.2222222222222222,
              "#7201a8"
             ],
             [
              0.3333333333333333,
              "#9c179e"
             ],
             [
              0.4444444444444444,
              "#bd3786"
             ],
             [
              0.5555555555555556,
              "#d8576b"
             ],
             [
              0.6666666666666666,
              "#ed7953"
             ],
             [
              0.7777777777777778,
              "#fb9f3a"
             ],
             [
              0.8888888888888888,
              "#fdca26"
             ],
             [
              1,
              "#f0f921"
             ]
            ],
            "type": "heatmapgl"
           }
          ],
          "histogram": [
           {
            "marker": {
             "pattern": {
              "fillmode": "overlay",
              "size": 10,
              "solidity": 0.2
             }
            },
            "type": "histogram"
           }
          ],
          "histogram2d": [
           {
            "colorbar": {
             "outlinewidth": 0,
             "ticks": ""
            },
            "colorscale": [
             [
              0,
              "#0d0887"
             ],
             [
              0.1111111111111111,
              "#46039f"
             ],
             [
              0.2222222222222222,
              "#7201a8"
             ],
             [
              0.3333333333333333,
              "#9c179e"
             ],
             [
              0.4444444444444444,
              "#bd3786"
             ],
             [
              0.5555555555555556,
              "#d8576b"
             ],
             [
              0.6666666666666666,
              "#ed7953"
             ],
             [
              0.7777777777777778,
              "#fb9f3a"
             ],
             [
              0.8888888888888888,
              "#fdca26"
             ],
             [
              1,
              "#f0f921"
             ]
            ],
            "type": "histogram2d"
           }
          ],
          "histogram2dcontour": [
           {
            "colorbar": {
             "outlinewidth": 0,
             "ticks": ""
            },
            "colorscale": [
             [
              0,
              "#0d0887"
             ],
             [
              0.1111111111111111,
              "#46039f"
             ],
             [
              0.2222222222222222,
              "#7201a8"
             ],
             [
              0.3333333333333333,
              "#9c179e"
             ],
             [
              0.4444444444444444,
              "#bd3786"
             ],
             [
              0.5555555555555556,
              "#d8576b"
             ],
             [
              0.6666666666666666,
              "#ed7953"
             ],
             [
              0.7777777777777778,
              "#fb9f3a"
             ],
             [
              0.8888888888888888,
              "#fdca26"
             ],
             [
              1,
              "#f0f921"
             ]
            ],
            "type": "histogram2dcontour"
           }
          ],
          "mesh3d": [
           {
            "colorbar": {
             "outlinewidth": 0,
             "ticks": ""
            },
            "type": "mesh3d"
           }
          ],
          "parcoords": [
           {
            "line": {
             "colorbar": {
              "outlinewidth": 0,
              "ticks": ""
             }
            },
            "type": "parcoords"
           }
          ],
          "pie": [
           {
            "automargin": true,
            "type": "pie"
           }
          ],
          "scatter": [
           {
            "fillpattern": {
             "fillmode": "overlay",
             "size": 10,
             "solidity": 0.2
            },
            "type": "scatter"
           }
          ],
          "scatter3d": [
           {
            "line": {
             "colorbar": {
              "outlinewidth": 0,
              "ticks": ""
             }
            },
            "marker": {
             "colorbar": {
              "outlinewidth": 0,
              "ticks": ""
             }
            },
            "type": "scatter3d"
           }
          ],
          "scattercarpet": [
           {
            "marker": {
             "colorbar": {
              "outlinewidth": 0,
              "ticks": ""
             }
            },
            "type": "scattercarpet"
           }
          ],
          "scattergeo": [
           {
            "marker": {
             "colorbar": {
              "outlinewidth": 0,
              "ticks": ""
             }
            },
            "type": "scattergeo"
           }
          ],
          "scattergl": [
           {
            "marker": {
             "colorbar": {
              "outlinewidth": 0,
              "ticks": ""
             }
            },
            "type": "scattergl"
           }
          ],
          "scattermapbox": [
           {
            "marker": {
             "colorbar": {
              "outlinewidth": 0,
              "ticks": ""
             }
            },
            "type": "scattermapbox"
           }
          ],
          "scatterpolar": [
           {
            "marker": {
             "colorbar": {
              "outlinewidth": 0,
              "ticks": ""
             }
            },
            "type": "scatterpolar"
           }
          ],
          "scatterpolargl": [
           {
            "marker": {
             "colorbar": {
              "outlinewidth": 0,
              "ticks": ""
             }
            },
            "type": "scatterpolargl"
           }
          ],
          "scatterternary": [
           {
            "marker": {
             "colorbar": {
              "outlinewidth": 0,
              "ticks": ""
             }
            },
            "type": "scatterternary"
           }
          ],
          "surface": [
           {
            "colorbar": {
             "outlinewidth": 0,
             "ticks": ""
            },
            "colorscale": [
             [
              0,
              "#0d0887"
             ],
             [
              0.1111111111111111,
              "#46039f"
             ],
             [
              0.2222222222222222,
              "#7201a8"
             ],
             [
              0.3333333333333333,
              "#9c179e"
             ],
             [
              0.4444444444444444,
              "#bd3786"
             ],
             [
              0.5555555555555556,
              "#d8576b"
             ],
             [
              0.6666666666666666,
              "#ed7953"
             ],
             [
              0.7777777777777778,
              "#fb9f3a"
             ],
             [
              0.8888888888888888,
              "#fdca26"
             ],
             [
              1,
              "#f0f921"
             ]
            ],
            "type": "surface"
           }
          ],
          "table": [
           {
            "cells": {
             "fill": {
              "color": "#EBF0F8"
             },
             "line": {
              "color": "white"
             }
            },
            "header": {
             "fill": {
              "color": "#C8D4E3"
             },
             "line": {
              "color": "white"
             }
            },
            "type": "table"
           }
          ]
         },
         "layout": {
          "annotationdefaults": {
           "arrowcolor": "#2a3f5f",
           "arrowhead": 0,
           "arrowwidth": 1
          },
          "autotypenumbers": "strict",
          "coloraxis": {
           "colorbar": {
            "outlinewidth": 0,
            "ticks": ""
           }
          },
          "colorscale": {
           "diverging": [
            [
             0,
             "#8e0152"
            ],
            [
             0.1,
             "#c51b7d"
            ],
            [
             0.2,
             "#de77ae"
            ],
            [
             0.3,
             "#f1b6da"
            ],
            [
             0.4,
             "#fde0ef"
            ],
            [
             0.5,
             "#f7f7f7"
            ],
            [
             0.6,
             "#e6f5d0"
            ],
            [
             0.7,
             "#b8e186"
            ],
            [
             0.8,
             "#7fbc41"
            ],
            [
             0.9,
             "#4d9221"
            ],
            [
             1,
             "#276419"
            ]
           ],
           "sequential": [
            [
             0,
             "#0d0887"
            ],
            [
             0.1111111111111111,
             "#46039f"
            ],
            [
             0.2222222222222222,
             "#7201a8"
            ],
            [
             0.3333333333333333,
             "#9c179e"
            ],
            [
             0.4444444444444444,
             "#bd3786"
            ],
            [
             0.5555555555555556,
             "#d8576b"
            ],
            [
             0.6666666666666666,
             "#ed7953"
            ],
            [
             0.7777777777777778,
             "#fb9f3a"
            ],
            [
             0.8888888888888888,
             "#fdca26"
            ],
            [
             1,
             "#f0f921"
            ]
           ],
           "sequentialminus": [
            [
             0,
             "#0d0887"
            ],
            [
             0.1111111111111111,
             "#46039f"
            ],
            [
             0.2222222222222222,
             "#7201a8"
            ],
            [
             0.3333333333333333,
             "#9c179e"
            ],
            [
             0.4444444444444444,
             "#bd3786"
            ],
            [
             0.5555555555555556,
             "#d8576b"
            ],
            [
             0.6666666666666666,
             "#ed7953"
            ],
            [
             0.7777777777777778,
             "#fb9f3a"
            ],
            [
             0.8888888888888888,
             "#fdca26"
            ],
            [
             1,
             "#f0f921"
            ]
           ]
          },
          "colorway": [
           "#636efa",
           "#EF553B",
           "#00cc96",
           "#ab63fa",
           "#FFA15A",
           "#19d3f3",
           "#FF6692",
           "#B6E880",
           "#FF97FF",
           "#FECB52"
          ],
          "font": {
           "color": "#2a3f5f"
          },
          "geo": {
           "bgcolor": "white",
           "lakecolor": "white",
           "landcolor": "#E5ECF6",
           "showlakes": true,
           "showland": true,
           "subunitcolor": "white"
          },
          "hoverlabel": {
           "align": "left"
          },
          "hovermode": "closest",
          "mapbox": {
           "style": "light"
          },
          "paper_bgcolor": "white",
          "plot_bgcolor": "#E5ECF6",
          "polar": {
           "angularaxis": {
            "gridcolor": "white",
            "linecolor": "white",
            "ticks": ""
           },
           "bgcolor": "#E5ECF6",
           "radialaxis": {
            "gridcolor": "white",
            "linecolor": "white",
            "ticks": ""
           }
          },
          "scene": {
           "xaxis": {
            "backgroundcolor": "#E5ECF6",
            "gridcolor": "white",
            "gridwidth": 2,
            "linecolor": "white",
            "showbackground": true,
            "ticks": "",
            "zerolinecolor": "white"
           },
           "yaxis": {
            "backgroundcolor": "#E5ECF6",
            "gridcolor": "white",
            "gridwidth": 2,
            "linecolor": "white",
            "showbackground": true,
            "ticks": "",
            "zerolinecolor": "white"
           },
           "zaxis": {
            "backgroundcolor": "#E5ECF6",
            "gridcolor": "white",
            "gridwidth": 2,
            "linecolor": "white",
            "showbackground": true,
            "ticks": "",
            "zerolinecolor": "white"
           }
          },
          "shapedefaults": {
           "line": {
            "color": "#2a3f5f"
           }
          },
          "ternary": {
           "aaxis": {
            "gridcolor": "white",
            "linecolor": "white",
            "ticks": ""
           },
           "baxis": {
            "gridcolor": "white",
            "linecolor": "white",
            "ticks": ""
           },
           "bgcolor": "#E5ECF6",
           "caxis": {
            "gridcolor": "white",
            "linecolor": "white",
            "ticks": ""
           }
          },
          "title": {
           "x": 0.05
          },
          "xaxis": {
           "automargin": true,
           "gridcolor": "white",
           "linecolor": "white",
           "ticks": "",
           "title": {
            "standoff": 15
           },
           "zerolinecolor": "white",
           "zerolinewidth": 2
          },
          "yaxis": {
           "automargin": true,
           "gridcolor": "white",
           "linecolor": "white",
           "ticks": "",
           "title": {
            "standoff": 15
           },
           "zerolinecolor": "white",
           "zerolinewidth": 2
          }
         }
        },
        "title": {
         "text": "Funnel Chart of Score and institution"
        },
        "xaxis": {
         "anchor": "y",
         "domain": [
          0,
          1
         ],
         "title": {
          "text": "score"
         }
        },
        "yaxis": {
         "anchor": "x",
         "domain": [
          0,
          1
         ],
         "title": {
          "text": "institution"
         }
        }
       }
      },
      "text/html": [
       "<div>                            <div id=\"53619881-1977-47c4-85e9-dbd20b9eca98\" class=\"plotly-graph-div\" style=\"height:525px; width:100%;\"></div>            <script type=\"text/javascript\">                require([\"plotly\"], function(Plotly) {                    window.PLOTLYENV=window.PLOTLYENV || {};                                    if (document.getElementById(\"53619881-1977-47c4-85e9-dbd20b9eca98\")) {                    Plotly.newPlot(                        \"53619881-1977-47c4-85e9-dbd20b9eca98\",                        [{\"hovertemplate\":\"score=%{x}<br>institution=%{y}<extra></extra>\",\"legendgroup\":\"\",\"marker\":{\"color\":\"#636efa\"},\"name\":\"\",\"orientation\":\"v\",\"showlegend\":false,\"x\":[43.36,43.47,43.77,43.79,43.88,43.89,44.02,44.03,44.04,44.05,44.06,44.07,44.08,44.09,44.1,44.11,44.12,44.13,44.14,44.15,44.16,44.17,44.18,44.19,44.2,44.21,44.22,44.23,44.24,44.25,44.26,44.27,44.28,44.29,44.3,44.31,44.32,44.33,44.34,44.35,44.36,44.37,44.38,44.39,44.4,44.41,44.42,44.43,44.44,44.45,44.46,44.47,44.48,44.49,44.5,44.51,44.52,44.53,44.54,44.55,44.56,44.57,44.58,44.59,44.6,44.61,44.62,44.63,44.64,44.65,44.66,44.67,44.68,44.69,44.7,44.71,44.72,44.73,44.74,44.75,44.76,44.77,44.78,44.79,44.8,44.81,44.82,44.83,44.84,44.85,44.86,44.87,44.88,44.89,44.9,44.91,44.92,44.93,44.94,44.95,44.96,44.97,44.98,44.99,45.0,45.01,45.02,45.03,45.04,45.05,45.06,45.07,45.08,45.09,45.1,45.11,45.12,45.13,45.14,45.15,45.16,45.17,45.18,45.19,45.2,45.21,45.22,45.23,45.24,45.25,45.26,45.27,45.28,45.29,45.3,45.31,45.32,45.33,45.34,45.35,45.36,45.37,45.38,45.39,45.4,45.41,45.42,45.43,45.44,45.45,45.46,45.47,45.48,45.49,45.5,45.51,45.52,45.53,45.54,45.55,45.56,45.57,45.58,45.59,45.6,45.605000000000004,45.61,45.63,45.64,45.65,45.66,45.67,45.69,45.7,45.71,45.72,45.73,45.74,45.75,45.76,45.77,45.78,45.79,45.8,45.82,45.83,45.84,45.86,45.87,45.88,45.89,45.91,45.92,45.94,45.95,45.96,45.97,45.98,45.99,46.0,46.02,46.03,46.04,46.05,46.06,46.07,46.08,46.1,46.11,46.12,46.13,46.14,46.15,46.17,46.18,46.19,46.2,46.21,46.22,46.23,46.24,46.25,46.26,46.29,46.3,46.31,46.32,46.34,46.36,46.37,46.38,46.39,46.4,46.41,46.42,46.43,46.44,46.46,46.47,46.48,46.49,46.52,46.53,46.54,46.545,46.55,46.56,46.57,46.58,46.59,46.61,46.63,46.64,46.65,46.67,46.68,46.72,46.73,46.74,46.75,46.77,46.78,46.79,46.8,46.81,46.82,46.85,46.87,46.88,46.89,46.9,46.91,46.92,46.93,46.95,46.96,46.97,46.98,46.99,47.0,47.03,47.04,47.05,47.06,47.08,47.1,47.11,47.12,47.13,47.14,47.15,47.16,47.17,47.18,47.19,47.2,47.22,47.25,47.26,47.28,47.31,47.33,47.34,47.35,47.36,47.39,47.4,47.42,47.43,47.45,47.46,47.47,47.48,47.49,47.5,47.52,47.53,47.54,47.56,47.59,47.6,47.61,47.63,47.66,47.67,47.68,47.69,47.7,47.71,47.72,47.73,47.74,47.75,47.76,47.78,47.79,47.8,47.82,47.83,47.85,47.89,47.91,47.93,47.94,47.95,47.96,47.97,47.98,48.01,48.02,48.05,48.06,48.07,48.08,48.11,48.12,48.14,48.15,48.17,48.18,48.23,48.24,48.26,48.27,48.28,48.31,48.33,48.35,48.36,48.39,48.4,48.41,48.43,48.44,48.47,48.48,48.5,48.51,48.52,48.54,48.55,48.56,48.57,48.59,48.6,48.61,48.63,48.64,48.65,48.67,48.69,48.7,48.71,48.72,48.74,48.75,48.76,48.77,48.78,48.79,48.8,48.81,48.83,48.84,48.85,48.88,48.89,48.91,48.93,48.95,48.96,48.99,49.01,49.02,49.03,49.05,49.08,49.09,49.1,49.12,49.16,49.17,49.18,49.23,49.25,49.29,49.3,49.31,49.33,49.35,49.41,49.42,49.44,49.45,49.46,49.47,49.48,49.51,49.53,49.54,49.56,49.57,49.59,49.6,49.62,49.64,49.65,49.7,49.73,49.74,49.75,49.78,49.79,49.82,49.83,49.84,49.86,49.88,49.89,49.92,49.95,49.96,49.97,50.01,50.04,50.1,50.12,50.13,50.17,50.25,50.26,50.28,50.29,50.3,50.34,50.37,50.4,50.43,50.44,50.53,50.58,50.6,50.64,50.68,50.69,50.7,50.76,50.77,50.79,50.81,50.89,50.94,50.95,50.98,51.02,51.06,51.09,51.13,51.14,51.16,51.18,51.19,51.22,51.23,51.27,51.29,51.31,51.34,51.37,51.38,51.43,51.46,51.47,51.51,51.53,51.56,51.58,51.59,51.6,51.61,51.66,51.67,51.72,51.74,51.75,51.78,51.8,51.85,51.96,52.01,52.03,52.08,52.12,52.15,52.16,52.21,52.25,52.27,52.31,52.32,52.4,52.42,52.5,52.51,52.57,52.6,52.63,52.64,52.69,52.71,52.72,52.74,52.75,52.79,52.87,52.89,52.9,52.92,52.93,52.94,53.01,53.05,53.06,53.09,53.26,53.38,53.43,53.44,53.46,53.5,53.52,53.63,53.64,53.65,53.69,53.72,53.77,53.79,53.9,53.91,53.92,53.96,54.0,54.07,54.075,54.18,54.19,54.21,54.23,54.25,54.26,54.34,54.39,54.43,54.5,54.62,54.67,54.75,54.76,54.85,54.93,55.03,55.12,55.18,55.2,55.21,55.23,55.3,55.39,55.51,55.54,55.63,55.67,55.7,55.77,55.79,56.0,56.03,56.06,56.11,56.12,56.13,56.18,56.35,56.39,56.42,56.43,56.49,56.73,56.75,57.01,57.09,57.17,57.19,57.51,57.53,57.71,57.72,58.0,58.17,58.33,58.35,58.37,58.39,58.6,58.69,58.8,58.85,58.94,59.0,59.17,59.2,59.38,59.49,59.54,59.61,59.66,59.7,59.72,59.84,59.94,59.98,60.0,60.04,60.28,60.55,60.61,60.76,60.87,61.05,61.14,61.28,61.55,61.74,62.27,62.57,62.89,63.11,63.12,63.36,63.56,63.69,63.99,64.05,64.51,64.82,64.99,65.09,65.64,65.71,65.76,65.77,66.06,66.18,66.56,66.59,66.69,66.76,66.93,66.94,67.84,68.27,68.36,68.39,68.6,69.46,69.49,69.72,71.17,71.6,72.18,72.29,73.21,73.64,73.69,73.82,76.23,76.91,76.99,77.24,77.59,77.6,78.23,78.35,78.55,78.83,78.86,79.16,79.3,80.6,80.64,82.17,82.34,82.5,84.4,85.07,85.21,85.5,85.8,86.17,86.61,86.79,88.11,88.21,88.56,89.42,90.24,90.7,91.45,91.67,92.03,92.25,92.54,92.84,93.94,96.14,96.46,96.81,97.41,97.51,97.54,97.64,98.66,98.69,99.09,100.0],\"xaxis\":\"x\",\"y\":[1,1,1,1,1,1,2,8,9,8,12,9,8,10,9,3,15,13,11,10,10,10,9,14,8,11,7,6,10,10,15,16,12,12,16,18,18,17,10,14,15,16,19,18,14,16,13,17,24,15,10,11,12,13,11,10,15,13,16,11,14,12,13,15,10,16,12,14,7,10,7,13,12,11,14,10,12,9,10,6,4,10,6,10,7,6,10,7,5,12,6,4,3,5,4,9,9,6,8,2,9,4,5,4,2,10,7,6,7,4,2,3,5,5,6,7,5,6,12,5,5,4,7,3,9,5,7,2,2,4,4,4,2,6,2,3,1,5,1,1,7,4,3,5,6,4,2,8,3,2,3,7,3,5,2,5,1,4,3,7,3,3,6,3,2,1,5,2,2,3,4,3,4,4,3,1,4,4,1,1,2,2,6,4,2,3,1,1,2,3,2,2,6,3,3,1,4,1,2,1,2,2,1,1,3,1,2,3,2,3,3,1,2,2,3,1,3,4,1,3,2,2,2,4,4,4,3,4,2,2,2,3,3,3,6,4,2,2,1,1,4,1,2,2,1,1,1,2,3,5,1,2,1,1,2,1,4,1,1,1,1,2,2,1,1,1,2,2,3,5,2,1,1,1,2,2,1,1,1,3,1,3,4,2,1,1,2,1,1,2,1,2,1,1,2,1,1,4,4,1,4,1,2,1,1,2,1,2,1,2,2,2,1,2,3,3,1,1,2,3,2,1,1,2,5,1,4,1,2,1,3,3,2,1,1,1,1,1,2,1,1,1,1,1,1,2,4,3,1,2,2,2,3,1,1,1,1,2,1,1,3,1,1,1,2,2,1,1,1,1,2,1,1,1,1,3,1,1,1,2,1,2,1,1,1,2,1,1,1,1,1,1,1,2,1,1,2,2,1,2,1,1,1,1,1,1,1,2,2,1,3,2,1,2,1,1,1,2,2,1,1,1,2,1,1,2,1,2,2,1,2,1,1,1,1,2,2,2,1,2,1,2,1,1,1,1,1,1,3,1,1,1,4,2,1,2,1,1,1,2,1,1,3,1,1,1,1,1,3,1,1,2,2,1,2,1,2,2,1,1,2,1,1,1,1,1,1,1,1,1,1,1,1,2,1,1,1,1,3,1,1,1,1,1,1,1,2,3,1,1,1,1,1,2,1,1,1,1,1,1,1,1,3,1,1,1,1,1,1,1,2,1,1,1,1,1,1,1,1,1,1,1,1,1,1,1,1,1,1,1,1,1,1,2,1,1,1,1,1,1,1,1,1,1,1,1,2,1,1,1,1,1,1,1,1,1,1,1,1,1,1,1,1,1,1,1,2,1,1,1,1,1,1,1,1,1,1,1,2,1,1,1,1,1,1,1,1,2,1,1,1,1,2,1,1,1,1,1,1,1,1,1,1,1,1,1,1,1,1,1,1,1,1,1,1,1,1,1,1,1,1,1,1,1,1,1,1,1,1,1,1,1,1,1,1,1,1,1,1,2,1,1,1,1,1,1,1,1,1,1,1,1,1,1,1,1,1,1,1,1,1,1,1,1,1,1,1,1,1,1,1,1,1,1,1,1,1,1,1,1,1,1,1,1,1,1,1,1,1,1,1,1,1,1,1,1,1,1,1,1,1,1,1,1,1,1,1,1,1,1,1,1,1,1,1,1,1,1,1,1,1,1,1,1,1,1,1,1,1,1,1,1,1,1,1,1,1,1,1,1,1,1,1,1,1,4],\"yaxis\":\"y\",\"type\":\"funnel\"}],                        {\"template\":{\"data\":{\"histogram2dcontour\":[{\"type\":\"histogram2dcontour\",\"colorbar\":{\"outlinewidth\":0,\"ticks\":\"\"},\"colorscale\":[[0.0,\"#0d0887\"],[0.1111111111111111,\"#46039f\"],[0.2222222222222222,\"#7201a8\"],[0.3333333333333333,\"#9c179e\"],[0.4444444444444444,\"#bd3786\"],[0.5555555555555556,\"#d8576b\"],[0.6666666666666666,\"#ed7953\"],[0.7777777777777778,\"#fb9f3a\"],[0.8888888888888888,\"#fdca26\"],[1.0,\"#f0f921\"]]}],\"choropleth\":[{\"type\":\"choropleth\",\"colorbar\":{\"outlinewidth\":0,\"ticks\":\"\"}}],\"histogram2d\":[{\"type\":\"histogram2d\",\"colorbar\":{\"outlinewidth\":0,\"ticks\":\"\"},\"colorscale\":[[0.0,\"#0d0887\"],[0.1111111111111111,\"#46039f\"],[0.2222222222222222,\"#7201a8\"],[0.3333333333333333,\"#9c179e\"],[0.4444444444444444,\"#bd3786\"],[0.5555555555555556,\"#d8576b\"],[0.6666666666666666,\"#ed7953\"],[0.7777777777777778,\"#fb9f3a\"],[0.8888888888888888,\"#fdca26\"],[1.0,\"#f0f921\"]]}],\"heatmap\":[{\"type\":\"heatmap\",\"colorbar\":{\"outlinewidth\":0,\"ticks\":\"\"},\"colorscale\":[[0.0,\"#0d0887\"],[0.1111111111111111,\"#46039f\"],[0.2222222222222222,\"#7201a8\"],[0.3333333333333333,\"#9c179e\"],[0.4444444444444444,\"#bd3786\"],[0.5555555555555556,\"#d8576b\"],[0.6666666666666666,\"#ed7953\"],[0.7777777777777778,\"#fb9f3a\"],[0.8888888888888888,\"#fdca26\"],[1.0,\"#f0f921\"]]}],\"heatmapgl\":[{\"type\":\"heatmapgl\",\"colorbar\":{\"outlinewidth\":0,\"ticks\":\"\"},\"colorscale\":[[0.0,\"#0d0887\"],[0.1111111111111111,\"#46039f\"],[0.2222222222222222,\"#7201a8\"],[0.3333333333333333,\"#9c179e\"],[0.4444444444444444,\"#bd3786\"],[0.5555555555555556,\"#d8576b\"],[0.6666666666666666,\"#ed7953\"],[0.7777777777777778,\"#fb9f3a\"],[0.8888888888888888,\"#fdca26\"],[1.0,\"#f0f921\"]]}],\"contourcarpet\":[{\"type\":\"contourcarpet\",\"colorbar\":{\"outlinewidth\":0,\"ticks\":\"\"}}],\"contour\":[{\"type\":\"contour\",\"colorbar\":{\"outlinewidth\":0,\"ticks\":\"\"},\"colorscale\":[[0.0,\"#0d0887\"],[0.1111111111111111,\"#46039f\"],[0.2222222222222222,\"#7201a8\"],[0.3333333333333333,\"#9c179e\"],[0.4444444444444444,\"#bd3786\"],[0.5555555555555556,\"#d8576b\"],[0.6666666666666666,\"#ed7953\"],[0.7777777777777778,\"#fb9f3a\"],[0.8888888888888888,\"#fdca26\"],[1.0,\"#f0f921\"]]}],\"surface\":[{\"type\":\"surface\",\"colorbar\":{\"outlinewidth\":0,\"ticks\":\"\"},\"colorscale\":[[0.0,\"#0d0887\"],[0.1111111111111111,\"#46039f\"],[0.2222222222222222,\"#7201a8\"],[0.3333333333333333,\"#9c179e\"],[0.4444444444444444,\"#bd3786\"],[0.5555555555555556,\"#d8576b\"],[0.6666666666666666,\"#ed7953\"],[0.7777777777777778,\"#fb9f3a\"],[0.8888888888888888,\"#fdca26\"],[1.0,\"#f0f921\"]]}],\"mesh3d\":[{\"type\":\"mesh3d\",\"colorbar\":{\"outlinewidth\":0,\"ticks\":\"\"}}],\"scatter\":[{\"fillpattern\":{\"fillmode\":\"overlay\",\"size\":10,\"solidity\":0.2},\"type\":\"scatter\"}],\"parcoords\":[{\"type\":\"parcoords\",\"line\":{\"colorbar\":{\"outlinewidth\":0,\"ticks\":\"\"}}}],\"scatterpolargl\":[{\"type\":\"scatterpolargl\",\"marker\":{\"colorbar\":{\"outlinewidth\":0,\"ticks\":\"\"}}}],\"bar\":[{\"error_x\":{\"color\":\"#2a3f5f\"},\"error_y\":{\"color\":\"#2a3f5f\"},\"marker\":{\"line\":{\"color\":\"#E5ECF6\",\"width\":0.5},\"pattern\":{\"fillmode\":\"overlay\",\"size\":10,\"solidity\":0.2}},\"type\":\"bar\"}],\"scattergeo\":[{\"type\":\"scattergeo\",\"marker\":{\"colorbar\":{\"outlinewidth\":0,\"ticks\":\"\"}}}],\"scatterpolar\":[{\"type\":\"scatterpolar\",\"marker\":{\"colorbar\":{\"outlinewidth\":0,\"ticks\":\"\"}}}],\"histogram\":[{\"marker\":{\"pattern\":{\"fillmode\":\"overlay\",\"size\":10,\"solidity\":0.2}},\"type\":\"histogram\"}],\"scattergl\":[{\"type\":\"scattergl\",\"marker\":{\"colorbar\":{\"outlinewidth\":0,\"ticks\":\"\"}}}],\"scatter3d\":[{\"type\":\"scatter3d\",\"line\":{\"colorbar\":{\"outlinewidth\":0,\"ticks\":\"\"}},\"marker\":{\"colorbar\":{\"outlinewidth\":0,\"ticks\":\"\"}}}],\"scattermapbox\":[{\"type\":\"scattermapbox\",\"marker\":{\"colorbar\":{\"outlinewidth\":0,\"ticks\":\"\"}}}],\"scatterternary\":[{\"type\":\"scatterternary\",\"marker\":{\"colorbar\":{\"outlinewidth\":0,\"ticks\":\"\"}}}],\"scattercarpet\":[{\"type\":\"scattercarpet\",\"marker\":{\"colorbar\":{\"outlinewidth\":0,\"ticks\":\"\"}}}],\"carpet\":[{\"aaxis\":{\"endlinecolor\":\"#2a3f5f\",\"gridcolor\":\"white\",\"linecolor\":\"white\",\"minorgridcolor\":\"white\",\"startlinecolor\":\"#2a3f5f\"},\"baxis\":{\"endlinecolor\":\"#2a3f5f\",\"gridcolor\":\"white\",\"linecolor\":\"white\",\"minorgridcolor\":\"white\",\"startlinecolor\":\"#2a3f5f\"},\"type\":\"carpet\"}],\"table\":[{\"cells\":{\"fill\":{\"color\":\"#EBF0F8\"},\"line\":{\"color\":\"white\"}},\"header\":{\"fill\":{\"color\":\"#C8D4E3\"},\"line\":{\"color\":\"white\"}},\"type\":\"table\"}],\"barpolar\":[{\"marker\":{\"line\":{\"color\":\"#E5ECF6\",\"width\":0.5},\"pattern\":{\"fillmode\":\"overlay\",\"size\":10,\"solidity\":0.2}},\"type\":\"barpolar\"}],\"pie\":[{\"automargin\":true,\"type\":\"pie\"}]},\"layout\":{\"autotypenumbers\":\"strict\",\"colorway\":[\"#636efa\",\"#EF553B\",\"#00cc96\",\"#ab63fa\",\"#FFA15A\",\"#19d3f3\",\"#FF6692\",\"#B6E880\",\"#FF97FF\",\"#FECB52\"],\"font\":{\"color\":\"#2a3f5f\"},\"hovermode\":\"closest\",\"hoverlabel\":{\"align\":\"left\"},\"paper_bgcolor\":\"white\",\"plot_bgcolor\":\"#E5ECF6\",\"polar\":{\"bgcolor\":\"#E5ECF6\",\"angularaxis\":{\"gridcolor\":\"white\",\"linecolor\":\"white\",\"ticks\":\"\"},\"radialaxis\":{\"gridcolor\":\"white\",\"linecolor\":\"white\",\"ticks\":\"\"}},\"ternary\":{\"bgcolor\":\"#E5ECF6\",\"aaxis\":{\"gridcolor\":\"white\",\"linecolor\":\"white\",\"ticks\":\"\"},\"baxis\":{\"gridcolor\":\"white\",\"linecolor\":\"white\",\"ticks\":\"\"},\"caxis\":{\"gridcolor\":\"white\",\"linecolor\":\"white\",\"ticks\":\"\"}},\"coloraxis\":{\"colorbar\":{\"outlinewidth\":0,\"ticks\":\"\"}},\"colorscale\":{\"sequential\":[[0.0,\"#0d0887\"],[0.1111111111111111,\"#46039f\"],[0.2222222222222222,\"#7201a8\"],[0.3333333333333333,\"#9c179e\"],[0.4444444444444444,\"#bd3786\"],[0.5555555555555556,\"#d8576b\"],[0.6666666666666666,\"#ed7953\"],[0.7777777777777778,\"#fb9f3a\"],[0.8888888888888888,\"#fdca26\"],[1.0,\"#f0f921\"]],\"sequentialminus\":[[0.0,\"#0d0887\"],[0.1111111111111111,\"#46039f\"],[0.2222222222222222,\"#7201a8\"],[0.3333333333333333,\"#9c179e\"],[0.4444444444444444,\"#bd3786\"],[0.5555555555555556,\"#d8576b\"],[0.6666666666666666,\"#ed7953\"],[0.7777777777777778,\"#fb9f3a\"],[0.8888888888888888,\"#fdca26\"],[1.0,\"#f0f921\"]],\"diverging\":[[0,\"#8e0152\"],[0.1,\"#c51b7d\"],[0.2,\"#de77ae\"],[0.3,\"#f1b6da\"],[0.4,\"#fde0ef\"],[0.5,\"#f7f7f7\"],[0.6,\"#e6f5d0\"],[0.7,\"#b8e186\"],[0.8,\"#7fbc41\"],[0.9,\"#4d9221\"],[1,\"#276419\"]]},\"xaxis\":{\"gridcolor\":\"white\",\"linecolor\":\"white\",\"ticks\":\"\",\"title\":{\"standoff\":15},\"zerolinecolor\":\"white\",\"automargin\":true,\"zerolinewidth\":2},\"yaxis\":{\"gridcolor\":\"white\",\"linecolor\":\"white\",\"ticks\":\"\",\"title\":{\"standoff\":15},\"zerolinecolor\":\"white\",\"automargin\":true,\"zerolinewidth\":2},\"scene\":{\"xaxis\":{\"backgroundcolor\":\"#E5ECF6\",\"gridcolor\":\"white\",\"linecolor\":\"white\",\"showbackground\":true,\"ticks\":\"\",\"zerolinecolor\":\"white\",\"gridwidth\":2},\"yaxis\":{\"backgroundcolor\":\"#E5ECF6\",\"gridcolor\":\"white\",\"linecolor\":\"white\",\"showbackground\":true,\"ticks\":\"\",\"zerolinecolor\":\"white\",\"gridwidth\":2},\"zaxis\":{\"backgroundcolor\":\"#E5ECF6\",\"gridcolor\":\"white\",\"linecolor\":\"white\",\"showbackground\":true,\"ticks\":\"\",\"zerolinecolor\":\"white\",\"gridwidth\":2}},\"shapedefaults\":{\"line\":{\"color\":\"#2a3f5f\"}},\"annotationdefaults\":{\"arrowcolor\":\"#2a3f5f\",\"arrowhead\":0,\"arrowwidth\":1},\"geo\":{\"bgcolor\":\"white\",\"landcolor\":\"#E5ECF6\",\"subunitcolor\":\"white\",\"showland\":true,\"showlakes\":true,\"lakecolor\":\"white\"},\"title\":{\"x\":0.05},\"mapbox\":{\"style\":\"light\"}}},\"xaxis\":{\"anchor\":\"y\",\"domain\":[0.0,1.0],\"title\":{\"text\":\"score\"}},\"yaxis\":{\"anchor\":\"x\",\"domain\":[0.0,1.0],\"title\":{\"text\":\"institution\"}},\"legend\":{\"tracegroupgap\":0},\"title\":{\"text\":\"Funnel Chart of Score and institution\"}},                        {\"responsive\": true}                    ).then(function(){\n",
       "                            \n",
       "var gd = document.getElementById('53619881-1977-47c4-85e9-dbd20b9eca98');\n",
       "var x = new MutationObserver(function (mutations, observer) {{\n",
       "        var display = window.getComputedStyle(gd).display;\n",
       "        if (!display || display === 'none') {{\n",
       "            console.log([gd, 'removed!']);\n",
       "            Plotly.purge(gd);\n",
       "            observer.disconnect();\n",
       "        }}\n",
       "}});\n",
       "\n",
       "// Listen for the removal of the full notebook cells\n",
       "var notebookContainer = gd.closest('#notebook-container');\n",
       "if (notebookContainer) {{\n",
       "    x.observe(notebookContainer, {childList: true});\n",
       "}}\n",
       "\n",
       "// Listen for the clearing of the current output cell\n",
       "var outputEl = gd.closest('.output');\n",
       "if (outputEl) {{\n",
       "    x.observe(outputEl, {childList: true});\n",
       "}}\n",
       "\n",
       "                        })                };                });            </script>        </div>"
      ]
     },
     "metadata": {},
     "output_type": "display_data"
    }
   ],
   "source": [
    "# as you can see most institution have the score of around 25-50\n",
    "# Group the data by score and count the number of institution\n",
    "institution_counts = wur.groupby('score')['institution'].count().reset_index()\n",
    "\n",
    "# Create a funnel chart\n",
    "fig = px.funnel(institution_counts, \n",
    "                x='score', \n",
    "                y='institution', \n",
    "                title='Funnel Chart of Score and institution')\n",
    "\n",
    "fig.show()\n"
   ]
  },
  {
   "cell_type": "markdown",
   "metadata": {},
   "source": [
    "# Feature Selection"
   ]
  },
  {
   "cell_type": "code",
   "execution_count": 270,
   "metadata": {},
   "outputs": [],
   "source": [
    "from sklearn.feature_selection import f_classif\n",
    "from mlxtend.feature_selection import ExhaustiveFeatureSelector\n",
    "from sklearn.tree import DecisionTreeClassifier\n",
    "from sklearn.ensemble import ExtraTreesClassifier\n",
    "from sklearn.linear_model import LinearRegression"
   ]
  },
  {
   "cell_type": "code",
   "execution_count": 271,
   "metadata": {},
   "outputs": [
    {
     "name": "stdout",
     "output_type": "stream",
     "text": [
      "score                   1.000000\n",
      "national_rank          -0.199130\n",
      "year                   -0.234163\n",
      "citations              -0.522592\n",
      "world_rank             -0.549557\n",
      "quality_of_education   -0.600328\n",
      "quality_of_faculty     -0.693473\n",
      "Name: score, dtype: float64\n"
     ]
    },
    {
     "name": "stderr",
     "output_type": "stream",
     "text": [
      "C:\\Users\\Eddie\\AppData\\Local\\Temp\\ipykernel_34536\\1678507656.py:1: FutureWarning:\n",
      "\n",
      "The default value of numeric_only in DataFrame.corr is deprecated. In a future version, it will default to False. Select only valid columns or specify the value of numeric_only to silence this warning.\n",
      "\n"
     ]
    }
   ],
   "source": [
    "corr_matrix = wur.corr()\n",
    "corr_score = corr_matrix[\"score\"].sort_values(ascending=False)\n",
    "print(corr_score)"
   ]
  },
  {
   "cell_type": "markdown",
   "metadata": {},
   "source": [
    "# target variable \"score\"."
   ]
  },
  {
   "cell_type": "code",
   "execution_count": 272,
   "metadata": {},
   "outputs": [
    {
     "name": "stderr",
     "output_type": "stream",
     "text": [
      "Features: 31/31"
     ]
    },
    {
     "data": {
      "text/html": [
       "<style>#sk-container-id-5 {color: black;background-color: white;}#sk-container-id-5 pre{padding: 0;}#sk-container-id-5 div.sk-toggleable {background-color: white;}#sk-container-id-5 label.sk-toggleable__label {cursor: pointer;display: block;width: 100%;margin-bottom: 0;padding: 0.3em;box-sizing: border-box;text-align: center;}#sk-container-id-5 label.sk-toggleable__label-arrow:before {content: \"▸\";float: left;margin-right: 0.25em;color: #696969;}#sk-container-id-5 label.sk-toggleable__label-arrow:hover:before {color: black;}#sk-container-id-5 div.sk-estimator:hover label.sk-toggleable__label-arrow:before {color: black;}#sk-container-id-5 div.sk-toggleable__content {max-height: 0;max-width: 0;overflow: hidden;text-align: left;background-color: #f0f8ff;}#sk-container-id-5 div.sk-toggleable__content pre {margin: 0.2em;color: black;border-radius: 0.25em;background-color: #f0f8ff;}#sk-container-id-5 input.sk-toggleable__control:checked~div.sk-toggleable__content {max-height: 200px;max-width: 100%;overflow: auto;}#sk-container-id-5 input.sk-toggleable__control:checked~label.sk-toggleable__label-arrow:before {content: \"▾\";}#sk-container-id-5 div.sk-estimator input.sk-toggleable__control:checked~label.sk-toggleable__label {background-color: #d4ebff;}#sk-container-id-5 div.sk-label input.sk-toggleable__control:checked~label.sk-toggleable__label {background-color: #d4ebff;}#sk-container-id-5 input.sk-hidden--visually {border: 0;clip: rect(1px 1px 1px 1px);clip: rect(1px, 1px, 1px, 1px);height: 1px;margin: -1px;overflow: hidden;padding: 0;position: absolute;width: 1px;}#sk-container-id-5 div.sk-estimator {font-family: monospace;background-color: #f0f8ff;border: 1px dotted black;border-radius: 0.25em;box-sizing: border-box;margin-bottom: 0.5em;}#sk-container-id-5 div.sk-estimator:hover {background-color: #d4ebff;}#sk-container-id-5 div.sk-parallel-item::after {content: \"\";width: 100%;border-bottom: 1px solid gray;flex-grow: 1;}#sk-container-id-5 div.sk-label:hover label.sk-toggleable__label {background-color: #d4ebff;}#sk-container-id-5 div.sk-serial::before {content: \"\";position: absolute;border-left: 1px solid gray;box-sizing: border-box;top: 0;bottom: 0;left: 50%;z-index: 0;}#sk-container-id-5 div.sk-serial {display: flex;flex-direction: column;align-items: center;background-color: white;padding-right: 0.2em;padding-left: 0.2em;position: relative;}#sk-container-id-5 div.sk-item {position: relative;z-index: 1;}#sk-container-id-5 div.sk-parallel {display: flex;align-items: stretch;justify-content: center;background-color: white;position: relative;}#sk-container-id-5 div.sk-item::before, #sk-container-id-5 div.sk-parallel-item::before {content: \"\";position: absolute;border-left: 1px solid gray;box-sizing: border-box;top: 0;bottom: 0;left: 50%;z-index: -1;}#sk-container-id-5 div.sk-parallel-item {display: flex;flex-direction: column;z-index: 1;position: relative;background-color: white;}#sk-container-id-5 div.sk-parallel-item:first-child::after {align-self: flex-end;width: 50%;}#sk-container-id-5 div.sk-parallel-item:last-child::after {align-self: flex-start;width: 50%;}#sk-container-id-5 div.sk-parallel-item:only-child::after {width: 0;}#sk-container-id-5 div.sk-dashed-wrapped {border: 1px dashed gray;margin: 0 0.4em 0.5em 0.4em;box-sizing: border-box;padding-bottom: 0.4em;background-color: white;}#sk-container-id-5 div.sk-label label {font-family: monospace;font-weight: bold;display: inline-block;line-height: 1.2em;}#sk-container-id-5 div.sk-label-container {text-align: center;}#sk-container-id-5 div.sk-container {/* jupyter's `normalize.less` sets `[hidden] { display: none; }` but bootstrap.min.css set `[hidden] { display: none !important; }` so we also need the `!important` here to be able to override the default hidden behavior on the sphinx rendered scikit-learn.org. See: https://github.com/scikit-learn/scikit-learn/issues/21755 */display: inline-block !important;position: relative;}#sk-container-id-5 div.sk-text-repr-fallback {display: none;}</style><div id=\"sk-container-id-5\" class=\"sk-top-container\"><div class=\"sk-text-repr-fallback\"><pre>ExhaustiveFeatureSelector(estimator=LinearRegression(),\n",
       "                          feature_groups=[[0], [1], [2], [3], [4]],\n",
       "                          max_features=5, scoring=&#x27;r2&#x27;)</pre><b>In a Jupyter environment, please rerun this cell to show the HTML representation or trust the notebook. <br />On GitHub, the HTML representation is unable to render, please try loading this page with nbviewer.org.</b></div><div class=\"sk-container\" hidden><div class=\"sk-item sk-dashed-wrapped\"><div class=\"sk-label-container\"><div class=\"sk-label sk-toggleable\"><input class=\"sk-toggleable__control sk-hidden--visually\" id=\"sk-estimator-id-9\" type=\"checkbox\" ><label for=\"sk-estimator-id-9\" class=\"sk-toggleable__label sk-toggleable__label-arrow\">ExhaustiveFeatureSelector</label><div class=\"sk-toggleable__content\"><pre>ExhaustiveFeatureSelector(estimator=LinearRegression(),\n",
       "                          feature_groups=[[0], [1], [2], [3], [4]],\n",
       "                          max_features=5, scoring=&#x27;r2&#x27;)</pre></div></div></div><div class=\"sk-parallel\"><div class=\"sk-parallel-item\"><div class=\"sk-item\"><div class=\"sk-label-container\"><div class=\"sk-label sk-toggleable\"><input class=\"sk-toggleable__control sk-hidden--visually\" id=\"sk-estimator-id-10\" type=\"checkbox\" ><label for=\"sk-estimator-id-10\" class=\"sk-toggleable__label sk-toggleable__label-arrow\">estimator: LinearRegression</label><div class=\"sk-toggleable__content\"><pre>LinearRegression()</pre></div></div></div><div class=\"sk-serial\"><div class=\"sk-item\"><div class=\"sk-estimator sk-toggleable\"><input class=\"sk-toggleable__control sk-hidden--visually\" id=\"sk-estimator-id-11\" type=\"checkbox\" ><label for=\"sk-estimator-id-11\" class=\"sk-toggleable__label sk-toggleable__label-arrow\">LinearRegression</label><div class=\"sk-toggleable__content\"><pre>LinearRegression()</pre></div></div></div></div></div></div></div></div></div></div>"
      ],
      "text/plain": [
       "ExhaustiveFeatureSelector(estimator=LinearRegression(),\n",
       "                          feature_groups=[[0], [1], [2], [3], [4]],\n",
       "                          max_features=5, scoring='r2')"
      ]
     },
     "execution_count": 272,
     "metadata": {},
     "output_type": "execute_result"
    }
   ],
   "source": [
    "\n",
    "# Select the relevant features based on correlation\n",
    "selected_features = [\"world_rank\", \"national_rank\", \"quality_of_education\", \"quality_of_faculty\", \"citations\"]\n",
    "\n",
    "# Create the feature and target variables\n",
    "X = wur[selected_features]\n",
    "y = wur[\"score\"]\n",
    "\n",
    "# Use RFE with a linear regression model to select the top 3 features\n",
    "model = LinearRegression()\n",
    "ex = ExhaustiveFeatureSelector(estimator=model, max_features=5,scoring=\"r2\")\n",
    "ex.fit(X, y)\n",
    "\n"
   ]
  },
  {
   "cell_type": "code",
   "execution_count": 273,
   "metadata": {},
   "outputs": [
    {
     "data": {
      "text/plain": [
       "('quality_of_education', 'quality_of_faculty')"
      ]
     },
     "execution_count": 273,
     "metadata": {},
     "output_type": "execute_result"
    }
   ],
   "source": [
    "ex.best_feature_names_"
   ]
  },
  {
   "cell_type": "code",
   "execution_count": 274,
   "metadata": {},
   "outputs": [
    {
     "name": "stdout",
     "output_type": "stream",
     "text": [
      "world_rank: 2\n",
      "national_rank: 1\n",
      "quality_of_education: 1\n",
      "quality_of_faculty: 1\n",
      "citations: 3\n"
     ]
    }
   ],
   "source": [
    "import pandas as pd\n",
    "from sklearn.feature_selection import RFE\n",
    "from sklearn.linear_model import LinearRegression\n",
    "\n",
    "\n",
    "\n",
    "# Select the relevant features based on correlation\n",
    "selected_features = [\"world_rank\", \"national_rank\", \"quality_of_education\", \"quality_of_faculty\", \"citations\"]\n",
    "\n",
    "# Create the feature and target variables\n",
    "X = wur[selected_features]\n",
    "y = wur[\"score\"]\n",
    "\n",
    "# Use RFE with a linear regression model to select the top 3 features\n",
    "model = LinearRegression()\n",
    "rfe = RFE(model, n_features_to_select=3)\n",
    "rfe.fit(X, y)\n",
    "\n",
    "# Print the selected features and their rankings\n",
    "for i in range(len(selected_features)):\n",
    "    print(f\"{selected_features[i]}: {rfe.ranking_[i]}\")\n",
    "    \n",
    "# Create a new DataFrame with the selected features and target variable\n",
    "X_selected = X.iloc[:, rfe.support_]\n",
    "df_selected = pd.concat([X_selected, y], axis=1)\n"
   ]
  },
  {
   "cell_type": "markdown",
   "metadata": {},
   "source": [
    "In this example, we first select the relevant features based on their correlation with the target variable, \"score\". We then use Recursive Feature Elimination (RFE) with a linear regression model to select the top 3 features from the selected features. Finally, we create a new DataFrame with the selected features and target variable."
   ]
  },
  {
   "cell_type": "code",
   "execution_count": null,
   "metadata": {},
   "outputs": [],
   "source": []
  },
  {
   "cell_type": "code",
   "execution_count": 275,
   "metadata": {},
   "outputs": [
    {
     "name": "stdout",
     "output_type": "stream",
     "text": [
      "score: 1\n",
      "national_rank: 2\n",
      "quality_of_education: 1\n",
      "quality_of_faculty: 3\n",
      "citations: 1\n"
     ]
    }
   ],
   "source": [
    "\n",
    "# Select the relevant features based on correlation\n",
    "selected_features = [\"score\", \"national_rank\", \"quality_of_education\", \"quality_of_faculty\", \"citations\"]\n",
    "\n",
    "# Create the feature and target variables\n",
    "X = wur[selected_features]\n",
    "y = wur[\"world_rank\"]\n",
    "\n",
    "# Use RFE with a linear regression model to select the top 3 features\n",
    "model = LinearRegression()\n",
    "rfe = RFE(model, n_features_to_select=3)\n",
    "rfe.fit(X, y)\n",
    "\n",
    "# Print the selected features and their rankings\n",
    "for i in range(len(selected_features)):\n",
    "    print(f\"{selected_features[i]}: {rfe.ranking_[i]}\")\n",
    "    \n",
    "# Create a new DataFrame with the selected features and target variable\n",
    "X_selected = X.iloc[:, rfe.support_]\n",
    "df_selected = pd.concat([X_selected, y], axis=1)\n"
   ]
  },
  {
   "cell_type": "markdown",
   "metadata": {},
   "source": [
    "### as you can see we switched between the \"score\" and \"world_rank\" \n",
    "#### which is the world_rank is related to score"
   ]
  },
  {
   "cell_type": "code",
   "execution_count": null,
   "metadata": {},
   "outputs": [],
   "source": []
  },
  {
   "cell_type": "code",
   "execution_count": 276,
   "metadata": {},
   "outputs": [
    {
     "data": {
      "text/html": [
       "<div>\n",
       "<style scoped>\n",
       "    .dataframe tbody tr th:only-of-type {\n",
       "        vertical-align: middle;\n",
       "    }\n",
       "\n",
       "    .dataframe tbody tr th {\n",
       "        vertical-align: top;\n",
       "    }\n",
       "\n",
       "    .dataframe thead th {\n",
       "        text-align: right;\n",
       "    }\n",
       "</style>\n",
       "<table border=\"1\" class=\"dataframe\">\n",
       "  <thead>\n",
       "    <tr style=\"text-align: right;\">\n",
       "      <th></th>\n",
       "      <th>world_rank</th>\n",
       "      <th>institution</th>\n",
       "      <th>country</th>\n",
       "      <th>national_rank</th>\n",
       "      <th>quality_of_education</th>\n",
       "      <th>quality_of_faculty</th>\n",
       "      <th>citations</th>\n",
       "      <th>score</th>\n",
       "      <th>year</th>\n",
       "    </tr>\n",
       "  </thead>\n",
       "  <tbody>\n",
       "    <tr>\n",
       "      <th>0</th>\n",
       "      <td>1.0</td>\n",
       "      <td>Harvard University</td>\n",
       "      <td>USA</td>\n",
       "      <td>1.0</td>\n",
       "      <td>7</td>\n",
       "      <td>1</td>\n",
       "      <td>1</td>\n",
       "      <td>100.00</td>\n",
       "      <td>2012</td>\n",
       "    </tr>\n",
       "    <tr>\n",
       "      <th>1</th>\n",
       "      <td>2.0</td>\n",
       "      <td>Massachusetts Institute of Technology</td>\n",
       "      <td>USA</td>\n",
       "      <td>2.0</td>\n",
       "      <td>9</td>\n",
       "      <td>3</td>\n",
       "      <td>4</td>\n",
       "      <td>91.67</td>\n",
       "      <td>2012</td>\n",
       "    </tr>\n",
       "    <tr>\n",
       "      <th>2</th>\n",
       "      <td>4.0</td>\n",
       "      <td>University of Cambridge</td>\n",
       "      <td>United Kingdom</td>\n",
       "      <td>1.0</td>\n",
       "      <td>10</td>\n",
       "      <td>4</td>\n",
       "      <td>11</td>\n",
       "      <td>86.17</td>\n",
       "      <td>2012</td>\n",
       "    </tr>\n",
       "    <tr>\n",
       "      <th>3</th>\n",
       "      <td>5.0</td>\n",
       "      <td>California Institute of Technology</td>\n",
       "      <td>USA</td>\n",
       "      <td>4.0</td>\n",
       "      <td>2</td>\n",
       "      <td>7</td>\n",
       "      <td>22</td>\n",
       "      <td>85.21</td>\n",
       "      <td>2012</td>\n",
       "    </tr>\n",
       "    <tr>\n",
       "      <th>4</th>\n",
       "      <td>6.0</td>\n",
       "      <td>Princeton University</td>\n",
       "      <td>USA</td>\n",
       "      <td>5.0</td>\n",
       "      <td>8</td>\n",
       "      <td>2</td>\n",
       "      <td>26</td>\n",
       "      <td>82.50</td>\n",
       "      <td>2012</td>\n",
       "    </tr>\n",
       "    <tr>\n",
       "      <th>...</th>\n",
       "      <td>...</td>\n",
       "      <td>...</td>\n",
       "      <td>...</td>\n",
       "      <td>...</td>\n",
       "      <td>...</td>\n",
       "      <td>...</td>\n",
       "      <td>...</td>\n",
       "      <td>...</td>\n",
       "      <td>...</td>\n",
       "    </tr>\n",
       "    <tr>\n",
       "      <th>2193</th>\n",
       "      <td>996.0</td>\n",
       "      <td>University of the Algarve</td>\n",
       "      <td>Portugal</td>\n",
       "      <td>7.0</td>\n",
       "      <td>367</td>\n",
       "      <td>218</td>\n",
       "      <td>812</td>\n",
       "      <td>44.03</td>\n",
       "      <td>2015</td>\n",
       "    </tr>\n",
       "    <tr>\n",
       "      <th>2194</th>\n",
       "      <td>997.0</td>\n",
       "      <td>Alexandria University</td>\n",
       "      <td>Egypt</td>\n",
       "      <td>4.0</td>\n",
       "      <td>236</td>\n",
       "      <td>218</td>\n",
       "      <td>645</td>\n",
       "      <td>44.03</td>\n",
       "      <td>2015</td>\n",
       "    </tr>\n",
       "    <tr>\n",
       "      <th>2195</th>\n",
       "      <td>998.0</td>\n",
       "      <td>Federal University of Ceará</td>\n",
       "      <td>Brazil</td>\n",
       "      <td>18.0</td>\n",
       "      <td>367</td>\n",
       "      <td>218</td>\n",
       "      <td>812</td>\n",
       "      <td>44.03</td>\n",
       "      <td>2015</td>\n",
       "    </tr>\n",
       "    <tr>\n",
       "      <th>2196</th>\n",
       "      <td>999.0</td>\n",
       "      <td>University of A Coruña</td>\n",
       "      <td>Spain</td>\n",
       "      <td>40.0</td>\n",
       "      <td>367</td>\n",
       "      <td>218</td>\n",
       "      <td>812</td>\n",
       "      <td>44.02</td>\n",
       "      <td>2015</td>\n",
       "    </tr>\n",
       "    <tr>\n",
       "      <th>2197</th>\n",
       "      <td>1000.0</td>\n",
       "      <td>China Pharmaceutical University</td>\n",
       "      <td>China</td>\n",
       "      <td>83.0</td>\n",
       "      <td>367</td>\n",
       "      <td>218</td>\n",
       "      <td>812</td>\n",
       "      <td>44.02</td>\n",
       "      <td>2015</td>\n",
       "    </tr>\n",
       "  </tbody>\n",
       "</table>\n",
       "<p>2198 rows × 9 columns</p>\n",
       "</div>"
      ],
      "text/plain": [
       "      world_rank                            institution         country  \\\n",
       "0            1.0                     Harvard University             USA   \n",
       "1            2.0  Massachusetts Institute of Technology             USA   \n",
       "2            4.0                University of Cambridge  United Kingdom   \n",
       "3            5.0     California Institute of Technology             USA   \n",
       "4            6.0                   Princeton University             USA   \n",
       "...          ...                                    ...             ...   \n",
       "2193       996.0              University of the Algarve        Portugal   \n",
       "2194       997.0                  Alexandria University           Egypt   \n",
       "2195       998.0            Federal University of Ceará          Brazil   \n",
       "2196       999.0                 University of A Coruña           Spain   \n",
       "2197      1000.0        China Pharmaceutical University           China   \n",
       "\n",
       "      national_rank  quality_of_education  quality_of_faculty  citations  \\\n",
       "0               1.0                     7                   1          1   \n",
       "1               2.0                     9                   3          4   \n",
       "2               1.0                    10                   4         11   \n",
       "3               4.0                     2                   7         22   \n",
       "4               5.0                     8                   2         26   \n",
       "...             ...                   ...                 ...        ...   \n",
       "2193            7.0                   367                 218        812   \n",
       "2194            4.0                   236                 218        645   \n",
       "2195           18.0                   367                 218        812   \n",
       "2196           40.0                   367                 218        812   \n",
       "2197           83.0                   367                 218        812   \n",
       "\n",
       "       score  year  \n",
       "0     100.00  2012  \n",
       "1      91.67  2012  \n",
       "2      86.17  2012  \n",
       "3      85.21  2012  \n",
       "4      82.50  2012  \n",
       "...      ...   ...  \n",
       "2193   44.03  2015  \n",
       "2194   44.03  2015  \n",
       "2195   44.03  2015  \n",
       "2196   44.02  2015  \n",
       "2197   44.02  2015  \n",
       "\n",
       "[2198 rows x 9 columns]"
      ]
     },
     "execution_count": 276,
     "metadata": {},
     "output_type": "execute_result"
    }
   ],
   "source": [
    "wur"
   ]
  },
  {
   "cell_type": "code",
   "execution_count": 277,
   "metadata": {},
   "outputs": [
    {
     "name": "stdout",
     "output_type": "stream",
     "text": [
      "Mean Squared Error: 37.68316745181896\n"
     ]
    }
   ],
   "source": [
    "# Import necessary libraries\n",
    "from sklearn.linear_model import LinearRegression\n",
    "from sklearn.model_selection import train_test_split\n",
    "from sklearn.metrics import mean_squared_error\n",
    "\n",
    "# Select the top 3 features from the previous step\n",
    "selected_features = [\"quality_of_education\", \"quality_of_faculty\", \"national_rank\"]\n",
    "\n",
    "# Create the feature and target variables\n",
    "X = wur[selected_features]\n",
    "y = wur[\"score\"]\n",
    "\n",
    "# Split the dataset into training and testing sets\n",
    "X_train, X_test, y_train, y_test = train_test_split(X, y, test_size=0.2, random_state=42)\n",
    "\n",
    "# Train the linear regression model on the training set\n",
    "model = LinearRegression()\n",
    "model.fit(X_train, y_train)\n",
    "\n",
    "# Evaluate the model's performance on the testing set\n",
    "y_pred = model.predict(X_test)\n",
    "mse = mean_squared_error(y_test, y_pred)\n",
    "print(\"Mean Squared Error:\", mse)\n"
   ]
  },
  {
   "cell_type": "markdown",
   "metadata": {},
   "source": [
    "# Machine Learning Model"
   ]
  },
  {
   "cell_type": "markdown",
   "metadata": {},
   "source": [
    "### this is a basic example of applying a machine learning algorithm to predict the target variable (university scores) based on the selected features. The dataset is split into training and testing sets, and a linear regression model is trained on the training data. The accuracy of the model is then calculated using the mean squared error."
   ]
  },
  {
   "cell_type": "code",
   "execution_count": null,
   "metadata": {},
   "outputs": [],
   "source": []
  },
  {
   "cell_type": "code",
   "execution_count": 278,
   "metadata": {},
   "outputs": [
    {
     "name": "stdout",
     "output_type": "stream",
     "text": [
      "Accuracy of the model: 0.52\n"
     ]
    }
   ],
   "source": [
    "import numpy as np\n",
    "from sklearn.model_selection import train_test_split\n",
    "from sklearn.linear_model import LinearRegression\n",
    "\n",
    "# Create the feature and target variables using the selected features\n",
    "X1 = wur[[\"quality_of_education\", \"quality_of_faculty\", \"national_rank\"]]\n",
    "y1 = wur[\"score\"]\n",
    "\n",
    "# Split the data into training and test sets\n",
    "X_train, X_test, y_train, y_test = train_test_split(X1, y1, test_size=0.2, random_state=1422)\n",
    "\n",
    "# Train the linear regression model on the training data\n",
    "model = LinearRegression()\n",
    "model.fit(X_train, y_train)\n",
    "\n",
    "# Predict the scores of the universities in the test set\n",
    "y_pred = model.predict(X_test)\n",
    "\n",
    "# Calculate the accuracy of the model using the mean squared error\n",
    "mse = np.mean((y_test - y_pred)**2)\n",
    "accuracy = 1 - mse/np.var(y_test)\n",
    "\n",
    "print(f\"Accuracy of the model: {accuracy:.2f}\")\n"
   ]
  },
  {
   "cell_type": "code",
   "execution_count": 279,
   "metadata": {},
   "outputs": [
    {
     "data": {
      "text/html": [
       "<div>\n",
       "<style scoped>\n",
       "    .dataframe tbody tr th:only-of-type {\n",
       "        vertical-align: middle;\n",
       "    }\n",
       "\n",
       "    .dataframe tbody tr th {\n",
       "        vertical-align: top;\n",
       "    }\n",
       "\n",
       "    .dataframe thead th {\n",
       "        text-align: right;\n",
       "    }\n",
       "</style>\n",
       "<table border=\"1\" class=\"dataframe\">\n",
       "  <thead>\n",
       "    <tr style=\"text-align: right;\">\n",
       "      <th></th>\n",
       "      <th>quality_of_education</th>\n",
       "      <th>quality_of_faculty</th>\n",
       "      <th>national_rank</th>\n",
       "    </tr>\n",
       "  </thead>\n",
       "  <tbody>\n",
       "    <tr>\n",
       "      <th>1080</th>\n",
       "      <td>355</td>\n",
       "      <td>210</td>\n",
       "      <td>53.0</td>\n",
       "    </tr>\n",
       "    <tr>\n",
       "      <th>93</th>\n",
       "      <td>18</td>\n",
       "      <td>101</td>\n",
       "      <td>57.0</td>\n",
       "    </tr>\n",
       "    <tr>\n",
       "      <th>1317</th>\n",
       "      <td>52</td>\n",
       "      <td>95</td>\n",
       "      <td>61.0</td>\n",
       "    </tr>\n",
       "    <tr>\n",
       "      <th>379</th>\n",
       "      <td>273</td>\n",
       "      <td>109</td>\n",
       "      <td>80.0</td>\n",
       "    </tr>\n",
       "    <tr>\n",
       "      <th>552</th>\n",
       "      <td>355</td>\n",
       "      <td>210</td>\n",
       "      <td>2.0</td>\n",
       "    </tr>\n",
       "    <tr>\n",
       "      <th>...</th>\n",
       "      <td>...</td>\n",
       "      <td>...</td>\n",
       "      <td>...</td>\n",
       "    </tr>\n",
       "    <tr>\n",
       "      <th>1844</th>\n",
       "      <td>367</td>\n",
       "      <td>218</td>\n",
       "      <td>188.0</td>\n",
       "    </tr>\n",
       "    <tr>\n",
       "      <th>81</th>\n",
       "      <td>90</td>\n",
       "      <td>90</td>\n",
       "      <td>2.0</td>\n",
       "    </tr>\n",
       "    <tr>\n",
       "      <th>369</th>\n",
       "      <td>174</td>\n",
       "      <td>210</td>\n",
       "      <td>75.0</td>\n",
       "    </tr>\n",
       "    <tr>\n",
       "      <th>891</th>\n",
       "      <td>355</td>\n",
       "      <td>210</td>\n",
       "      <td>47.0</td>\n",
       "    </tr>\n",
       "    <tr>\n",
       "      <th>872</th>\n",
       "      <td>355</td>\n",
       "      <td>210</td>\n",
       "      <td>194.0</td>\n",
       "    </tr>\n",
       "  </tbody>\n",
       "</table>\n",
       "<p>1758 rows × 3 columns</p>\n",
       "</div>"
      ],
      "text/plain": [
       "      quality_of_education  quality_of_faculty  national_rank\n",
       "1080                   355                 210           53.0\n",
       "93                      18                 101           57.0\n",
       "1317                    52                  95           61.0\n",
       "379                    273                 109           80.0\n",
       "552                    355                 210            2.0\n",
       "...                    ...                 ...            ...\n",
       "1844                   367                 218          188.0\n",
       "81                      90                  90            2.0\n",
       "369                    174                 210           75.0\n",
       "891                    355                 210           47.0\n",
       "872                    355                 210          194.0\n",
       "\n",
       "[1758 rows x 3 columns]"
      ]
     },
     "execution_count": 279,
     "metadata": {},
     "output_type": "execute_result"
    }
   ],
   "source": [
    "X_train"
   ]
  },
  {
   "cell_type": "code",
   "execution_count": 280,
   "metadata": {},
   "outputs": [
    {
     "data": {
      "text/html": [
       "<div>\n",
       "<style scoped>\n",
       "    .dataframe tbody tr th:only-of-type {\n",
       "        vertical-align: middle;\n",
       "    }\n",
       "\n",
       "    .dataframe tbody tr th {\n",
       "        vertical-align: top;\n",
       "    }\n",
       "\n",
       "    .dataframe thead th {\n",
       "        text-align: right;\n",
       "    }\n",
       "</style>\n",
       "<table border=\"1\" class=\"dataframe\">\n",
       "  <thead>\n",
       "    <tr style=\"text-align: right;\">\n",
       "      <th></th>\n",
       "      <th>quality_of_education</th>\n",
       "      <th>quality_of_faculty</th>\n",
       "      <th>national_rank</th>\n",
       "    </tr>\n",
       "  </thead>\n",
       "  <tbody>\n",
       "    <tr>\n",
       "      <th>1203</th>\n",
       "      <td>13</td>\n",
       "      <td>9</td>\n",
       "      <td>4.0</td>\n",
       "    </tr>\n",
       "    <tr>\n",
       "      <th>917</th>\n",
       "      <td>355</td>\n",
       "      <td>210</td>\n",
       "      <td>204.0</td>\n",
       "    </tr>\n",
       "    <tr>\n",
       "      <th>1646</th>\n",
       "      <td>367</td>\n",
       "      <td>218</td>\n",
       "      <td>9.0</td>\n",
       "    </tr>\n",
       "    <tr>\n",
       "      <th>479</th>\n",
       "      <td>355</td>\n",
       "      <td>122</td>\n",
       "      <td>22.0</td>\n",
       "    </tr>\n",
       "    <tr>\n",
       "      <th>320</th>\n",
       "      <td>177</td>\n",
       "      <td>76</td>\n",
       "      <td>8.0</td>\n",
       "    </tr>\n",
       "    <tr>\n",
       "      <th>...</th>\n",
       "      <td>...</td>\n",
       "      <td>...</td>\n",
       "      <td>...</td>\n",
       "    </tr>\n",
       "    <tr>\n",
       "      <th>523</th>\n",
       "      <td>190</td>\n",
       "      <td>115</td>\n",
       "      <td>3.0</td>\n",
       "    </tr>\n",
       "    <tr>\n",
       "      <th>1570</th>\n",
       "      <td>367</td>\n",
       "      <td>218</td>\n",
       "      <td>5.0</td>\n",
       "    </tr>\n",
       "    <tr>\n",
       "      <th>500</th>\n",
       "      <td>355</td>\n",
       "      <td>210</td>\n",
       "      <td>27.0</td>\n",
       "    </tr>\n",
       "    <tr>\n",
       "      <th>769</th>\n",
       "      <td>355</td>\n",
       "      <td>210</td>\n",
       "      <td>13.0</td>\n",
       "    </tr>\n",
       "    <tr>\n",
       "      <th>1834</th>\n",
       "      <td>367</td>\n",
       "      <td>218</td>\n",
       "      <td>18.0</td>\n",
       "    </tr>\n",
       "  </tbody>\n",
       "</table>\n",
       "<p>440 rows × 3 columns</p>\n",
       "</div>"
      ],
      "text/plain": [
       "      quality_of_education  quality_of_faculty  national_rank\n",
       "1203                    13                   9            4.0\n",
       "917                    355                 210          204.0\n",
       "1646                   367                 218            9.0\n",
       "479                    355                 122           22.0\n",
       "320                    177                  76            8.0\n",
       "...                    ...                 ...            ...\n",
       "523                    190                 115            3.0\n",
       "1570                   367                 218            5.0\n",
       "500                    355                 210           27.0\n",
       "769                    355                 210           13.0\n",
       "1834                   367                 218           18.0\n",
       "\n",
       "[440 rows x 3 columns]"
      ]
     },
     "execution_count": 280,
     "metadata": {},
     "output_type": "execute_result"
    }
   ],
   "source": [
    "X_test"
   ]
  },
  {
   "cell_type": "code",
   "execution_count": 281,
   "metadata": {},
   "outputs": [
    {
     "data": {
      "text/plain": [
       "1080    44.41\n",
       "93      43.89\n",
       "1317    49.73\n",
       "379     48.47\n",
       "552     45.80\n",
       "        ...  \n",
       "1844    44.43\n",
       "81      45.21\n",
       "369     48.67\n",
       "891     44.65\n",
       "872     44.68\n",
       "Name: score, Length: 1758, dtype: float64"
      ]
     },
     "execution_count": 281,
     "metadata": {},
     "output_type": "execute_result"
    }
   ],
   "source": [
    "y_train"
   ]
  },
  {
   "cell_type": "code",
   "execution_count": 282,
   "metadata": {},
   "outputs": [
    {
     "data": {
      "text/plain": [
       "1203    96.14\n",
       "917     44.62\n",
       "1646    44.96\n",
       "479     46.57\n",
       "320     49.97\n",
       "        ...  \n",
       "523     46.12\n",
       "1570    45.33\n",
       "500     46.31\n",
       "769     44.90\n",
       "1834    44.44\n",
       "Name: score, Length: 440, dtype: float64"
      ]
     },
     "execution_count": 282,
     "metadata": {},
     "output_type": "execute_result"
    }
   ],
   "source": [
    "y_test"
   ]
  },
  {
   "cell_type": "code",
   "execution_count": 283,
   "metadata": {},
   "outputs": [
    {
     "data": {
      "text/plain": [
       "array([61.38491253, 43.96852432, 44.51773164, 50.86247186, 55.52371301,\n",
       "       44.53743894, 44.81963584, 44.99136018, 45.07609214, 45.09424899,\n",
       "       50.08908244, 44.26506037, 44.79768711, 53.3349111 , 46.24986975,\n",
       "       45.74257892, 44.91873278, 45.11845812, 47.26816418, 44.34826771,\n",
       "       59.71022295, 44.56614991, 50.27302137, 44.00328757, 43.70067341,\n",
       "       56.86998755, 44.54799306, 45.52053439, 54.47126975, 43.44647752,\n",
       "       45.1971378 , 44.96109876, 45.17898095, 43.99273345, 43.84782158,\n",
       "       44.45115653, 44.42089511, 44.47536566, 49.80213281, 57.06560301,\n",
       "       44.1364378 , 45.18503324, 46.19085956, 44.82189625, 44.56009762,\n",
       "       47.02880686, 44.53588849, 44.49957479, 45.75922142, 46.02022934,\n",
       "       45.11240584, 45.16687639, 44.49352251, 50.44216219, 60.70512047,\n",
       "       43.8293218 , 45.21378201, 43.85803277, 61.84604889, 45.11845812,\n",
       "       44.56614991, 44.45720881, 45.07609214, 58.53033974, 53.24148145,\n",
       "       44.94899419, 43.48279122, 44.34826771, 44.35432   , 46.03765911,\n",
       "       44.54799306, 44.40273826, 52.40243925, 55.56376013, 50.27687265,\n",
       "       47.04548461, 44.25143118, 44.85820995, 45.1608241 , 45.07003986,\n",
       "       44.30590173, 44.46931338, 46.33419687, 60.48647853, 45.13661497,\n",
       "       44.42694739, 45.03372616, 44.16064693, 44.39668598, 44.52378393,\n",
       "       52.44520661, 44.48141794, 45.38665366, 44.48141794, 45.05793529,\n",
       "       45.10030127, 45.11845812, 45.10635356, 58.66275342, 44.2453789 ,\n",
       "       46.77790863, 45.09424899, 45.10635356, 60.94269794, 49.3114191 ,\n",
       "       45.74641902, 44.17430537, 46.60087806, 51.3564015 , 58.68772918,\n",
       "       44.17430195, 45.1971378 , 46.88836579, 44.52378393, 45.17898095,\n",
       "       45.02162159, 45.17898095, 44.75532113, 44.44510424, 45.7153823 ,\n",
       "       45.08819671, 48.96443381, 45.14266726, 46.27976413, 45.02162159,\n",
       "       45.05188301, 50.40922613, 44.97320333, 60.12371284, 58.45205025,\n",
       "       48.14789654, 45.00951703, 45.29281146, 44.27564032, 52.29342847,\n",
       "       43.65225515, 43.37385012, 61.8267567 , 44.46326109, 45.72638341,\n",
       "       45.17292867, 43.25280446, 44.79842103, 44.35432   , 61.04028821,\n",
       "       43.23464761, 44.47536566, 44.19090835, 45.12451041, 47.48228195,\n",
       "       44.54194078, 45.15477182, 44.55404534, 54.97739771, 43.71883026,\n",
       "       45.14871954, 44.31082381, 45.01857048, 45.00951703, 51.59549592,\n",
       "       45.09424899, 61.45603159, 44.92478506, 53.76699276, 45.1971378 ,\n",
       "       49.25354771, 45.11845812, 44.52378393, 46.45109998, 45.02767387,\n",
       "       44.33011086, 45.03977844, 43.52742959, 45.28601483, 44.1912925 ,\n",
       "       60.15395189, 44.56993323, 44.25748347, 45.17292867, 50.72706556,\n",
       "       45.1608241 , 60.03100597, 44.40273826, 44.95504648, 44.40879055,\n",
       "       44.29984945, 44.14854237, 45.1608241 , 45.13661497, 45.61856734,\n",
       "       44.48141794, 45.14266726, 45.59735679, 44.98530789, 45.08819671,\n",
       "       49.56799919, 59.46809895, 44.45720881, 44.55404534, 59.78851414,\n",
       "       61.40307368, 44.94294191, 46.34708872, 44.44510424, 45.10030127,\n",
       "       45.17292867, 45.82882524, 55.744568  , 50.74061914, 55.77227172,\n",
       "       44.97925561, 44.8037394 , 44.82794853, 53.44764669, 44.8400531 ,\n",
       "       58.52279888, 44.43299968, 45.1661252 , 44.42694739, 56.47773053,\n",
       "       45.13357242, 44.39668598, 55.33340899, 46.23436088, 44.54194078,\n",
       "       58.66046898, 44.56009762, 46.63381841, 56.4974155 , 56.89537846,\n",
       "       53.79869802, 44.52983621, 44.88241908, 44.44510424, 44.43299968,\n",
       "       44.47536566, 45.1608241 , 46.76848129, 44.36642456, 55.23012568,\n",
       "       55.93297948, 46.7673167 , 44.55404534, 45.14266726, 54.58172178,\n",
       "       46.89671628, 45.32383091, 44.32405858, 44.74321656, 44.52378393,\n",
       "       49.48573376, 43.42226839, 45.11240584, 48.51652276, 45.1971378 ,\n",
       "       44.16292788, 44.52378393, 45.20092112, 44.54194078, 44.76137341,\n",
       "       44.98530789, 45.49294678, 44.49957479, 46.01081055, 44.38458141,\n",
       "       53.70377292, 45.67487531, 45.13056269, 53.10118487, 61.76206465,\n",
       "       45.05188301, 61.94742936, 45.16687639, 45.00498423, 45.16687639,\n",
       "       44.3906337 , 45.67486676, 47.22883896, 44.3180063 , 45.07003986,\n",
       "       56.31357116, 45.78081353, 44.15459465, 45.07758067, 46.79798638,\n",
       "       57.88120788, 44.56614991, 48.47393171, 44.7674257 , 44.47536566,\n",
       "       45.18503324, 54.97512532, 44.51773164, 52.48868728, 44.26353575,\n",
       "       44.56614991, 45.00951703, 44.41484283, 60.30944108, 59.61187807,\n",
       "       44.13038552, 44.35432   , 44.46931338, 48.52524968, 44.27719076,\n",
       "       44.26958803, 51.31263298, 56.15241558, 44.82455449, 47.14710303,\n",
       "       45.19108552, 44.90662821, 46.38337146, 48.43184499, 45.1971378 ,\n",
       "       46.15829993, 58.56362385, 44.88503439, 45.89203043, 43.34964099,\n",
       "       44.97320333, 44.20456336, 45.08819671, 51.20243355, 43.35569327,\n",
       "       46.73755989, 44.04115171, 50.62566444, 44.37852913, 44.29984945,\n",
       "       44.52378393, 45.84965761, 44.72505972, 44.82189625, 44.43905196,\n",
       "       44.52983621, 44.57375264, 45.04583072, 44.7004767 , 44.51167936,\n",
       "       45.24593509, 44.37852913, 45.01556931, 61.7473121 , 44.33616315,\n",
       "       60.48911533, 45.03372616, 52.98051221, 57.76656344, 61.38491253,\n",
       "       61.54114686, 44.93688963, 48.3966993 , 59.78965637, 44.56614991,\n",
       "       46.43900659, 43.74909168, 44.35432   , 43.27701359, 45.16687639,\n",
       "       44.62330795, 44.89452364, 50.08723121, 43.88829419, 44.41484283,\n",
       "       45.12451041, 44.25373966, 56.90901632, 43.93221062, 45.02767387,\n",
       "       49.70483816, 45.07003986, 47.63775308, 59.34932914, 45.15477182,\n",
       "       45.18503324, 44.94484041, 45.10030127, 44.90168031, 45.19108552,\n",
       "       60.33136836, 60.92151839, 44.51167936, 59.25516124, 45.08819671,\n",
       "       60.65482173, 44.49352251, 44.53588849, 47.20425252, 43.85958322,\n",
       "       60.43199251, 45.1608241 , 44.92478506, 44.97320333, 56.43311277,\n",
       "       46.03696299, 45.1971378 , 58.40400929, 44.45270697, 55.02278897,\n",
       "       44.56009762, 44.44510424, 44.55404534, 44.38458141, 45.16687639,\n",
       "       45.05188301, 47.80766311, 44.43905196, 57.38640151, 51.9518432 ,\n",
       "       46.13298813, 45.18503324, 44.40273826, 54.31500275, 45.07003986,\n",
       "       45.59996868, 46.28240697, 55.17186235, 44.52983621, 45.06398757,\n",
       "       44.99741246, 45.10635356, 45.08214442, 44.48141794, 58.69562239,\n",
       "       44.43299968, 44.51773164, 54.56356493, 44.30590173, 60.4978156 ,\n",
       "       46.80895903, 51.96140555, 47.98275471, 44.86426223, 44.85215766,\n",
       "       52.87377044, 44.54194078, 45.03977844, 45.12451041, 44.46326109])"
      ]
     },
     "execution_count": 283,
     "metadata": {},
     "output_type": "execute_result"
    }
   ],
   "source": [
    "y_pred "
   ]
  },
  {
   "cell_type": "code",
   "execution_count": 284,
   "metadata": {},
   "outputs": [],
   "source": [
    "def performance(actual, pred):\n",
    "    print('R2 score = ',r2_score(actual, pred))\n",
    "    print(\"MSE = \",mean_squared_error(actual,pred))\n",
    "    print('MAE = ',mean_absolute_error(actual,pred))"
   ]
  },
  {
   "cell_type": "code",
   "execution_count": 285,
   "metadata": {},
   "outputs": [
    {
     "name": "stdout",
     "output_type": "stream",
     "text": [
      "R2 score =  0.5182498124993573\n",
      "MSE =  35.7476675603659\n",
      "MAE =  2.679984512659228\n"
     ]
    }
   ],
   "source": [
    "performance(y_test,y_pred)"
   ]
  },
  {
   "cell_type": "code",
   "execution_count": 286,
   "metadata": {},
   "outputs": [],
   "source": [
    "####################################################################################################"
   ]
  },
  {
   "cell_type": "code",
   "execution_count": 287,
   "metadata": {},
   "outputs": [],
   "source": [
    "lrM=LinearRegression()"
   ]
  },
  {
   "cell_type": "code",
   "execution_count": 288,
   "metadata": {},
   "outputs": [
    {
     "data": {
      "text/html": [
       "<style>#sk-container-id-6 {color: black;background-color: white;}#sk-container-id-6 pre{padding: 0;}#sk-container-id-6 div.sk-toggleable {background-color: white;}#sk-container-id-6 label.sk-toggleable__label {cursor: pointer;display: block;width: 100%;margin-bottom: 0;padding: 0.3em;box-sizing: border-box;text-align: center;}#sk-container-id-6 label.sk-toggleable__label-arrow:before {content: \"▸\";float: left;margin-right: 0.25em;color: #696969;}#sk-container-id-6 label.sk-toggleable__label-arrow:hover:before {color: black;}#sk-container-id-6 div.sk-estimator:hover label.sk-toggleable__label-arrow:before {color: black;}#sk-container-id-6 div.sk-toggleable__content {max-height: 0;max-width: 0;overflow: hidden;text-align: left;background-color: #f0f8ff;}#sk-container-id-6 div.sk-toggleable__content pre {margin: 0.2em;color: black;border-radius: 0.25em;background-color: #f0f8ff;}#sk-container-id-6 input.sk-toggleable__control:checked~div.sk-toggleable__content {max-height: 200px;max-width: 100%;overflow: auto;}#sk-container-id-6 input.sk-toggleable__control:checked~label.sk-toggleable__label-arrow:before {content: \"▾\";}#sk-container-id-6 div.sk-estimator input.sk-toggleable__control:checked~label.sk-toggleable__label {background-color: #d4ebff;}#sk-container-id-6 div.sk-label input.sk-toggleable__control:checked~label.sk-toggleable__label {background-color: #d4ebff;}#sk-container-id-6 input.sk-hidden--visually {border: 0;clip: rect(1px 1px 1px 1px);clip: rect(1px, 1px, 1px, 1px);height: 1px;margin: -1px;overflow: hidden;padding: 0;position: absolute;width: 1px;}#sk-container-id-6 div.sk-estimator {font-family: monospace;background-color: #f0f8ff;border: 1px dotted black;border-radius: 0.25em;box-sizing: border-box;margin-bottom: 0.5em;}#sk-container-id-6 div.sk-estimator:hover {background-color: #d4ebff;}#sk-container-id-6 div.sk-parallel-item::after {content: \"\";width: 100%;border-bottom: 1px solid gray;flex-grow: 1;}#sk-container-id-6 div.sk-label:hover label.sk-toggleable__label {background-color: #d4ebff;}#sk-container-id-6 div.sk-serial::before {content: \"\";position: absolute;border-left: 1px solid gray;box-sizing: border-box;top: 0;bottom: 0;left: 50%;z-index: 0;}#sk-container-id-6 div.sk-serial {display: flex;flex-direction: column;align-items: center;background-color: white;padding-right: 0.2em;padding-left: 0.2em;position: relative;}#sk-container-id-6 div.sk-item {position: relative;z-index: 1;}#sk-container-id-6 div.sk-parallel {display: flex;align-items: stretch;justify-content: center;background-color: white;position: relative;}#sk-container-id-6 div.sk-item::before, #sk-container-id-6 div.sk-parallel-item::before {content: \"\";position: absolute;border-left: 1px solid gray;box-sizing: border-box;top: 0;bottom: 0;left: 50%;z-index: -1;}#sk-container-id-6 div.sk-parallel-item {display: flex;flex-direction: column;z-index: 1;position: relative;background-color: white;}#sk-container-id-6 div.sk-parallel-item:first-child::after {align-self: flex-end;width: 50%;}#sk-container-id-6 div.sk-parallel-item:last-child::after {align-self: flex-start;width: 50%;}#sk-container-id-6 div.sk-parallel-item:only-child::after {width: 0;}#sk-container-id-6 div.sk-dashed-wrapped {border: 1px dashed gray;margin: 0 0.4em 0.5em 0.4em;box-sizing: border-box;padding-bottom: 0.4em;background-color: white;}#sk-container-id-6 div.sk-label label {font-family: monospace;font-weight: bold;display: inline-block;line-height: 1.2em;}#sk-container-id-6 div.sk-label-container {text-align: center;}#sk-container-id-6 div.sk-container {/* jupyter's `normalize.less` sets `[hidden] { display: none; }` but bootstrap.min.css set `[hidden] { display: none !important; }` so we also need the `!important` here to be able to override the default hidden behavior on the sphinx rendered scikit-learn.org. See: https://github.com/scikit-learn/scikit-learn/issues/21755 */display: inline-block !important;position: relative;}#sk-container-id-6 div.sk-text-repr-fallback {display: none;}</style><div id=\"sk-container-id-6\" class=\"sk-top-container\"><div class=\"sk-text-repr-fallback\"><pre>LinearRegression()</pre><b>In a Jupyter environment, please rerun this cell to show the HTML representation or trust the notebook. <br />On GitHub, the HTML representation is unable to render, please try loading this page with nbviewer.org.</b></div><div class=\"sk-container\" hidden><div class=\"sk-item\"><div class=\"sk-estimator sk-toggleable\"><input class=\"sk-toggleable__control sk-hidden--visually\" id=\"sk-estimator-id-12\" type=\"checkbox\" checked><label for=\"sk-estimator-id-12\" class=\"sk-toggleable__label sk-toggleable__label-arrow\">LinearRegression</label><div class=\"sk-toggleable__content\"><pre>LinearRegression()</pre></div></div></div></div></div>"
      ],
      "text/plain": [
       "LinearRegression()"
      ]
     },
     "execution_count": 288,
     "metadata": {},
     "output_type": "execute_result"
    }
   ],
   "source": [
    "lrM.fit(X_train,y_train)"
   ]
  },
  {
   "cell_type": "code",
   "execution_count": 289,
   "metadata": {},
   "outputs": [
    {
     "data": {
      "text/plain": [
       "Index(['quality_of_education', 'quality_of_faculty', 'national_rank'], dtype='object')"
      ]
     },
     "execution_count": 289,
     "metadata": {},
     "output_type": "execute_result"
    }
   ],
   "source": [
    "X_train.columns"
   ]
  },
  {
   "cell_type": "code",
   "execution_count": 290,
   "metadata": {},
   "outputs": [
    {
     "data": {
      "text/html": [
       "<div>\n",
       "<style scoped>\n",
       "    .dataframe tbody tr th:only-of-type {\n",
       "        vertical-align: middle;\n",
       "    }\n",
       "\n",
       "    .dataframe tbody tr th {\n",
       "        vertical-align: top;\n",
       "    }\n",
       "\n",
       "    .dataframe thead th {\n",
       "        text-align: right;\n",
       "    }\n",
       "</style>\n",
       "<table border=\"1\" class=\"dataframe\">\n",
       "  <thead>\n",
       "    <tr style=\"text-align: right;\">\n",
       "      <th></th>\n",
       "      <th>quality_of_education</th>\n",
       "      <th>quality_of_faculty</th>\n",
       "      <th>national_rank</th>\n",
       "    </tr>\n",
       "  </thead>\n",
       "  <tbody>\n",
       "    <tr>\n",
       "      <th>count</th>\n",
       "      <td>1758.000000</td>\n",
       "      <td>1758.000000</td>\n",
       "      <td>1758.000000</td>\n",
       "    </tr>\n",
       "    <tr>\n",
       "      <th>mean</th>\n",
       "      <td>274.659841</td>\n",
       "      <td>178.639363</td>\n",
       "      <td>40.426052</td>\n",
       "    </tr>\n",
       "    <tr>\n",
       "      <th>std</th>\n",
       "      <td>122.228684</td>\n",
       "      <td>64.103881</td>\n",
       "      <td>51.653060</td>\n",
       "    </tr>\n",
       "    <tr>\n",
       "      <th>min</th>\n",
       "      <td>1.000000</td>\n",
       "      <td>1.000000</td>\n",
       "      <td>1.000000</td>\n",
       "    </tr>\n",
       "    <tr>\n",
       "      <th>25%</th>\n",
       "      <td>170.500000</td>\n",
       "      <td>172.000000</td>\n",
       "      <td>6.000000</td>\n",
       "    </tr>\n",
       "    <tr>\n",
       "      <th>50%</th>\n",
       "      <td>355.000000</td>\n",
       "      <td>210.000000</td>\n",
       "      <td>21.500000</td>\n",
       "    </tr>\n",
       "    <tr>\n",
       "      <th>75%</th>\n",
       "      <td>367.000000</td>\n",
       "      <td>218.000000</td>\n",
       "      <td>50.000000</td>\n",
       "    </tr>\n",
       "    <tr>\n",
       "      <th>max</th>\n",
       "      <td>367.000000</td>\n",
       "      <td>218.000000</td>\n",
       "      <td>229.000000</td>\n",
       "    </tr>\n",
       "  </tbody>\n",
       "</table>\n",
       "</div>"
      ],
      "text/plain": [
       "       quality_of_education  quality_of_faculty  national_rank\n",
       "count           1758.000000         1758.000000    1758.000000\n",
       "mean             274.659841          178.639363      40.426052\n",
       "std              122.228684           64.103881      51.653060\n",
       "min                1.000000            1.000000       1.000000\n",
       "25%              170.500000          172.000000       6.000000\n",
       "50%              355.000000          210.000000      21.500000\n",
       "75%              367.000000          218.000000      50.000000\n",
       "max              367.000000          218.000000     229.000000"
      ]
     },
     "execution_count": 290,
     "metadata": {},
     "output_type": "execute_result"
    }
   ],
   "source": [
    "X_train.describe()"
   ]
  },
  {
   "cell_type": "markdown",
   "metadata": {},
   "source": [
    "### NOTE: to predict for a new faculty the accuracy for this model is 50%"
   ]
  },
  {
   "cell_type": "code",
   "execution_count": 291,
   "metadata": {},
   "outputs": [
    {
     "name": "stderr",
     "output_type": "stream",
     "text": [
      "C:\\Users\\Eddie\\anaconda3\\lib\\site-packages\\sklearn\\base.py:439: UserWarning:\n",
      "\n",
      "X does not have valid feature names, but LinearRegression was fitted with feature names\n",
      "\n"
     ]
    },
    {
     "data": {
      "text/plain": [
       "array([62.03405728])"
      ]
     },
     "execution_count": 291,
     "metadata": {},
     "output_type": "execute_result"
    }
   ],
   "source": [
    "# i want to predict a new score for the institution\n",
    "\n",
    "\n",
    "lrM.predict([[1,1,1]])"
   ]
  },
  {
   "cell_type": "code",
   "execution_count": 292,
   "metadata": {},
   "outputs": [
    {
     "name": "stderr",
     "output_type": "stream",
     "text": [
      "C:\\Users\\Eddie\\anaconda3\\lib\\site-packages\\sklearn\\base.py:439: UserWarning:\n",
      "\n",
      "X does not have valid feature names, but LinearRegression was fitted with feature names\n",
      "\n"
     ]
    },
    {
     "data": {
      "text/plain": [
       "array([43.18622934])"
      ]
     },
     "execution_count": 292,
     "metadata": {},
     "output_type": "execute_result"
    }
   ],
   "source": [
    "# i want to predict a new score for the institution\n",
    "\n",
    "\n",
    "lrM.predict([[367,218,229]])"
   ]
  }
 ],
 "metadata": {
  "kernelspec": {
   "display_name": "Python 3 (ipykernel)",
   "language": "python",
   "name": "python3"
  },
  "language_info": {
   "codemirror_mode": {
    "name": "ipython",
    "version": 3
   },
   "file_extension": ".py",
   "mimetype": "text/x-python",
   "name": "python",
   "nbconvert_exporter": "python",
   "pygments_lexer": "ipython3",
   "version": "3.8.5"
  }
 },
 "nbformat": 4,
 "nbformat_minor": 4
}
